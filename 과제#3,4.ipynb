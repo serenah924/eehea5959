{
 "cells": [
  {
   "cell_type": "code",
   "execution_count": 16,
   "id": "0c047e6e",
   "metadata": {},
   "outputs": [],
   "source": [
    "#8-4\n",
    "class Marine:\n",
    "    health, ap = 40, 5\n",
    "\n",
    "    def attack(self, target):\n",
    "        target.health -= self.ap #m1=self, m2=target"
   ]
  },
  {
   "cell_type": "code",
   "execution_count": 17,
   "id": "dac0c22a",
   "metadata": {
    "scrolled": true
   },
   "outputs": [
    {
     "data": {
      "text/plain": [
       "(40, 40, 5, 5)"
      ]
     },
     "execution_count": 17,
     "metadata": {},
     "output_type": "execute_result"
    }
   ],
   "source": [
    "m1=Marine()\n",
    "m2=Marine()\n",
    "m1.health, m2.health, m1.ap, m2.ap"
   ]
  },
  {
   "cell_type": "code",
   "execution_count": 3,
   "id": "9b130362",
   "metadata": {},
   "outputs": [],
   "source": [
    "m1.attack(m2)"
   ]
  },
  {
   "cell_type": "code",
   "execution_count": 4,
   "id": "5be9c9aa",
   "metadata": {
    "scrolled": true
   },
   "outputs": [
    {
     "data": {
      "text/plain": [
       "(40, 35, 5, 5)"
      ]
     },
     "execution_count": 4,
     "metadata": {},
     "output_type": "execute_result"
    }
   ],
   "source": [
    "m1.health, m2.health, m1.ap, m2.ap"
   ]
  },
  {
   "cell_type": "code",
   "execution_count": null,
   "id": "85ec7683",
   "metadata": {},
   "outputs": [],
   "source": []
  },
  {
   "cell_type": "code",
   "execution_count": null,
   "id": "e5e58cb4",
   "metadata": {},
   "outputs": [],
   "source": [
    "#8-10\n",
    "문제. 아래의 코드에서 아래의 조건을 추가하여 클래스의 코드를 수정 또는 추가하세요.\n",
    "생성자 메서드 사용\n",
    "max_health 추가\n",
    "체력이 0이하이면 공격해도 체력이 감소하지 않음\n",
    "\n",
    "    health, ap = 40, 5\n",
    "​\n",
    "    def attack(self, target):\n",
    "        target.health -= self.ap\n",
    "# CODE\n",
    "문제. 메딕 클래스를 생성하세요.\n",
    "메딕 클래스 생성 : Medic : health=60, hp=6\n",
    "체력이 최대 체력이면 치료해도 체력이 증가하지 않음"
   ]
  },
  {
   "cell_type": "code",
   "execution_count": 50,
   "id": "41ce7028",
   "metadata": {},
   "outputs": [],
   "source": [
    "class Marine_bound:\n",
    "    def __init__(self, health=40, ap=5):\n",
    "        self.health = health\n",
    "        self.ap = ap\n",
    "    def attack (self, target):\n",
    "        target.health -= self.ap\n",
    "        if target.health <= 0 :\n",
    "            target.health =0\n"
   ]
  },
  {
   "cell_type": "code",
   "execution_count": 51,
   "id": "f711b815",
   "metadata": {},
   "outputs": [],
   "source": [
    "class Medic :\n",
    "    def __init__(self, health=60, ap=6):\n",
    "        self.health = health\n",
    "        self.hp = hp\n",
    "    def heal (self, target):\n",
    "        target.health += self.hp"
   ]
  },
  {
   "cell_type": "code",
   "execution_count": 52,
   "id": "458adb7f",
   "metadata": {},
   "outputs": [
    {
     "data": {
      "text/plain": [
       "(40, 5, 70, 8)"
      ]
     },
     "execution_count": 52,
     "metadata": {},
     "output_type": "execute_result"
    }
   ],
   "source": [
    "m1=Marine_bound()\n",
    "m2=Marine_bound(70, 8)\n",
    "m1.health, m1.ap, m2.health, m2.ap"
   ]
  },
  {
   "cell_type": "code",
   "execution_count": 57,
   "id": "ed126793",
   "metadata": {},
   "outputs": [
    {
     "data": {
      "text/plain": [
       "(0, 5, 70, 8)"
      ]
     },
     "execution_count": 57,
     "metadata": {},
     "output_type": "execute_result"
    }
   ],
   "source": [
    "#5 번째 공격\n",
    "m2.attack(m1)\n",
    "m1.health, m1.ap, m2.health, m2.ap"
   ]
  },
  {
   "cell_type": "code",
   "execution_count": 58,
   "id": "d0ae9a3c",
   "metadata": {},
   "outputs": [
    {
     "data": {
      "text/plain": [
       "(0, 5, 70, 8)"
      ]
     },
     "execution_count": 58,
     "metadata": {},
     "output_type": "execute_result"
    }
   ],
   "source": [
    "m2.attack(m1)\n",
    "m1.health, m1.ap, m2.health, m2.ap"
   ]
  },
  {
   "cell_type": "code",
   "execution_count": 72,
   "id": "2722001e",
   "metadata": {},
   "outputs": [],
   "source": [
    "class Marine_cap :\n",
    "    def __init__(self, health=40, ap=5):\n",
    "        self.max_health = self.health = health\n",
    "        self.ap = ap\n",
    "    def attack (self, target):\n",
    "        target.health -= self.ap\n",
    "        if target.health <= 0 :\n",
    "            target.health =0\n"
   ]
  },
  {
   "cell_type": "code",
   "execution_count": 73,
   "id": "1fa17615",
   "metadata": {},
   "outputs": [],
   "source": [
    "class Medic_cap :\n",
    "    def __init__(self, health=60, hp=6):\n",
    "        self.max_health = self.health = health\n",
    "        self.hp = hp\n",
    "    def heal (self, target):\n",
    "        if target.health == 0 :\n",
    "            return    #공격받아도 체력에 영향이 없음.아래 코드전에 중단.\n",
    "        target.health += self.hp\n",
    "        if target.health > target.max_health :\n",
    "            target.health = target.max_health\n",
    "        "
   ]
  },
  {
   "cell_type": "code",
   "execution_count": 74,
   "id": "f1399fb2",
   "metadata": {},
   "outputs": [
    {
     "data": {
      "text/plain": [
       "(40, 5, 70, 8)"
      ]
     },
     "execution_count": 74,
     "metadata": {},
     "output_type": "execute_result"
    }
   ],
   "source": [
    "m1=Marine_cap()\n",
    "m2=Marine_cap(70, 8)\n",
    "m1.health, m1.ap, m2.health, m2.ap"
   ]
  },
  {
   "cell_type": "code",
   "execution_count": 75,
   "id": "4d799479",
   "metadata": {},
   "outputs": [
    {
     "data": {
      "text/plain": [
       "(60, 6)"
      ]
     },
     "execution_count": 75,
     "metadata": {},
     "output_type": "execute_result"
    }
   ],
   "source": [
    "medic_cap = Medic_cap()\n",
    "medic_cap.health, medic_cap.hp"
   ]
  },
  {
   "cell_type": "code",
   "execution_count": 77,
   "id": "491ccee0",
   "metadata": {},
   "outputs": [
    {
     "data": {
      "text/plain": [
       "(40, 5, 70, 8)"
      ]
     },
     "execution_count": 77,
     "metadata": {},
     "output_type": "execute_result"
    }
   ],
   "source": [
    "medic_cap.heal(m1)\n",
    "medic_cap.heal(m1)\n",
    "m1.health, m1.ap, m2.health, m2.ap"
   ]
  },
  {
   "cell_type": "code",
   "execution_count": 71,
   "id": "a0a2ad7e",
   "metadata": {
    "scrolled": false
   },
   "outputs": [
    {
     "data": {
      "text/plain": [
       "(40, 5, 70, 8)"
      ]
     },
     "execution_count": 71,
     "metadata": {},
     "output_type": "execute_result"
    }
   ],
   "source": [
    "medic_cap.heal(m1)\n",
    "medic_cap.heal(m1)\n",
    "m1.health, m1.ap, m2.health, m2.ap"
   ]
  },
  {
   "cell_type": "code",
   "execution_count": null,
   "id": "b2831a50",
   "metadata": {},
   "outputs": [],
   "source": []
  },
  {
   "cell_type": "code",
   "execution_count": 81,
   "id": "08a0b9f3",
   "metadata": {
    "collapsed": true
   },
   "outputs": [
    {
     "name": "stdout",
     "output_type": "stream",
     "text": [
      "Help on class Exception in module builtins:\n",
      "\n",
      "class Exception(BaseException)\n",
      " |  Common base class for all non-exit exceptions.\n",
      " |  \n",
      " |  Method resolution order:\n",
      " |      Exception\n",
      " |      BaseException\n",
      " |      object\n",
      " |  \n",
      " |  Built-in subclasses:\n",
      " |      ArithmeticError\n",
      " |      AssertionError\n",
      " |      AttributeError\n",
      " |      BufferError\n",
      " |      ... and 15 other subclasses\n",
      " |  \n",
      " |  Methods defined here:\n",
      " |  \n",
      " |  __init__(self, /, *args, **kwargs)\n",
      " |      Initialize self.  See help(type(self)) for accurate signature.\n",
      " |  \n",
      " |  ----------------------------------------------------------------------\n",
      " |  Static methods defined here:\n",
      " |  \n",
      " |  __new__(*args, **kwargs) from builtins.type\n",
      " |      Create and return a new object.  See help(type) for accurate signature.\n",
      " |  \n",
      " |  ----------------------------------------------------------------------\n",
      " |  Methods inherited from BaseException:\n",
      " |  \n",
      " |  __delattr__(self, name, /)\n",
      " |      Implement delattr(self, name).\n",
      " |  \n",
      " |  __getattribute__(self, name, /)\n",
      " |      Return getattr(self, name).\n",
      " |  \n",
      " |  __reduce__(...)\n",
      " |      Helper for pickle.\n",
      " |  \n",
      " |  __repr__(self, /)\n",
      " |      Return repr(self).\n",
      " |  \n",
      " |  __setattr__(self, name, value, /)\n",
      " |      Implement setattr(self, name, value).\n",
      " |  \n",
      " |  __setstate__(...)\n",
      " |  \n",
      " |  __str__(self, /)\n",
      " |      Return str(self).\n",
      " |  \n",
      " |  with_traceback(...)\n",
      " |      Exception.with_traceback(tb) --\n",
      " |      set self.__traceback__ to tb and return self.\n",
      " |  \n",
      " |  ----------------------------------------------------------------------\n",
      " |  Data descriptors inherited from BaseException:\n",
      " |  \n",
      " |  __cause__\n",
      " |      exception cause\n",
      " |  \n",
      " |  __context__\n",
      " |      exception context\n",
      " |  \n",
      " |  __dict__\n",
      " |  \n",
      " |  __suppress_context__\n",
      " |  \n",
      " |  __traceback__\n",
      " |  \n",
      " |  args\n",
      "\n"
     ]
    }
   ],
   "source": [
    "help(Exception)"
   ]
  },
  {
   "cell_type": "code",
   "execution_count": 92,
   "id": "f80a504a",
   "metadata": {},
   "outputs": [],
   "source": [
    "#11-3\n",
    "#isinstance(data1, (int, float)) -> int나 float이면 true, or false.\n",
    "\n",
    "class  Notnumber (Exception):\n",
    "    def __str__(self):\n",
    "        return 'insert int or float datatype!'\n",
    "#Exception이라고 하는 global 변수가 존재함.\n",
    "    "
   ]
  },
  {
   "cell_type": "code",
   "execution_count": 89,
   "id": "d7aea78e",
   "metadata": {},
   "outputs": [],
   "source": [
    "def echo (number):\n",
    "    if not isinstance(number, (int, float)):\n",
    "       raise Notnumber() #강제로 에러 발생. 강제로 안하려면 return'@'.\n",
    "    print(number)"
   ]
  },
  {
   "cell_type": "code",
   "execution_count": 90,
   "id": "591f211b",
   "metadata": {},
   "outputs": [
    {
     "name": "stdout",
     "output_type": "stream",
     "text": [
      "10\n"
     ]
    }
   ],
   "source": [
    "echo(10)"
   ]
  },
  {
   "cell_type": "code",
   "execution_count": 93,
   "id": "0a8ec2cb",
   "metadata": {
    "scrolled": false
   },
   "outputs": [
    {
     "ename": "Notnumber",
     "evalue": "insert int or float datatype!",
     "output_type": "error",
     "traceback": [
      "\u001b[1;31m---------------------------------------------------------------------------\u001b[0m",
      "\u001b[1;31mNotnumber\u001b[0m                                 Traceback (most recent call last)",
      "\u001b[1;32m<ipython-input-93-07a87c3436bd>\u001b[0m in \u001b[0;36m<module>\u001b[1;34m\u001b[0m\n\u001b[1;32m----> 1\u001b[1;33m \u001b[0mecho\u001b[0m\u001b[1;33m(\u001b[0m\u001b[1;34m'python'\u001b[0m\u001b[1;33m)\u001b[0m\u001b[1;33m\u001b[0m\u001b[1;33m\u001b[0m\u001b[0m\n\u001b[0m",
      "\u001b[1;32m<ipython-input-89-2c152b4cb13d>\u001b[0m in \u001b[0;36mecho\u001b[1;34m(number)\u001b[0m\n\u001b[0;32m      1\u001b[0m \u001b[1;32mdef\u001b[0m \u001b[0mecho\u001b[0m \u001b[1;33m(\u001b[0m\u001b[0mnumber\u001b[0m\u001b[1;33m)\u001b[0m\u001b[1;33m:\u001b[0m\u001b[1;33m\u001b[0m\u001b[1;33m\u001b[0m\u001b[0m\n\u001b[0;32m      2\u001b[0m     \u001b[1;32mif\u001b[0m \u001b[1;32mnot\u001b[0m \u001b[0misinstance\u001b[0m\u001b[1;33m(\u001b[0m\u001b[0mnumber\u001b[0m\u001b[1;33m,\u001b[0m \u001b[1;33m(\u001b[0m\u001b[0mint\u001b[0m\u001b[1;33m,\u001b[0m \u001b[0mfloat\u001b[0m\u001b[1;33m)\u001b[0m\u001b[1;33m)\u001b[0m\u001b[1;33m:\u001b[0m\u001b[1;33m\u001b[0m\u001b[1;33m\u001b[0m\u001b[0m\n\u001b[1;32m----> 3\u001b[1;33m        \u001b[1;32mraise\u001b[0m \u001b[0mNotnumber\u001b[0m\u001b[1;33m(\u001b[0m\u001b[1;33m)\u001b[0m \u001b[1;31m#강제로 에러 발생. 강제로 안하려면 return'@'.\u001b[0m\u001b[1;33m\u001b[0m\u001b[1;33m\u001b[0m\u001b[0m\n\u001b[0m\u001b[0;32m      4\u001b[0m     \u001b[0mprint\u001b[0m\u001b[1;33m(\u001b[0m\u001b[0mnumber\u001b[0m\u001b[1;33m)\u001b[0m\u001b[1;33m\u001b[0m\u001b[1;33m\u001b[0m\u001b[0m\n",
      "\u001b[1;31mNotnumber\u001b[0m: insert int or float datatype!"
     ]
    }
   ],
   "source": [
    "echo('python')"
   ]
  },
  {
   "cell_type": "code",
   "execution_count": null,
   "id": "6902711f",
   "metadata": {},
   "outputs": [],
   "source": []
  },
  {
   "cell_type": "code",
   "execution_count": 118,
   "id": "f8e3b0f3",
   "metadata": {},
   "outputs": [
    {
     "data": {
      "text/plain": [
       "['pdj1224@gmail.com', 'radajin1224@gmail.com']"
      ]
     },
     "execution_count": 118,
     "metadata": {},
     "output_type": "execute_result"
    }
   ],
   "source": [
    "#12-4\n",
    "import re\n",
    "\n",
    "data = \"저의 이메일 주소는 pdj1224@gmail.com 입니다. \\\n",
    "또한 radajin1224@gmail.com 도 가지고 있습니다.\"\n",
    "re.findall('[a-zA-Z0-9_\\.]+@[a-z0-9]+\\.[a-z]+', data)"
   ]
  },
  {
   "cell_type": "code",
   "execution_count": 117,
   "id": "317a9511",
   "metadata": {},
   "outputs": [
    {
     "data": {
      "text/plain": [
       "['jazz_97@gmail.com']"
      ]
     },
     "execution_count": 117,
     "metadata": {},
     "output_type": "execute_result"
    }
   ],
   "source": [
    "data2 ='My email address is jazz_97@gmail.com'\n",
    "re.findall('[a-zA-Z0-9_\\.]+@[a-z0-9]+\\.[a-z]+', data2)"
   ]
  },
  {
   "cell_type": "code",
   "execution_count": 113,
   "id": "2f899c30",
   "metadata": {},
   "outputs": [
    {
     "data": {
      "text/plain": [
       "['gmail']"
      ]
     },
     "execution_count": 113,
     "metadata": {},
     "output_type": "execute_result"
    }
   ],
   "source": [
    "re.findall('[a-zA-Z0-9_\\.]+@([a-z0-9]+)\\.[a-z]+', data2)"
   ]
  },
  {
   "cell_type": "code",
   "execution_count": 114,
   "id": "60241764",
   "metadata": {},
   "outputs": [
    {
     "data": {
      "text/plain": [
       "['My', 'email', 'address', 'is', 'jazz', 'gmail', 'com']"
      ]
     },
     "execution_count": 114,
     "metadata": {},
     "output_type": "execute_result"
    }
   ],
   "source": [
    "re.findall('[a-zA-Zㄱ-힣]+', data2)"
   ]
  },
  {
   "cell_type": "code",
   "execution_count": null,
   "id": "8e410ea4",
   "metadata": {},
   "outputs": [],
   "source": []
  },
  {
   "cell_type": "code",
   "execution_count": null,
   "id": "019925ff",
   "metadata": {},
   "outputs": [],
   "source": [
    "#12-5. 정규표현식으로 문장에서 패턴으로 문자열을 변경하는 문제\n",
    "'''문제. 주민등록번호를 group 나눠서 변경하는 코드를 작성하세요.\n",
    "761211-1023334 -> 761211-***\n",
    "() 그룹핑을 사용 : 그룹핑의 데이터 사용은 \\g<1> 으로 사용\n",
    "data = \"저의 주민등록번호는 761231-1098913 과 7612111098013 입니다.\" '''\n"
   ]
  },
  {
   "cell_type": "code",
   "execution_count": 121,
   "id": "5c825390",
   "metadata": {},
   "outputs": [
    {
     "data": {
      "text/plain": [
       "'저의 주민등록번호는 761231-******* 과 761211-******* 입니다.'"
      ]
     },
     "execution_count": 121,
     "metadata": {},
     "output_type": "execute_result"
    }
   ],
   "source": [
    "data_p = \"저의 주민등록번호는 761231-1098913 과 7612111098013 입니다.\"\n",
    "grp = ('([0-9]{6}).?([1-4][0-9]{6})')\n",
    "re.findall(grp, data_p)\n",
    "re.sub(grp, '\\g<1>-*******', data_p)"
   ]
  },
  {
   "cell_type": "code",
   "execution_count": 123,
   "id": "7629c22f",
   "metadata": {},
   "outputs": [
    {
     "data": {
      "text/plain": [
       "'저의 주민등록번호는 761231-*******3 과 761211-*******3 입니다.'"
      ]
     },
     "execution_count": 123,
     "metadata": {},
     "output_type": "execute_result"
    }
   ],
   "source": [
    "grp = ('([0-9]{6}).?([1-4][0-9]{5})')\n",
    "re.findall(grp, data_p)\n",
    "re.sub(grp, '\\g<1>-*******', data_p)"
   ]
  },
  {
   "cell_type": "code",
   "execution_count": 128,
   "id": "d57c946b",
   "metadata": {},
   "outputs": [
    {
     "data": {
      "text/plain": [
       "'저의 주민등록번호는 761231-1****** 과 7612111****** 입니다.'"
      ]
     },
     "execution_count": 128,
     "metadata": {},
     "output_type": "execute_result"
    }
   ],
   "source": [
    "data_p = \"저의 주민등록번호는 761231-1098913 과 7612111098013 입니다.\"\n",
    "grp = ('([0-9]{6}.?[1-4])([0-9]{6})')\n",
    "re.findall(grp, data_p)\n",
    "re.sub(grp, '\\g<1>******', data_p)"
   ]
  },
  {
   "cell_type": "code",
   "execution_count": 131,
   "id": "1b0b773e",
   "metadata": {},
   "outputs": [
    {
     "data": {
      "text/plain": [
       "'저의 카드번호는 1238-****-7611-****입니다.'"
      ]
     },
     "execution_count": 131,
     "metadata": {},
     "output_type": "execute_result"
    }
   ],
   "source": [
    "data_c = \"저의 카드번호는 1238-7611-1098-0913 입니다.\"\n",
    "grp_c = ('([0-9]{4}).?([0-9]{4}).?([0-9]{4}).?([0-9]{4}).?')\n",
    "re.findall(grp_c, data_c)\n",
    "re.sub(grp_c, '\\g<1>-****-\\g<2>-****',data_c)"
   ]
  },
  {
   "cell_type": "code",
   "execution_count": null,
   "id": "cc8a2957",
   "metadata": {},
   "outputs": [],
   "source": []
  },
  {
   "cell_type": "code",
   "execution_count": null,
   "id": "8bd9218a",
   "metadata": {},
   "outputs": [],
   "source": [
    "#12-06. \n",
    "'''정규표현식을 사용하여 숫자,영문,한글로 작성된 전화번호를 숫자로 변경하는 문제\n",
    "data = \"안녕하세요, 저의 전화번호는 영일공-48구삼-삼7이사 \\\n",
    "그리고 010사팔구삼삼구삼일 입니다. 둘중에 하나로 연락하세요\"'''"
   ]
  },
  {
   "cell_type": "code",
   "execution_count": 135,
   "id": "d59e5b0c",
   "metadata": {},
   "outputs": [],
   "source": [
    "data_pn = \"안녕하세요, 저의 전화번호는 영일공-48구삼-삼7이사 \\\n",
    "그리고 010사팔구삼삼구삼일 입니다. 둘중에 하나로 연락하세요\""
   ]
  },
  {
   "cell_type": "code",
   "execution_count": 169,
   "id": "89a47a58",
   "metadata": {},
   "outputs": [
    {
     "data": {
      "text/plain": [
       "['영일공-48구삼-삼7이사', '010사팔구삼삼구삼일']"
      ]
     },
     "execution_count": 169,
     "metadata": {},
     "output_type": "execute_result"
    }
   ],
   "source": [
    "pt = '[0-9o0영일공]{3}.?[0-9영공일이삼사오육칠팔구십oOIl]{3,4}.?[0-9영공일이삼사오육칠팔구십oOI]{4}'\n",
    "numbers = re.findall(pt, data_pn)\n",
    "numbers"
   ]
  },
  {
   "cell_type": "code",
   "execution_count": 170,
   "id": "edde1d99",
   "metadata": {},
   "outputs": [
    {
     "data": {
      "text/plain": [
       "['영일공48구삼삼7이사', '010사팔구삼삼구삼일']"
      ]
     },
     "execution_count": 170,
     "metadata": {},
     "output_type": "execute_result"
    }
   ],
   "source": [
    "pnumbers = [number.replace('-', '') for number in pnumbers]\n",
    "pnumbers"
   ]
  },
  {
   "cell_type": "code",
   "execution_count": 171,
   "id": "b266a182",
   "metadata": {},
   "outputs": [],
   "source": [
    "number_map = {'영':0, '공':0,'일':1, '이':2, '삼':3, '사':4, '오':5, \\\n",
    "              '육':6,'칠':7,'팔':8, '구':9, 'o':0, 'O':0, 'I':1,'l':1}"
   ]
  },
  {
   "cell_type": "code",
   "execution_count": 172,
   "id": "dd816430",
   "metadata": {},
   "outputs": [
    {
     "name": "stdout",
     "output_type": "stream",
     "text": [
      "영일공48구삼삼7이사\n",
      "010사팔구삼삼구삼일\n"
     ]
    },
    {
     "data": {
      "text/plain": [
       "['01048933724', '01048933931']"
      ]
     },
     "execution_count": 172,
     "metadata": {},
     "output_type": "execute_result"
    }
   ],
   "source": [
    "result=[]\n",
    "for number in pnumbers:\n",
    "    print(number)\n",
    "    for key, value in number_map.items():\n",
    "        number = number.replace(key, str(value))\n",
    "    result.append(number)\n",
    "result"
   ]
  }
 ],
 "metadata": {
  "kernelspec": {
   "display_name": "Python 3",
   "language": "python",
   "name": "python3"
  },
  "language_info": {
   "codemirror_mode": {
    "name": "ipython",
    "version": 3
   },
   "file_extension": ".py",
   "mimetype": "text/x-python",
   "name": "python",
   "nbconvert_exporter": "python",
   "pygments_lexer": "ipython3",
   "version": "3.8.8"
  }
 },
 "nbformat": 4,
 "nbformat_minor": 5
}
