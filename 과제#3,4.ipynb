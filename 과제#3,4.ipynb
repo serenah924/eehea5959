#8-4
class Marine:
    health, ap = 40, 5

    def attack(self, target):
        target.health -= self.ap #m1=self, m2=target

m1=Marine()
m2=Marine()
m1.health, m2.health, m1.ap, m2.ap

m1.attack(m2)

m1.health, m2.health, m1.ap, m2.ap



#8-10
문제. 아래의 코드에서 아래의 조건을 추가하여 클래스의 코드를 수정 또는 추가하세요.
생성자 메서드 사용
max_health 추가
체력이 0이하이면 공격해도 체력이 감소하지 않음

    health, ap = 40, 5
​
    def attack(self, target):
        target.health -= self.ap
# CODE
문제. 메딕 클래스를 생성하세요.
메딕 클래스 생성 : Medic : health=60, hp=6
체력이 최대 체력이면 치료해도 체력이 증가하지 않음

class Marine_bound:
    def __init__(self, health=40, ap=5):
        self.health = health
        self.ap = ap
    def attack (self, target):
        target.health -= self.ap
        if target.health <= 0 :
            target.health =0


class Medic :
    def __init__(self, health=60, ap=6):
        self.health = health
        self.hp = hp
    def heal (self, target):
        target.health += self.hp

m1=Marine_bound()
m2=Marine_bound(70, 8)
m1.health, m1.ap, m2.health, m2.ap

#5 번째 공격
m2.attack(m1)
m1.health, m1.ap, m2.health, m2.ap

m2.attack(m1)
m1.health, m1.ap, m2.health, m2.ap

class Marine_cap :
    def __init__(self, health=40, ap=5):
        self.max_health = self.health = health
        self.ap = ap
    def attack (self, target):
        target.health -= self.ap
        if target.health <= 0 :
            target.health =0


class Medic_cap :
    def __init__(self, health=60, hp=6):
        self.max_health = self.health = health
        self.hp = hp
    def heal (self, target):
        if target.health == 0 :
            return    #공격받아도 체력에 영향이 없음.아래 코드전에 중단.
        target.health += self.hp
        if target.health > target.max_health :
            target.health = target.max_health
        

m1=Marine_cap()
m2=Marine_cap(70, 8)
m1.health, m1.ap, m2.health, m2.ap

medic_cap = Medic_cap()
medic_cap.health, medic_cap.hp

medic_cap.heal(m1)
medic_cap.heal(m1)
m1.health, m1.ap, m2.health, m2.ap

medic_cap.heal(m1)
medic_cap.heal(m1)
m1.health, m1.ap, m2.health, m2.ap



help(Exception)

#11-3
#isinstance(data1, (int, float)) -> int나 float이면 true, or false.

class  Notnumber (Exception):
    def __str__(self):
        return 'insert int or float datatype!'
#Exception이라고 하는 global 변수가 존재함.
    

def echo (number):
    if not isinstance(number, (int, float)):
       raise Notnumber() #강제로 에러 발생. 강제로 안하려면 return'@'.
    print(number)

echo(10)

echo('python')



#12-4
import re

data = "저의 이메일 주소는 pdj1224@gmail.com 입니다. \
또한 radajin1224@gmail.com 도 가지고 있습니다."
re.findall('[a-zA-Z0-9_\.]+@[a-z0-9]+\.[a-z]+', data)

data2 ='My email address is jazz_97@gmail.com'
re.findall('[a-zA-Z0-9_\.]+@[a-z0-9]+\.[a-z]+', data2)

re.findall('[a-zA-Z0-9_\.]+@([a-z0-9]+)\.[a-z]+', data2)

re.findall('[a-zA-Zㄱ-힣]+', data2)



#12-5. 정규표현식으로 문장에서 패턴으로 문자열을 변경하는 문제
'''문제. 주민등록번호를 group 나눠서 변경하는 코드를 작성하세요.
761211-1023334 -> 761211-***
() 그룹핑을 사용 : 그룹핑의 데이터 사용은 \g<1> 으로 사용
data = "저의 주민등록번호는 761231-1098913 과 7612111098013 입니다." '''


data_p = "저의 주민등록번호는 761231-1098913 과 7612111098013 입니다."
grp = ('([0-9]{6}).?([1-4][0-9]{6})')
re.findall(grp, data_p)
re.sub(grp, '\g<1>-*******', data_p)

grp = ('([0-9]{6}).?([1-4][0-9]{5})')
re.findall(grp, data_p)
re.sub(grp, '\g<1>-*******', data_p)

data_p = "저의 주민등록번호는 761231-1098913 과 7612111098013 입니다."
grp = ('([0-9]{6}.?[1-4])([0-9]{6})')
re.findall(grp, data_p)
re.sub(grp, '\g<1>******', data_p)

data_c = "저의 카드번호는 1238-7611-1098-0913 입니다."
grp_c = ('([0-9]{4}).?([0-9]{4}).?([0-9]{4}).?([0-9]{4}).?')
re.findall(grp_c, data_c)
re.sub(grp_c, '\g<1>-****-\g<2>-****',data_c)



#12-06. 
'''정규표현식을 사용하여 숫자,영문,한글로 작성된 전화번호를 숫자로 변경하는 문제
data = "안녕하세요, 저의 전화번호는 영일공-48구삼-삼7이사 \
그리고 010사팔구삼삼구삼일 입니다. 둘중에 하나로 연락하세요"'''

data_pn = "안녕하세요, 저의 전화번호는 영일공-48구삼-삼7이사 \
그리고 010사팔구삼삼구삼일 입니다. 둘중에 하나로 연락하세요"

pt = '[0-9o0영일공]{3}.?[0-9영공일이삼사오육칠팔구십oOIl]{3,4}.?[0-9영공일이삼사오육칠팔구십oOI]{4}'
numbers = re.findall(pt, data_pn)
numbers

pnumbers = [number.replace('-', '') for number in pnumbers]
pnumbers

number_map = {'영':0, '공':0,'일':1, '이':2, '삼':3, '사':4, '오':5, \
              '육':6,'칠':7,'팔':8, '구':9, 'o':0, 'O':0, 'I':1,'l':1}

result=[]
for number in pnumbers:
    print(number)
    for key, value in number_map.items():
        number = number.replace(key, str(value))
    result.append(number)
result
