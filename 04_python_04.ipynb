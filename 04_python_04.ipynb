{
 "cells": [
  {
   "cell_type": "markdown",
   "id": "bab02bd9",
   "metadata": {},
   "source": [
    "## CH 10. 입출력"
   ]
  },
  {
   "cell_type": "markdown",
   "id": "e97f653c",
   "metadata": {},
   "source": [
    "### 10-01. 입출력의 개요"
   ]
  },
  {
   "cell_type": "markdown",
   "id": "bf4daa02-44f5-48aa-8bc7-0f07168ef134",
   "metadata": {},
   "source": [
    "- SSD(HDD) 사용하는 방법\n",
    "- RAM > SSD(HDD), SSD(HDD) > RAM\n",
    "- RAM > binary(byte():직렬화) > SSD(HDD)\n",
    "- pickle"
   ]
  },
  {
   "cell_type": "markdown",
   "id": "dda05ed6",
   "metadata": {},
   "source": [
    "### 10-02. 텍스트 데이터 파일로 저장 및 읽어오기"
   ]
  },
  {
   "cell_type": "code",
   "execution_count": 1,
   "id": "dd36d52e-4111-4e7c-aa57-e07d96fa6484",
   "metadata": {
    "tags": []
   },
   "outputs": [],
   "source": [
    "# 디렉토리 만들기\n",
    "import os\n",
    "os.mkdir('file')"
   ]
  },
  {
   "cell_type": "code",
   "execution_count": 2,
   "id": "90cf3bf1",
   "metadata": {
    "tags": []
   },
   "outputs": [],
   "source": [
    "# 텍스트 파일 쓰기 : write 함수 사용\n",
    "data = '''datascicence\n",
    "jupyter notebook write\n",
    "fighting!!'''\n",
    "file = open(\"file/test1.txt\", 'wt')\n",
    "file.write(data)\n",
    "file.close()"
   ]
  },
  {
   "cell_type": "code",
   "execution_count": 3,
   "id": "ee82dc32-b5b4-4f0e-8523-d1f6eeca7dc1",
   "metadata": {
    "tags": []
   },
   "outputs": [],
   "source": [
    "# 텍스트 파일 쓰기 : print 함수 사용\n",
    "data = '''ipython notebook\n",
    "jupyter lab'''\n",
    "file = open('file/test2.txt', 'wt')\n",
    "print(data, file=file)\n",
    "file.close()"
   ]
  },
  {
   "cell_type": "code",
   "execution_count": 4,
   "id": "0b47b33e-9009-4faa-9c22-e8828b2bc177",
   "metadata": {
    "tags": []
   },
   "outputs": [],
   "source": [
    "# 텍스트 파일 쓰기 : with 사용\n",
    "# with를 사용하면 close를 하지 않아도 된다.\n",
    "data = 'test3 text!!!'\n",
    "with open(\"file/test3.txt\", 'wt') as file: \n",
    "    file.write(data)"
   ]
  },
  {
   "cell_type": "code",
   "execution_count": 5,
   "id": "cc4ce83b-6574-4392-8e26-87263c6dc0d4",
   "metadata": {
    "tags": []
   },
   "outputs": [
    {
     "name": "stdout",
     "output_type": "stream",
     "text": [
      "test1.txt  test2.txt  test3.txt\n"
     ]
    }
   ],
   "source": [
    "%ls file"
   ]
  },
  {
   "cell_type": "code",
   "execution_count": 6,
   "id": "b630a9ea-6342-4e22-956a-259f2c433d9b",
   "metadata": {
    "tags": []
   },
   "outputs": [
    {
     "name": "stdout",
     "output_type": "stream",
     "text": [
      "datascicence\n",
      "jupyter notebook write\n",
      "fighting!!\n"
     ]
    }
   ],
   "source": [
    "# 텍스트 파일 읽기\n",
    "file = open(\"file/test1.txt\", 'rt')\n",
    "data = file.read()\n",
    "file.close()\n",
    "print(data)"
   ]
  },
  {
   "cell_type": "code",
   "execution_count": 7,
   "id": "d09e4370-01d3-4d7a-83b6-25d0c91a39f9",
   "metadata": {
    "tags": []
   },
   "outputs": [
    {
     "data": {
      "text/plain": [
       "'test3 text!!!'"
      ]
     },
     "execution_count": 7,
     "metadata": {},
     "output_type": "execute_result"
    }
   ],
   "source": [
    "# 텍스트 파일 읽기 : with 사용\n",
    "with open('file/test3.txt', 'rt') as file:\n",
    "    data = file.read()\n",
    "data"
   ]
  },
  {
   "cell_type": "markdown",
   "id": "41693baa",
   "metadata": {},
   "source": [
    "### 10-03. pickle을 이용하여 객체를 파일로 저장 및 읽어오기"
   ]
  },
  {
   "cell_type": "code",
   "execution_count": 8,
   "id": "c03d3a4a",
   "metadata": {
    "tags": []
   },
   "outputs": [],
   "source": [
    "class Text:\n",
    "    def __init__(self, data):\n",
    "        self.data = data"
   ]
  },
  {
   "cell_type": "code",
   "execution_count": 9,
   "id": "4b4dda30",
   "metadata": {
    "tags": []
   },
   "outputs": [
    {
     "data": {
      "text/plain": [
       "'py'"
      ]
     },
     "execution_count": 9,
     "metadata": {},
     "output_type": "execute_result"
    }
   ],
   "source": [
    "txt = Text('py')\n",
    "txt.data"
   ]
  },
  {
   "cell_type": "code",
   "execution_count": 10,
   "id": "24cc4bf1",
   "metadata": {
    "tags": []
   },
   "outputs": [],
   "source": [
    "# RAM(txt) > SSD(txt)\n",
    "# wb : write binary\n",
    "import pickle\n",
    "\n",
    "with open('txt.pkl', 'wb') as file:\n",
    "    pickle.dump(txt, file)"
   ]
  },
  {
   "cell_type": "code",
   "execution_count": 11,
   "id": "79f3beee",
   "metadata": {
    "tags": []
   },
   "outputs": [
    {
     "name": "stdout",
     "output_type": "stream",
     "text": [
      "txt.pkl\n"
     ]
    }
   ],
   "source": [
    "%ls | grep txt.pkl"
   ]
  },
  {
   "cell_type": "code",
   "execution_count": 12,
   "id": "27e98b3e",
   "metadata": {
    "tags": []
   },
   "outputs": [],
   "source": [
    "# SSD(txt) > RAM(txt)\n",
    "with open('txt.pkl', 'rb') as file:\n",
    "    load_txt = pickle.load(file)"
   ]
  },
  {
   "cell_type": "code",
   "execution_count": 13,
   "id": "08fde82e",
   "metadata": {
    "tags": []
   },
   "outputs": [
    {
     "data": {
      "text/plain": [
       "'py'"
      ]
     },
     "execution_count": 13,
     "metadata": {},
     "output_type": "execute_result"
    }
   ],
   "source": [
    "load_txt.data"
   ]
  },
  {
   "cell_type": "markdown",
   "id": "3e4e3300-3c41-41d9-b12c-89e92b212ccd",
   "metadata": {},
   "source": [
    "### 10-04. 파일시스템을 다루는 OS 패키지\n",
    "- 파이썬 코드로 파일시스템을 다루는 패키지\n",
    "- 디렉토리 만들기, 파일 복사하기, 파일 삭제하기 등의 기능 사용"
   ]
  },
  {
   "cell_type": "code",
   "execution_count": 14,
   "id": "03cf2179-d0bc-4f48-a845-c8143180d91f",
   "metadata": {},
   "outputs": [],
   "source": [
    "import os"
   ]
  },
  {
   "cell_type": "code",
   "execution_count": 15,
   "id": "0c1a602b-650c-4934-86a2-1051f260f37b",
   "metadata": {},
   "outputs": [],
   "source": [
    "# 디렉토리 만들기"
   ]
  },
  {
   "cell_type": "code",
   "execution_count": 16,
   "id": "a67e68c2-89d7-41dd-a43e-92504936b7b7",
   "metadata": {},
   "outputs": [
    {
     "name": "stdout",
     "output_type": "stream",
     "text": [
      "01_python_01.ipynb  04_python_04.ipynb  python_intro.pdf\n",
      "02_python_02.ipynb  \u001b[1m\u001b[36m__pycache__\u001b[m\u001b[m/        \u001b[1m\u001b[36mtmp\u001b[m\u001b[m/\n",
      "03_python_03.ipynb  \u001b[1m\u001b[36mfile\u001b[m\u001b[m/               txt.pkl\n"
     ]
    }
   ],
   "source": [
    "%ls"
   ]
  },
  {
   "cell_type": "code",
   "execution_count": 17,
   "id": "8008980d-994d-4baf-95fd-f339a71eb08e",
   "metadata": {},
   "outputs": [],
   "source": [
    "os.makedirs('os')"
   ]
  },
  {
   "cell_type": "code",
   "execution_count": 18,
   "id": "981cb7a5-7323-4de7-ba09-d59b3e740f1c",
   "metadata": {},
   "outputs": [
    {
     "name": "stdout",
     "output_type": "stream",
     "text": [
      "01_python_01.ipynb  04_python_04.ipynb  \u001b[1m\u001b[36mos\u001b[m\u001b[m/                 txt.pkl\n",
      "02_python_02.ipynb  \u001b[1m\u001b[36m__pycache__\u001b[m\u001b[m/        python_intro.pdf\n",
      "03_python_03.ipynb  \u001b[1m\u001b[36mfile\u001b[m\u001b[m/               \u001b[1m\u001b[36mtmp\u001b[m\u001b[m/\n"
     ]
    }
   ],
   "source": [
    "%ls"
   ]
  },
  {
   "cell_type": "code",
   "execution_count": 19,
   "id": "806f43da-22f1-4acf-85fe-6c14cd723ed4",
   "metadata": {},
   "outputs": [],
   "source": [
    "%ls os"
   ]
  },
  {
   "cell_type": "code",
   "execution_count": 20,
   "id": "19ad34ae-3e51-41e2-a2cd-7b08c35d475b",
   "metadata": {},
   "outputs": [],
   "source": [
    "# 파일생성\n",
    "data = 'python data1'\n",
    "with open('os/data1.txt', 'wt') as file:\n",
    "    file.write(data)"
   ]
  },
  {
   "cell_type": "code",
   "execution_count": 21,
   "id": "0a072afc-c611-4e16-bfb2-fdec1f2e20f3",
   "metadata": {},
   "outputs": [],
   "source": [
    "data = 'python data2'\n",
    "with open('os/data2.txt', 'wt') as file:\n",
    "    file.write(data)"
   ]
  },
  {
   "cell_type": "code",
   "execution_count": 22,
   "id": "1babf26d-6754-4ec9-933b-b96e011de46e",
   "metadata": {},
   "outputs": [],
   "source": [
    "data = 'python,data3'\n",
    "with open('os/data3.csv', 'wt') as file:\n",
    "    file.write(data)"
   ]
  },
  {
   "cell_type": "code",
   "execution_count": 23,
   "id": "d9e4d7a0-b982-484e-85d9-c8318e1abac9",
   "metadata": {},
   "outputs": [
    {
     "name": "stdout",
     "output_type": "stream",
     "text": [
      "data1.txt  data2.txt  data3.csv\n"
     ]
    }
   ],
   "source": [
    "%ls os"
   ]
  },
  {
   "cell_type": "code",
   "execution_count": 24,
   "id": "0d87069f-eaed-4ec0-83ea-a81b98828931",
   "metadata": {},
   "outputs": [
    {
     "data": {
      "text/plain": [
       "['data3.csv', 'data1.txt', 'data2.txt']"
      ]
     },
     "execution_count": 24,
     "metadata": {},
     "output_type": "execute_result"
    }
   ],
   "source": [
    "# 파일목록 읽어오기\n",
    "filenames = os.listdir('os')\n",
    "filenames"
   ]
  },
  {
   "cell_type": "code",
   "execution_count": 25,
   "id": "262e6742-66a2-49d1-888f-a072d513e8ce",
   "metadata": {},
   "outputs": [
    {
     "data": {
      "text/plain": [
       "['data1.txt', 'data2.txt']"
      ]
     },
     "execution_count": 25,
     "metadata": {},
     "output_type": "execute_result"
    }
   ],
   "source": [
    "txt_filenames = [\n",
    "    filename \n",
    "    for filename in filenames \n",
    "    if filename.split('.')[-1] == 'txt'\n",
    "]\n",
    "txt_filenames"
   ]
  },
  {
   "cell_type": "code",
   "execution_count": 26,
   "id": "3cdd1581-b7eb-4ebe-8672-5bfea18168be",
   "metadata": {},
   "outputs": [
    {
     "data": {
      "text/plain": [
       "'txt'"
      ]
     },
     "execution_count": 26,
     "metadata": {},
     "output_type": "execute_result"
    }
   ],
   "source": [
    "data = 'data1.txt'\n",
    "data.split('.')[-1]"
   ]
  },
  {
   "cell_type": "code",
   "execution_count": 27,
   "id": "f3eaf339-cce8-4315-8ee3-ebf97d99f45c",
   "metadata": {},
   "outputs": [],
   "source": [
    "# 파일삭제\n",
    "os.remove('os/data3.csv')"
   ]
  },
  {
   "cell_type": "code",
   "execution_count": 28,
   "id": "82bf60a3-270a-41f7-8501-27746069911a",
   "metadata": {},
   "outputs": [
    {
     "name": "stdout",
     "output_type": "stream",
     "text": [
      "data1.txt  data2.txt\n"
     ]
    }
   ],
   "source": [
    "%ls os"
   ]
  },
  {
   "cell_type": "code",
   "execution_count": 29,
   "id": "c538fcb8-c860-4283-a4a1-ae6fd33cd4a7",
   "metadata": {},
   "outputs": [],
   "source": [
    "# 디렉토리삭제\n",
    "# os.removedirs('os')"
   ]
  },
  {
   "cell_type": "code",
   "execution_count": 30,
   "id": "fbf5a7e1-c9ec-429a-a60d-68991dabe150",
   "metadata": {},
   "outputs": [],
   "source": [
    "# shutil\n",
    "import shutil"
   ]
  },
  {
   "cell_type": "code",
   "execution_count": 31,
   "id": "d7711f5a-fd57-4386-a903-5d225d0c792e",
   "metadata": {},
   "outputs": [],
   "source": [
    "shutil.rmtree('os')"
   ]
  },
  {
   "cell_type": "code",
   "execution_count": 32,
   "id": "9373819b-fb5e-4d8b-9b61-6dab7074ae4d",
   "metadata": {},
   "outputs": [
    {
     "name": "stdout",
     "output_type": "stream",
     "text": [
      "01_python_01.ipynb  04_python_04.ipynb  python_intro.pdf\n",
      "02_python_02.ipynb  \u001b[1m\u001b[36m__pycache__\u001b[m\u001b[m/        \u001b[1m\u001b[36mtmp\u001b[m\u001b[m/\n",
      "03_python_03.ipynb  \u001b[1m\u001b[36mfile\u001b[m\u001b[m/               txt.pkl\n"
     ]
    }
   ],
   "source": [
    "%ls"
   ]
  },
  {
   "cell_type": "code",
   "execution_count": 33,
   "id": "14c35a47-0d71-4860-9a3d-e6b6b5759994",
   "metadata": {},
   "outputs": [],
   "source": [
    "# 파일복사하기"
   ]
  },
  {
   "cell_type": "code",
   "execution_count": 34,
   "id": "14b0fe05-b9d8-4aed-b892-621dcd3c2bf9",
   "metadata": {},
   "outputs": [],
   "source": [
    "os.makedirs('file1')\n",
    "os.makedirs('file2')"
   ]
  },
  {
   "cell_type": "code",
   "execution_count": 35,
   "id": "b4e7f47a-87d0-4729-a1d5-582074a642ab",
   "metadata": {},
   "outputs": [
    {
     "name": "stdout",
     "output_type": "stream",
     "text": [
      "01_python_01.ipynb  04_python_04.ipynb  \u001b[1m\u001b[36mfile1\u001b[m\u001b[m/              \u001b[1m\u001b[36mtmp\u001b[m\u001b[m/\n",
      "02_python_02.ipynb  \u001b[1m\u001b[36m__pycache__\u001b[m\u001b[m/        \u001b[1m\u001b[36mfile2\u001b[m\u001b[m/              txt.pkl\n",
      "03_python_03.ipynb  \u001b[1m\u001b[36mfile\u001b[m\u001b[m/               python_intro.pdf\n"
     ]
    }
   ],
   "source": [
    "%ls"
   ]
  },
  {
   "cell_type": "code",
   "execution_count": 36,
   "id": "60a38d14-b4a0-4b8f-9e4a-4e63bad524e9",
   "metadata": {},
   "outputs": [],
   "source": [
    "with open('file1/data1.txt', 'wt') as file:\n",
    "    file.write('data1')"
   ]
  },
  {
   "cell_type": "code",
   "execution_count": 37,
   "id": "a9de0acd-7ac3-4067-be78-d2383204f496",
   "metadata": {},
   "outputs": [
    {
     "name": "stdout",
     "output_type": "stream",
     "text": [
      "data1.txt\n"
     ]
    }
   ],
   "source": [
    "%ls file1"
   ]
  },
  {
   "cell_type": "code",
   "execution_count": 38,
   "id": "4868a704-604c-4196-bca7-b17b2504657f",
   "metadata": {},
   "outputs": [],
   "source": [
    "%ls file2"
   ]
  },
  {
   "cell_type": "code",
   "execution_count": 39,
   "id": "7c5aa22f-fcfe-436d-afe0-b3c0a89c2d7f",
   "metadata": {},
   "outputs": [
    {
     "data": {
      "text/plain": [
       "'file2/data1.txt'"
      ]
     },
     "execution_count": 39,
     "metadata": {},
     "output_type": "execute_result"
    }
   ],
   "source": [
    "src = 'file1/data1.txt'\n",
    "dst = 'file2/data1.txt'\n",
    "shutil.copy(src, dst)"
   ]
  },
  {
   "cell_type": "code",
   "execution_count": 40,
   "id": "fcb486f5-e5c8-4188-9974-181b8ab4c02b",
   "metadata": {},
   "outputs": [
    {
     "name": "stdout",
     "output_type": "stream",
     "text": [
      "data1.txt\n"
     ]
    }
   ],
   "source": [
    "%ls file2"
   ]
  },
  {
   "cell_type": "code",
   "execution_count": 41,
   "id": "59d297f5-f50e-49fe-996b-1eebd1ee6e42",
   "metadata": {},
   "outputs": [],
   "source": [
    "# 파일이동하기 (파일이름 바꾸기)\n",
    "os.rename('file2/data1.txt', 'file2/data2.txt')"
   ]
  },
  {
   "cell_type": "code",
   "execution_count": 42,
   "id": "3f1b98b4-fc4b-4e9c-adad-1b3fdd17fc36",
   "metadata": {},
   "outputs": [
    {
     "name": "stdout",
     "output_type": "stream",
     "text": [
      "data2.txt\n"
     ]
    }
   ],
   "source": [
    "%ls file2"
   ]
  },
  {
   "cell_type": "code",
   "execution_count": null,
   "id": "0b6164e2",
   "metadata": {},
   "outputs": [],
   "source": []
  },
  {
   "cell_type": "markdown",
   "id": "83270f5b",
   "metadata": {},
   "source": [
    "## CH 11. 예외처리"
   ]
  },
  {
   "cell_type": "markdown",
   "id": "782f120f",
   "metadata": {},
   "source": [
    "### 11-01. 예외처리의 개요와 명령어 사용"
   ]
  },
  {
   "cell_type": "markdown",
   "id": "99ea92fa-4856-414d-8d8c-cf28def9a57a",
   "metadata": {},
   "source": [
    "- 코드 실행중 에러가 발생한 경우 에러를 처리하는 문법\n",
    "- try, except, finally, raise "
   ]
  },
  {
   "cell_type": "code",
   "execution_count": 43,
   "id": "78274970",
   "metadata": {},
   "outputs": [
    {
     "name": "stdout",
     "output_type": "stream",
     "text": [
      "connect.\n",
      "1.0\n",
      "disconnect.\n",
      "kyobo\n"
     ]
    }
   ],
   "source": [
    "try:\n",
    "    print('connect.')\n",
    "    print(1/1)\n",
    "    # print('disconnect.')\n",
    "except Exception as e:\n",
    "    print(e)\n",
    "    # print('disconnect.')\n",
    "finally: # 코드 에러에 관계없이 항상 실행\n",
    "    print('disconnect.')\n",
    "print('kyobo')"
   ]
  },
  {
   "cell_type": "markdown",
   "id": "5817e141",
   "metadata": {},
   "source": [
    "### 11-02. 예외처리를 만드는 방법"
   ]
  },
  {
   "cell_type": "code",
   "execution_count": 44,
   "id": "79669fa1",
   "metadata": {},
   "outputs": [],
   "source": [
    "# raise : 강제에러발생\n",
    "class LowNumber(Exception):\n",
    "    def __str__(self):\n",
    "        return 'Insert number greater than 10.'"
   ]
  },
  {
   "cell_type": "code",
   "execution_count": 45,
   "id": "d40426cc",
   "metadata": {},
   "outputs": [],
   "source": [
    "def input_number(number):\n",
    "    if number <= 10:\n",
    "        raise LowNumber()\n",
    "    print(number)"
   ]
  },
  {
   "cell_type": "code",
   "execution_count": 46,
   "id": "76a75538",
   "metadata": {},
   "outputs": [
    {
     "ename": "LowNumber",
     "evalue": "Insert number greater than 10.",
     "output_type": "error",
     "traceback": [
      "\u001b[0;31m---------------------------------------------------------------------------\u001b[0m",
      "\u001b[0;31mLowNumber\u001b[0m                                 Traceback (most recent call last)",
      "Cell \u001b[0;32mIn[46], line 1\u001b[0m\n\u001b[0;32m----> 1\u001b[0m input_number(\u001b[38;5;241m7\u001b[39m)\n\u001b[1;32m      2\u001b[0m \u001b[38;5;28mprint\u001b[39m(\u001b[38;5;124m'\u001b[39m\u001b[38;5;124mkyobo\u001b[39m\u001b[38;5;124m'\u001b[39m)\n",
      "Cell \u001b[0;32mIn[45], line 3\u001b[0m, in \u001b[0;36minput_number\u001b[0;34m(number)\u001b[0m\n\u001b[1;32m      1\u001b[0m \u001b[38;5;28;01mdef\u001b[39;00m \u001b[38;5;21minput_number\u001b[39m(number):\n\u001b[1;32m      2\u001b[0m     \u001b[38;5;28;01mif\u001b[39;00m number \u001b[38;5;241m<\u001b[39m\u001b[38;5;241m=\u001b[39m \u001b[38;5;241m10\u001b[39m:\n\u001b[0;32m----> 3\u001b[0m         \u001b[38;5;28;01mraise\u001b[39;00m LowNumber()\n\u001b[1;32m      4\u001b[0m     \u001b[38;5;28mprint\u001b[39m(number)\n",
      "\u001b[0;31mLowNumber\u001b[0m: Insert number greater than 10."
     ]
    }
   ],
   "source": [
    "input_number(7)"
   ]
  },
  {
   "cell_type": "markdown",
   "id": "59bc6af3",
   "metadata": {},
   "source": [
    "### 11-03. 클래스와 예외처리를 활용한 객체생성 문제\n",
    "- 문제. 아래의 조건에 해당하는 에러를 생성하여 에러가 발생할수 있는 echo 함수를 코드로 작성하세요.\n",
    "    - NotNumber 에러 생성 : 에러메세지는 insert int or float datatype.\n",
    "    - echo 함수에서 number 파라미터를 받는데 데이터타입이 int, float이 아니면 NotNumber 에러 발생"
   ]
  },
  {
   "cell_type": "code",
   "execution_count": 47,
   "id": "10fb7adb-9b93-4da4-9f69-5ea8b04b70ed",
   "metadata": {},
   "outputs": [],
   "source": [
    "# CODE"
   ]
  },
  {
   "cell_type": "markdown",
   "id": "be30ddd3-d5c3-41f9-b8ab-2a6ed2f06091",
   "metadata": {},
   "source": [
    "## CH 12. 정규표현식"
   ]
  },
  {
   "cell_type": "markdown",
   "id": "db9af4c1-94c3-4d8a-a3b1-d5e567ea6a16",
   "metadata": {},
   "source": [
    "### 12-01. 정규표현식 개요 및 함수 사용법"
   ]
  },
  {
   "cell_type": "markdown",
   "id": "c881fb47-6853-4f6f-af74-c259b016a8b6",
   "metadata": {},
   "source": [
    "- 문자열을 처리할때 특정 패턴으로 문자열을 처리하는 방법\n",
    "- 정규표현식 함수\n",
    "    - findall : 일치하는 패턴을 모두 찾기\n",
    "    - sub : 특정 패턴에 맞는 문자열을 대체 하기"
   ]
  },
  {
   "cell_type": "code",
   "execution_count": 50,
   "id": "a73aa5d2-936d-4463-8f45-1b14c75dbabc",
   "metadata": {
    "tags": []
   },
   "outputs": [],
   "source": [
    "import re\n",
    "data = \"fast campus datascience fighting. \\\n",
    "datascience fighting. fast campus fighting.\""
   ]
  },
  {
   "cell_type": "code",
   "execution_count": 51,
   "id": "fd4bf0d3-1169-4be0-bb91-3c5a04f34d30",
   "metadata": {
    "tags": []
   },
   "outputs": [
    {
     "name": "stdout",
     "output_type": "stream",
     "text": [
      "['fast', 'fast']\n",
      "['campus', 'campus']\n"
     ]
    }
   ],
   "source": [
    "# 일치하는 패턴을 모두 찾습니다.\n",
    "result1 = re.findall(\"fast\", data) # (패턴, 문자열)\n",
    "result2 = re.findall(\"campus\", data) # (패턴, 문자열)\n",
    "print(result1)\n",
    "print(result2)"
   ]
  },
  {
   "cell_type": "code",
   "execution_count": 52,
   "id": "24981128-fbb6-4f9b-ba80-a13c2c753659",
   "metadata": {
    "tags": []
   },
   "outputs": [
    {
     "name": "stdout",
     "output_type": "stream",
     "text": [
      "fast campus datascience fighting. datascience fighting. fast campus fighting.\n"
     ]
    },
    {
     "data": {
      "text/plain": [
       "'slow campus datascience fighting. datascience fighting. slow campus fighting.'"
      ]
     },
     "execution_count": 52,
     "metadata": {},
     "output_type": "execute_result"
    }
   ],
   "source": [
    "# 일치하는 패턴을 대체\n",
    "print(data)\n",
    "# (\"패턴\", \"해당되는 패턴을 바꿀문자열\", 전체 문자열)\n",
    "re.sub(\"fast\", \"slow\", data) "
   ]
  },
  {
   "cell_type": "markdown",
   "id": "977f648b-45dd-449c-b0ed-a869df571018",
   "metadata": {},
   "source": [
    "### 12-02. 정규표현식의 문자 패턴 "
   ]
  },
  {
   "cell_type": "markdown",
   "id": "b79c5cf3-aa41-495d-ac4f-a4d9ce8deac9",
   "metadata": {},
   "source": [
    "### 3. 패턴 - pattern\n",
    "- 문자\n",
    "    - 숫자인지 문자인지 특수문자인지등을 구분\n",
    "    - `\\d` : 숫자\n",
    "    - `\\D` : 비숫자\n",
    "    - `\\w` : 숫자, 문자, _\n",
    "    - `\\W` : 숫자, 문자, _ 제외\n",
    "    - `\\s` : 공백문자\n",
    "    - `\\S` : 비공백문자"
   ]
  },
  {
   "cell_type": "code",
   "execution_count": 53,
   "id": "5e00e5dd-2218-43cb-87a2-0ed916f3e5c9",
   "metadata": {
    "tags": []
   },
   "outputs": [
    {
     "data": {
      "text/plain": [
       "(100,\n",
       " '0123456789abcdefghijklmnopqrstuvwxyzABCDEFGHIJKLMNOPQRSTUVWXYZ!\"#$%&\\'()*+,-./:;<=>?@[\\\\]^_`{|}~ \\t\\n\\r\\x0b\\x0c')"
      ]
     },
     "execution_count": 53,
     "metadata": {},
     "output_type": "execute_result"
    }
   ],
   "source": [
    "import string\n",
    "pt = string.printable\n",
    "len(pt), pt"
   ]
  },
  {
   "cell_type": "code",
   "execution_count": 54,
   "id": "bb25deef-d569-4e93-b226-6a2e863f107c",
   "metadata": {
    "tags": []
   },
   "outputs": [
    {
     "data": {
      "text/plain": [
       "'0123456789'"
      ]
     },
     "execution_count": 54,
     "metadata": {},
     "output_type": "execute_result"
    }
   ],
   "source": [
    "# \\d, \\D - 숫자와 비숫자를 찾는 패턴\n",
    "result = re.findall(\"\\d\", pt)\n",
    "# result = re.findall(\"[0-9]\", pt)\n",
    "''.join(result)"
   ]
  },
  {
   "cell_type": "code",
   "execution_count": 55,
   "id": "0f0da7fc-a276-4db0-850b-7d305f5111cc",
   "metadata": {
    "tags": []
   },
   "outputs": [
    {
     "data": {
      "text/plain": [
       "'abcdefghijklmnopqrstuvwxyzABCDEFGHIJKLMNOPQRSTUVWXYZ!\"#$%&\\'()*+,-./:;<=>?@[\\\\]^_`{|}~ \\t\\n\\r\\x0b\\x0c'"
      ]
     },
     "execution_count": 55,
     "metadata": {},
     "output_type": "execute_result"
    }
   ],
   "source": [
    "result = re.findall(\"\\D\", pt)\n",
    "''.join(result)"
   ]
  },
  {
   "cell_type": "code",
   "execution_count": 56,
   "id": "27db3f35-2d4f-475f-9d1c-5d15967e78b8",
   "metadata": {
    "tags": []
   },
   "outputs": [
    {
     "name": "stdout",
     "output_type": "stream",
     "text": [
      "0123456789abcdefghijklmnopqrstuvwxyzABCDEFGHIJKLMNOPQRSTUVWXYZ_\n"
     ]
    },
    {
     "data": {
      "text/plain": [
       "'!\"#$%&\\'()*+,-./:;<=>?@[\\\\]^`{|}~ \\t\\n\\r\\x0b\\x0c'"
      ]
     },
     "execution_count": 56,
     "metadata": {},
     "output_type": "execute_result"
    }
   ],
   "source": [
    "# 문자\n",
    "result = re.findall(\"\\w\", pt)\n",
    "print(''.join(result))\n",
    "result = re.findall(\"\\W\", pt)\n",
    "''.join(result)"
   ]
  },
  {
   "cell_type": "code",
   "execution_count": 57,
   "id": "9cf75e4d-2375-44a0-ba14-846297a6bf3b",
   "metadata": {
    "tags": []
   },
   "outputs": [
    {
     "name": "stdout",
     "output_type": "stream",
     "text": [
      "0123456789abcdefghijklmnopqrstuvwxyzABCDEFGHIJKLMNOPQRSTUVWXYZ!\"#$%&'()*+,-./:;<=>?@[\\]^_`{|}~\n"
     ]
    },
    {
     "data": {
      "text/plain": [
       "' \\t\\n\\r\\x0b\\x0c'"
      ]
     },
     "execution_count": 57,
     "metadata": {},
     "output_type": "execute_result"
    }
   ],
   "source": [
    "# 공백문자\n",
    "result = re.findall(\"\\S\", pt)\n",
    "print(''.join(result))\n",
    "result = re.findall(\"\\s\", pt)\n",
    "''.join(result)"
   ]
  },
  {
   "cell_type": "markdown",
   "id": "dfaeb760-74b7-4634-a33c-3c36408cedfe",
   "metadata": {},
   "source": [
    "### 12-03. 정규표현식의 지정자 패턴 "
   ]
  },
  {
   "cell_type": "markdown",
   "id": "6027f1ef-2b0b-4dcc-ab9e-b083e77c6a90",
   "metadata": {},
   "source": [
    "- 범위가 몇회 반복과 같은 패턴을 구분\n",
    "- `[]`: 문자\n",
    "- `-` : 범위\n",
    "- `.` : 하나의 문자\n",
    "- `?` : 0회 또는 1회 반복\n",
    "- `*` : 0회 이상 반복\n",
    "- `+` : 1회 이상 반복\n",
    "- `{m,n}` : m~n회 반복\n",
    "- `()` : 그룹핑"
   ]
  },
  {
   "cell_type": "code",
   "execution_count": 58,
   "id": "738fd74b-af50-4979-b9fd-78addd9f0b0e",
   "metadata": {
    "tags": []
   },
   "outputs": [
    {
     "data": {
      "text/plain": [
       "['1', 'a', 'b', 'c']"
      ]
     },
     "execution_count": 58,
     "metadata": {},
     "output_type": "execute_result"
    }
   ],
   "source": [
    "# [] : 문자\n",
    "re.findall(\"[abc1]\", pt)"
   ]
  },
  {
   "cell_type": "code",
   "execution_count": 59,
   "id": "34015540-0484-4b98-b8f2-d0568c4dc0a8",
   "metadata": {
    "tags": []
   },
   "outputs": [
    {
     "data": {
      "text/plain": [
       "['0', '1', '2', '3', '4', '5', '6', '7']"
      ]
     },
     "execution_count": 59,
     "metadata": {},
     "output_type": "execute_result"
    }
   ],
   "source": [
    "# - : 범위\n",
    "re.findall(\"[01234567]\", pt)"
   ]
  },
  {
   "cell_type": "code",
   "execution_count": 60,
   "id": "0083c4a0-f441-4a19-afdd-e7bb44752970",
   "metadata": {
    "tags": []
   },
   "outputs": [
    {
     "data": {
      "text/plain": [
       "['0', '1', '2', '3', '4', '5', '6', '7']"
      ]
     },
     "execution_count": 60,
     "metadata": {},
     "output_type": "execute_result"
    }
   ],
   "source": [
    "re.findall(\"[0-7]\", pt)"
   ]
  },
  {
   "cell_type": "code",
   "execution_count": 61,
   "id": "93bd4eac-e604-4874-94a9-d5f8a52a77e5",
   "metadata": {
    "tags": []
   },
   "outputs": [
    {
     "data": {
      "text/plain": [
       "['a', 'b', 'c', 'd', 'e', 'f']"
      ]
     },
     "execution_count": 61,
     "metadata": {},
     "output_type": "execute_result"
    }
   ],
   "source": [
    "re.findall(\"[a-f]\", pt)"
   ]
  },
  {
   "cell_type": "code",
   "execution_count": 62,
   "id": "7caae826-fd1a-4dfb-b068-a2217de84876",
   "metadata": {
    "tags": []
   },
   "outputs": [
    {
     "data": {
      "text/plain": [
       "['a', 'b', 'c', 'd', 'e', 'f', 'A', 'B', 'C', 'D', 'E', 'F']"
      ]
     },
     "execution_count": 62,
     "metadata": {},
     "output_type": "execute_result"
    }
   ],
   "source": [
    "re.findall(\"[a-fA-F]\", pt)"
   ]
  },
  {
   "cell_type": "code",
   "execution_count": 63,
   "id": "2a40c3e9-2128-4270-92c4-b5133a243935",
   "metadata": {
    "tags": []
   },
   "outputs": [
    {
     "name": "stdout",
     "output_type": "stream",
     "text": [
      "123aab123 ['aab']\n",
      "a0b ['a0b']\n",
      "abc []\n"
     ]
    }
   ],
   "source": [
    "# . : 문자하나\n",
    "ls = [\"123aab123\", \"a0b\", \"abc\"]\n",
    "for s in ls:\n",
    "    result = re.findall(\"a.b\", s)\n",
    "    print(s, result)"
   ]
  },
  {
   "cell_type": "code",
   "execution_count": 64,
   "id": "29a34752-ec90-4a5e-9f91-1ddaf86abd2e",
   "metadata": {},
   "outputs": [
    {
     "name": "stdout",
     "output_type": "stream",
     "text": [
      "aab ['aab']\n",
      "a3b ['a3b']\n",
      "abc ['ab']\n",
      "accb []\n"
     ]
    }
   ],
   "source": [
    "# ? : ? 앞에 있는 패턴을 0회 또는 1회 반복\n",
    "ls = [\"aab\", \"a3b\", \"abc\", \"accb\"]\n",
    "for s in ls:\n",
    "    # a + 어떤문자0개 또는 1개 + b\n",
    "    result = re.findall(\"a.?b\", s) \n",
    "    print(s, result)"
   ]
  },
  {
   "cell_type": "code",
   "execution_count": 65,
   "id": "e0b45e20-13c2-4271-a716-2140e86151d0",
   "metadata": {},
   "outputs": [
    {
     "name": "stdout",
     "output_type": "stream",
     "text": [
      "ac ['ac']\n",
      "abc ['abc']\n",
      "abbbbc ['abbbbc']\n",
      "a3bec []\n"
     ]
    }
   ],
   "source": [
    "# * : 0회이상 반복\n",
    "ls = [\"ac\", \"abc\", \"abbbbc\", \"a3bec\"]\n",
    "for s in ls:\n",
    "    # a + b가 0회 이상 반복 + c\n",
    "    result = re.findall(\"ab*c\", s) \n",
    "    print(s, result)"
   ]
  },
  {
   "cell_type": "code",
   "execution_count": 66,
   "id": "249d22de-9073-4ab4-903f-9bd58e6f8be1",
   "metadata": {},
   "outputs": [
    {
     "name": "stdout",
     "output_type": "stream",
     "text": [
      "ac []\n",
      "abc ['abc']\n",
      "abbbbc ['abbbbc']\n",
      "a3bec []\n"
     ]
    }
   ],
   "source": [
    "# + : 1회이상 반복\n",
    "ls = [\"ac\", \"abc\", \"abbbbc\", \"a3bec\"]\n",
    "for s in ls:\n",
    "    # a + b가 1회 이상 반복 + c\n",
    "    result = re.findall(\"ab+c\", s) \n",
    "    print(s, result)"
   ]
  },
  {
   "cell_type": "code",
   "execution_count": 67,
   "id": "38a0a4a3-66f1-4e52-b96e-f25d24e1f442",
   "metadata": {},
   "outputs": [
    {
     "name": "stdout",
     "output_type": "stream",
     "text": [
      "ac []\n",
      "abc ['abc']\n",
      "abbbbbc ['abbbbbc']\n",
      "abbbbbbbbbbc []\n"
     ]
    }
   ],
   "source": [
    "# {m} m회 반복\n",
    "# {m, n} m에서 n회 반복\n",
    "# + : 1회이상 반복\n",
    "ls = [\"ac\", \"abc\", \"abbbbbc\", \"abbbbbbbbbbc\"] # 5회, 10회\n",
    "for s in ls:\n",
    "    # a + b가 m회 ~ n회 반복 + c\n",
    "    result = re.findall(\"ab{1,8}c\", s) \n",
    "    print(s, result)"
   ]
  },
  {
   "cell_type": "code",
   "execution_count": 68,
   "id": "da06456c-2bd4-41c3-a8ac-500e2a746aa4",
   "metadata": {},
   "outputs": [
    {
     "name": "stdout",
     "output_type": "stream",
     "text": [
      "aaa5.djfi [('5', 'dj')]\n",
      "abdddc5 []\n",
      "1abbbbc []\n",
      "a3.bec [('3', 'be')]\n"
     ]
    }
   ],
   "source": [
    "# () : 그룹핑\n",
    "ls = [\"aaa5.djfi\",\"abdddc5\",\"1abbbbc\",\"a3.bec\"]\n",
    "for s in ls:\n",
    "    # 그룹1(0~9의 숫자가 1회이상반복) + [.문자] + 그룹2(a ~ z가 2글자)\n",
    "    result = re.findall(\"([0-9]+)[.]([a-z]{2})\", s) \n",
    "    print(s, result)"
   ]
  },
  {
   "cell_type": "markdown",
   "id": "c5eb47da-9e51-44ba-891b-fd389d3a1b30",
   "metadata": {},
   "source": [
    "### 12-04. 정규표현식으로 문장에서 패턴으로 데이터를 출력하는 문제\n",
    "- 문제. 아래의 문자열에서 이메일 주소를 리스트로 출력하세요."
   ]
  },
  {
   "cell_type": "code",
   "execution_count": 69,
   "id": "12bf446f-782f-4ca5-9f45-1d7d7912d22e",
   "metadata": {},
   "outputs": [],
   "source": [
    "data = \"저의 이메일 주소는 pdj1224@gmail.com 입니다. \\\n",
    "또한 radajin1224@gmail.com 도 가지고 있습니다.\""
   ]
  },
  {
   "cell_type": "code",
   "execution_count": 70,
   "id": "ada1eae1-bf3e-4ca2-806f-674e044cb0aa",
   "metadata": {},
   "outputs": [],
   "source": [
    "# CODE"
   ]
  },
  {
   "cell_type": "markdown",
   "id": "8671763c-f864-4d26-b1ca-e4d20460873d",
   "metadata": {},
   "source": [
    "### 12-05. 정규표현식으로 문장에서 패턴으로 문자열을 변경하는 문제"
   ]
  },
  {
   "cell_type": "markdown",
   "id": "c756d9d7-0403-43c6-b6ad-558029a609f4",
   "metadata": {},
   "source": [
    "- 문제. 주민등록번호를 group 나눠서 변경하는 코드를 작성하세요.\n",
    "- 761211-1023334 -> 761211-*******\n",
    "- () 그룹핑을 사용 : 그룹핑의 데이터 사용은 \\g<1> 으로 사용"
   ]
  },
  {
   "cell_type": "code",
   "execution_count": null,
   "id": "6bde3e52",
   "metadata": {},
   "outputs": [],
   "source": [
    "data = \"저의 주민등록번호는 761231-1098913 과 7612111098013 입니다.\""
   ]
  },
  {
   "cell_type": "code",
   "execution_count": 71,
   "id": "4632daf1-2ef6-4f86-91b3-70c33ee1bb1c",
   "metadata": {},
   "outputs": [],
   "source": [
    "# CODE"
   ]
  },
  {
   "cell_type": "markdown",
   "id": "da4a2a9f-95a9-4397-b00a-c637296372fd",
   "metadata": {},
   "source": [
    "### 12-06. 정규표현식을 사용하여 숫자,영문,한글로 작성된 전화번호를 숫자로 변경하는 문제"
   ]
  },
  {
   "cell_type": "code",
   "execution_count": 72,
   "id": "7be0d0dd-37e5-47ce-b0c9-f54a2619134e",
   "metadata": {},
   "outputs": [],
   "source": [
    "data = \"안녕하세요, 저의 전화번호는 영일공-48구삼삼7이사 \\\n",
    "그리고 010사팔구삼삼구삼일 입니다. 둘중에 하나로 연락하세요\""
   ]
  },
  {
   "cell_type": "code",
   "execution_count": 73,
   "id": "fb74969b-5edd-4f62-88b1-451e801f7034",
   "metadata": {
    "tags": []
   },
   "outputs": [],
   "source": [
    "# CODE"
   ]
  },
  {
   "cell_type": "markdown",
   "id": "333c773f",
   "metadata": {},
   "source": [
    "## CH 13. 파이썬 문법 정리"
   ]
  },
  {
   "cell_type": "markdown",
   "id": "e8a1e07c",
   "metadata": {},
   "source": [
    "### 13-01. 파이썬 문법 요약정리 1"
   ]
  },
  {
   "cell_type": "markdown",
   "id": "ec1e77f7",
   "metadata": {},
   "source": [
    "#### 컴퓨터구조, 프로그램 동작원리\n",
    "    - CPU, RAM, SSD(HDD) > control OS > Application(python)\n",
    "    - 프로그래밍 언어 종류 2가지\n",
    "        - 컴파일러 언어 : 빌드과정 후 코드실행 : 속도빠름, 빌드시간 기다림\n",
    "        - 인터프리터 언어 : 빌드하면서 코드실행 : 속도느림, 바로 코드 실행, 문법 쉬움 : python"
   ]
  },
  {
   "cell_type": "markdown",
   "id": "d2436164",
   "metadata": {},
   "source": [
    "#### 파이썬 문법\n",
    "1. 변수선언 : RAM 저장공간 사용문법\n",
    "    - 식별자 : 저장공간을 구별하는 문자열\n",
    "    - 식별자규칙 : 문법, 컨벤션(PEP8)\n",
    "    - 변수선언 3가지 방법\n",
    "2. 데이터타입 : RAM 저장공간 효율적 사용문법\n",
    "    - 기본 : int, float, bool, str : 동적타이핑\n",
    "    - 컬렉션 : list, tuple, dict, set\n",
    "        - create : \\[ \\], ( ), {key:value}, set()\n",
    "        - read : masking : \\[idx\\], \\[key\\], \\[start:end\\], \\[start:end:stride\\]\n",
    "        - update : select data = modify data\n",
    "        - delete : del select data\n",
    "    - 변수 속성값 출력 : print(), type(), id()\n",
    "3. 연산자 : CPU 사용문법\n",
    "    - 산술, 비교, 논리, 할당, 멤버"
   ]
  },
  {
   "cell_type": "markdown",
   "id": "10978781",
   "metadata": {},
   "source": [
    "4. 조건문 : 코드 효율적 작성 실행 문법\n",
    "    - 특정 조건에 따라서 코드 실행\n",
    "    - if, elif, else\n",
    "5. 반복문\n",
    "    - 특정 코드를 반복적으로 실행\n",
    "    - while, for, break, continue, range(), enumerate(), zip()\n",
    "6. 함수\n",
    "    - 중복되는 코드를 묶어서 코드 작성 실행\n",
    "    - 사용법 : 함수선언(코드작성) > 함수호출(코드실행)\n",
    "    - def, args-params, return, docstring(help()), \\*,\\*\\*, scope(global), lambda, decorator\n",
    "7. 클래스\n",
    "    - 변수, 함수 묶어서 코드 작성 실행\n",
    "    - 객체지향 : 실제 세계를 모델링하여 코드 작성 실행\n",
    "    - 사용법 : 클래스선언(코드작성) > 객체생성(메모리사용) > 메서드실행(코드실행)\n",
    "    - class, self, \\_\\_init\\_\\_(), \\_\\_add\\_\\_(), 상속, is a, has a, methods(instance, class, static)"
   ]
  },
  {
   "cell_type": "markdown",
   "id": "9b0455ae",
   "metadata": {},
   "source": [
    "### 13-02. 파이썬 문법 요약정리 2"
   ]
  },
  {
   "cell_type": "markdown",
   "id": "1e9dad69",
   "metadata": {},
   "source": [
    "8. 모듈, 패키지\n",
    "    - 모듈 : 변수, 함수, 클래스를 하나의 파일(.py)로 묶어서 코드 작성 실행\n",
    "    - 패키지 : 여러개의 모듈을 디렉토리로 구별하여 코드 작성 실행\n",
    "    - import, from, as\n",
    "9. 입출력 : SSD(HDD) 사용문법\n",
    "    - RAM > SSD, SSD > RAM\n",
    "    - pickle\n",
    "10. 예외처리\n",
    "    - 에러를 처리하는 방법, 에러를 발생시키는 방법\n",
    "    - try, except, finally, raise\n",
    "11. 정규표현식\n",
    "    - 특정 패턴으로 문자열을 처리하는 문법\n",
    "    - re : findall(), sub() : 문자, 지정자"
   ]
  },
  {
   "cell_type": "markdown",
   "id": "cbac4c3a",
   "metadata": {},
   "source": [
    "## CH 14. 파이썬 데이터분석 미리보기\n",
    "### 14-01 Numpy 미리보기\n",
    "- python 에서 사용하는 과학계산용 패키지\n",
    "- c, c++, fortran(컴파일러언어) 으로 만들어져 연산속도가 빠름\n",
    "- ndarray 데이터타입 사용"
   ]
  },
  {
   "cell_type": "code",
   "execution_count": 1,
   "id": "5f5580d8",
   "metadata": {},
   "outputs": [],
   "source": [
    "# 모듈, 패키지 사용\n",
    "import numpy as np"
   ]
  },
  {
   "cell_type": "code",
   "execution_count": 2,
   "id": "512bd89e",
   "metadata": {},
   "outputs": [
    {
     "data": {
      "text/plain": [
       "array([[1, 2, 3],\n",
       "       [4, 5, 6]])"
      ]
     },
     "execution_count": 2,
     "metadata": {},
     "output_type": "execute_result"
    }
   ],
   "source": [
    "# 객체 생성\n",
    "data = np.array([[1, 2, 3], [4, 5, 6]])\n",
    "data"
   ]
  },
  {
   "cell_type": "code",
   "execution_count": 3,
   "id": "5f131c6b",
   "metadata": {},
   "outputs": [
    {
     "data": {
      "text/plain": [
       "numpy.ndarray"
      ]
     },
     "execution_count": 3,
     "metadata": {},
     "output_type": "execute_result"
    }
   ],
   "source": [
    "# 데이터타입, 클래스 : ndarray\n",
    "type(data)"
   ]
  },
  {
   "cell_type": "code",
   "execution_count": 8,
   "id": "e65900c4",
   "metadata": {},
   "outputs": [
    {
     "data": {
      "text/plain": [
       "['strides',\n",
       " 'sum',\n",
       " 'swapaxes',\n",
       " 'take',\n",
       " 'tobytes',\n",
       " 'tofile',\n",
       " 'tolist',\n",
       " 'tostring',\n",
       " 'trace',\n",
       " 'transpose',\n",
       " 'var',\n",
       " 'view']"
      ]
     },
     "execution_count": 8,
     "metadata": {},
     "output_type": "execute_result"
    }
   ],
   "source": [
    "# 객체 변수, 메서드 출력\n",
    "dir(data)[-12:]"
   ]
  },
  {
   "cell_type": "code",
   "execution_count": 9,
   "id": "f165c8dd",
   "metadata": {},
   "outputs": [
    {
     "name": "stdout",
     "output_type": "stream",
     "text": [
      "Help on built-in function sum:\n",
      "\n",
      "sum(...) method of numpy.ndarray instance\n",
      "    a.sum(axis=None, dtype=None, out=None, keepdims=False, initial=0, where=True)\n",
      "    \n",
      "    Return the sum of the array elements over the given axis.\n",
      "    \n",
      "    Refer to `numpy.sum` for full documentation.\n",
      "    \n",
      "    See Also\n",
      "    --------\n",
      "    numpy.sum : equivalent function\n",
      "\n"
     ]
    }
   ],
   "source": [
    "# 메서드 docstring 출력\n",
    "help(data.sum)"
   ]
  },
  {
   "cell_type": "code",
   "execution_count": 10,
   "id": "206fb528",
   "metadata": {},
   "outputs": [
    {
     "data": {
      "text/plain": [
       "array([ 6, 15])"
      ]
     },
     "execution_count": 10,
     "metadata": {},
     "output_type": "execute_result"
    }
   ],
   "source": [
    "# 메서드 사용\n",
    "data.sum(axis=1)"
   ]
  },
  {
   "cell_type": "markdown",
   "id": "425a6fe6",
   "metadata": {},
   "source": [
    "### 14-02 Pandas 미리보기\n",
    "- 데이터분석을 위한 사용이 쉽고 성능이 좋은 오픈소스 파이썬 라이브러리\n",
    "- Series, DataFrame"
   ]
  },
  {
   "cell_type": "code",
   "execution_count": 11,
   "id": "f67b0dfa",
   "metadata": {},
   "outputs": [],
   "source": [
    "import numpy as np\n",
    "import pandas as pd"
   ]
  },
  {
   "cell_type": "code",
   "execution_count": 12,
   "id": "735487e5",
   "metadata": {},
   "outputs": [
    {
     "data": {
      "text/plain": [
       "array([[78, 99, 60, 92],\n",
       "       [85, 79, 87, 98],\n",
       "       [61, 82, 70, 80]])"
      ]
     },
     "execution_count": 12,
     "metadata": {},
     "output_type": "execute_result"
    }
   ],
   "source": [
    "data = np.random.randint(60, 100, size=(3, 4))\n",
    "data"
   ]
  },
  {
   "cell_type": "code",
   "execution_count": 13,
   "id": "6893a30a",
   "metadata": {},
   "outputs": [
    {
     "data": {
      "text/plain": [
       "numpy.ndarray"
      ]
     },
     "execution_count": 13,
     "metadata": {},
     "output_type": "execute_result"
    }
   ],
   "source": [
    "type(data)"
   ]
  },
  {
   "cell_type": "code",
   "execution_count": 14,
   "id": "ec0c98af",
   "metadata": {},
   "outputs": [
    {
     "data": {
      "text/html": [
       "<div>\n",
       "<style scoped>\n",
       "    .dataframe tbody tr th:only-of-type {\n",
       "        vertical-align: middle;\n",
       "    }\n",
       "\n",
       "    .dataframe tbody tr th {\n",
       "        vertical-align: top;\n",
       "    }\n",
       "\n",
       "    .dataframe thead th {\n",
       "        text-align: right;\n",
       "    }\n",
       "</style>\n",
       "<table border=\"1\" class=\"dataframe\">\n",
       "  <thead>\n",
       "    <tr style=\"text-align: right;\">\n",
       "      <th></th>\n",
       "      <th>국어</th>\n",
       "      <th>수학</th>\n",
       "      <th>영어</th>\n",
       "      <th>코딩</th>\n",
       "    </tr>\n",
       "  </thead>\n",
       "  <tbody>\n",
       "    <tr>\n",
       "      <th>0</th>\n",
       "      <td>78</td>\n",
       "      <td>99</td>\n",
       "      <td>60</td>\n",
       "      <td>92</td>\n",
       "    </tr>\n",
       "    <tr>\n",
       "      <th>1</th>\n",
       "      <td>85</td>\n",
       "      <td>79</td>\n",
       "      <td>87</td>\n",
       "      <td>98</td>\n",
       "    </tr>\n",
       "    <tr>\n",
       "      <th>2</th>\n",
       "      <td>61</td>\n",
       "      <td>82</td>\n",
       "      <td>70</td>\n",
       "      <td>80</td>\n",
       "    </tr>\n",
       "  </tbody>\n",
       "</table>\n",
       "</div>"
      ],
      "text/plain": [
       "   국어  수학  영어  코딩\n",
       "0  78  99  60  92\n",
       "1  85  79  87  98\n",
       "2  61  82  70  80"
      ]
     },
     "execution_count": 14,
     "metadata": {},
     "output_type": "execute_result"
    }
   ],
   "source": [
    "# 생성자 메서드 사용하여 객체 생성\n",
    "df = pd.DataFrame(data, columns=['국어', '수학', '영어', '코딩'])\n",
    "df"
   ]
  },
  {
   "cell_type": "code",
   "execution_count": 15,
   "id": "3397ee82",
   "metadata": {},
   "outputs": [
    {
     "data": {
      "text/plain": [
       "pandas.core.frame.DataFrame"
      ]
     },
     "execution_count": 15,
     "metadata": {},
     "output_type": "execute_result"
    }
   ],
   "source": [
    "# 데이터타입, 클래스 출력\n",
    "type(df)"
   ]
  },
  {
   "cell_type": "code",
   "execution_count": 24,
   "id": "5fec05f4",
   "metadata": {},
   "outputs": [
    {
     "data": {
      "text/plain": [
       "['values', 'var', 'where', 'xs', '국어', '수학', '영어', '코딩']"
      ]
     },
     "execution_count": 24,
     "metadata": {},
     "output_type": "execute_result"
    }
   ],
   "source": [
    "# 객체 변수, 메서드 출력\n",
    "dir(df)[-8:]"
   ]
  },
  {
   "cell_type": "code",
   "execution_count": 26,
   "id": "94401d61",
   "metadata": {},
   "outputs": [],
   "source": [
    "# 메서드 docstring 출력\n",
    "help(df.min)"
   ]
  },
  {
   "cell_type": "code",
   "execution_count": 27,
   "id": "866cadb9",
   "metadata": {},
   "outputs": [
    {
     "data": {
      "text/plain": [
       "0    60\n",
       "1    79\n",
       "2    61\n",
       "dtype: int64"
      ]
     },
     "execution_count": 27,
     "metadata": {},
     "output_type": "execute_result"
    }
   ],
   "source": [
    "df.min(1)"
   ]
  }
 ],
 "metadata": {
  "kernelspec": {
   "display_name": "Python 3 (ipykernel)",
   "language": "python",
   "name": "python3"
  },
  "language_info": {
   "codemirror_mode": {
    "name": "ipython",
    "version": 3
   },
   "file_extension": ".py",
   "mimetype": "text/x-python",
   "name": "python",
   "nbconvert_exporter": "python",
   "pygments_lexer": "ipython3",
   "version": "3.11.3"
  }
 },
 "nbformat": 4,
 "nbformat_minor": 5
}
