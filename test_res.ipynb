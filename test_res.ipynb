{
 "cells": [
  {
   "cell_type": "code",
   "execution_count": null,
   "id": "b68d3896",
   "metadata": {},
   "outputs": [],
   "source": [
    "#reduce 모든합"
   ]
  },
  {
   "cell_type": "code",
   "execution_count": null,
   "id": "77392592",
   "metadata": {},
   "outputs": [],
   "source": [
    "# 파라미터는 넌티폴드 파라미터보다 앞에 작성\n",
    "아규먼트는 함수사용, 파라미너틑 함수정의"
   ]
  },
  {
   "cell_type": "code",
   "execution_count": null,
   "id": "62a7c255",
   "metadata": {},
   "outputs": [],
   "source": [
    "'''생성자는 메서드이름이 무조건 '클래스명'입니다. \n",
    "어차피 정해져있기 때문에, 정의할 때에는 __init__ 이라는 특이한 생성자 이름을\n",
    "씁니다. 어느 클래스든 __init__이라는 이름으로 생성자를 정의하기 때문에, \n",
    "코드 작성도 쉽고 가독성도 좋습니다.\n",
    "'''"
   ]
  },
  {
   "cell_type": "code",
   "execution_count": null,
   "id": "219aed7f",
   "metadata": {},
   "outputs": [],
   "source": [
    "# camelHalo 불가능\n",
    "# Camel_halo, Camelhalo 가능\n",
    "\n",
    "'''\n",
    "soup.select()3. 스네이크 케이스 뒤에 괄호가 붙어 있으므로 함수.\n",
    "math.pi4. 스네이크 케이스 뒤에 괄호가 없으므로 변수.\n",
    "math.e5. 스네이크 케이스 뒤에 괄호가 없으므로 변수.\n",
    "class Animal:6. 캐멀 케이스이므로 클래스.\n",
    "BeautifulSoup() 7. 캐멀 케이스이므로 일단 클래스. \n",
    "그런데 뒤에 괄호가 있습니다. 클래스 생성자라고 부르는 특이한 형태의 함수.\n",
    "일단 BeautifulSoup이라는 식별자는 클래스라는 것을 알 수 있습니다.'''"
   ]
  },
  {
   "cell_type": "code",
   "execution_count": null,
   "id": "039cff8f",
   "metadata": {},
   "outputs": [],
   "source": [
    "#pickle module\n",
    "with open ('data.pkl','wb') as file: pickle.dump(obj, file) #저장하고 불러와서 저장하기\n",
    "with open ('data.pkl','rb') as file: pickle.dump(obj, file) #불러와서 저장하기"
   ]
  },
  {
   "cell_type": "code",
   "execution_count": null,
   "id": "7878c018",
   "metadata": {},
   "outputs": [],
   "source": []
  },
  {
   "cell_type": "code",
   "execution_count": null,
   "id": "f2d86132",
   "metadata": {},
   "outputs": [],
   "source": [
    "data = ['a','b',[1,2]]\n",
    "type(data) "
   ]
  },
  {
   "cell_type": "code",
   "execution_count": 1,
   "id": "de255a92",
   "metadata": {},
   "outputs": [
    {
     "data": {
      "text/plain": [
       "tuple"
      ]
     },
     "execution_count": 1,
     "metadata": {},
     "output_type": "execute_result"
    }
   ],
   "source": [
    "data1= 1,2,3\n",
    "type(data1) #tuple"
   ]
  },
  {
   "cell_type": "code",
   "execution_count": 3,
   "id": "c160746b",
   "metadata": {},
   "outputs": [
    {
     "name": "stdout",
     "output_type": "stream",
     "text": [
      "0\n",
      "1\n",
      "5\n"
     ]
    }
   ],
   "source": [
    "result = 0 \n",
    "a=[0,1,2]\n",
    "b=[1,1,2]\n",
    "for i in range(len(a)):\n",
    "    result += (a[i] *b[i]) \n",
    "    print(result)"
   ]
  },
  {
   "cell_type": "code",
   "execution_count": 4,
   "id": "09795be8",
   "metadata": {},
   "outputs": [
    {
     "data": {
      "text/plain": [
       "[0, 1, 2, 3]"
      ]
     },
     "execution_count": 4,
     "metadata": {},
     "output_type": "execute_result"
    }
   ],
   "source": [
    "list(range(4))"
   ]
  },
  {
   "cell_type": "code",
   "execution_count": 5,
   "id": "7b4b86f6",
   "metadata": {},
   "outputs": [
    {
     "data": {
      "text/plain": [
       "[0, 1, 2, 3]"
      ]
     },
     "execution_count": 5,
     "metadata": {},
     "output_type": "execute_result"
    }
   ],
   "source": [
    "[i-1 for i in range(1,5)]"
   ]
  },
  {
   "cell_type": "code",
   "execution_count": 6,
   "id": "cf30ec49",
   "metadata": {},
   "outputs": [
    {
     "name": "stdout",
     "output_type": "stream",
     "text": [
      "0\t\n",
      "0\t1\t\n",
      "0\t1\t2\t\n",
      "0\t1\t2\t3\t\n",
      "0\t1\t2\t3\t4\t\n",
      "0\t1\t2\t3\t4\t5\t\n"
     ]
    }
   ],
   "source": [
    "for i in range(6): \n",
    "    for j in range( i+1):\n",
    "        print(j, end='\\t')\n",
    "    print()"
   ]
  },
  {
   "cell_type": "code",
   "execution_count": 7,
   "id": "75f96c40",
   "metadata": {},
   "outputs": [
    {
     "name": "stdout",
     "output_type": "stream",
     "text": [
      "['bravo']\n",
      "['bravo', 'alpha']\n"
     ]
    }
   ],
   "source": [
    "data = ['bravo','alpha','good']\n",
    "\n",
    "result=[] \n",
    "for i in range(len(data)):\n",
    "    if len(data[i]) == 5:\n",
    "        result.append(data[i])\n",
    "        print(result)"
   ]
  },
  {
   "cell_type": "code",
   "execution_count": 8,
   "id": "b8b36126",
   "metadata": {},
   "outputs": [],
   "source": [
    "def reduce_func2(func,ls):\n",
    "    result = ls[0]\n",
    "    del ls[0]\n",
    "    for data in ls :\n",
    "        result = func(result, data)\n",
    "        return result\n",
    "    print()"
   ]
  },
  {
   "cell_type": "code",
   "execution_count": 9,
   "id": "e066bd5a",
   "metadata": {},
   "outputs": [
    {
     "name": "stdout",
     "output_type": "stream",
     "text": [
      "666666\n",
      "55555\n",
      "4444\n",
      "333\n",
      "22\n",
      "1\n"
     ]
    }
   ],
   "source": [
    "for i in range(6,0,-1):\n",
    "    for  j in range(i):\n",
    "        print(i, end='')\n",
    "    print()"
   ]
  },
  {
   "cell_type": "code",
   "execution_count": 10,
   "id": "ffc35e2c",
   "metadata": {},
   "outputs": [
    {
     "name": "stdout",
     "output_type": "stream",
     "text": [
      "012345\n",
      "01234\n",
      "0123\n",
      "012\n",
      "01\n"
     ]
    }
   ],
   "source": [
    "for i in range(6,1,-1):\n",
    "    for  j in range(i):\n",
    "        print(j, end='')\n",
    "    print()"
   ]
  },
  {
   "cell_type": "code",
   "execution_count": 11,
   "id": "835124a9",
   "metadata": {},
   "outputs": [
    {
     "name": "stdout",
     "output_type": "stream",
     "text": [
      "2\n",
      "1\n",
      "0\n",
      "-1\n",
      "-2\n"
     ]
    }
   ],
   "source": [
    "number=5\n",
    "for line in range(number):\n",
    "    space= number// 2 - line\n",
    "    print(space)"
   ]
  },
  {
   "cell_type": "code",
   "execution_count": 12,
   "id": "2e972878",
   "metadata": {},
   "outputs": [
    {
     "name": "stdout",
     "output_type": "stream",
     "text": [
      "9\n"
     ]
    }
   ],
   "source": [
    "star = number - space*2 \n",
    "print(star)"
   ]
  },
  {
   "cell_type": "code",
   "execution_count": 20,
   "id": "16f9db19",
   "metadata": {},
   "outputs": [
    {
     "name": "stdout",
     "output_type": "stream",
     "text": [
      "2 1\n",
      "  *\n",
      "1 3\n",
      " ***\n",
      "0 5\n",
      "*****\n",
      "1 5\n",
      " *****\n",
      "2 5\n",
      "  *****\n"
     ]
    }
   ],
   "source": [
    "number=5\n",
    "for line in range(number):\n",
    "    space= number// 2 - line\n",
    "    if space < 0:\n",
    "        space *= -1\n",
    "\n",
    "    else :\n",
    "        star = number- space*2 \n",
    "    print(space, star)\n",
    "    print(\" \" *space + \"*\"* star)\n",
    "        "
   ]
  },
  {
   "cell_type": "code",
   "execution_count": null,
   "id": "7ec3237a",
   "metadata": {},
   "outputs": [],
   "source": []
  },
  {
   "cell_type": "code",
   "execution_count": null,
   "id": "b95b6529",
   "metadata": {},
   "outputs": [],
   "source": []
  },
  {
   "cell_type": "code",
   "execution_count": null,
   "id": "333a1e49",
   "metadata": {},
   "outputs": [],
   "source": []
  },
  {
   "cell_type": "code",
   "execution_count": null,
   "id": "c7fb8c59",
   "metadata": {},
   "outputs": [],
   "source": []
  },
  {
   "cell_type": "code",
   "execution_count": null,
   "id": "5ff9f9ee",
   "metadata": {},
   "outputs": [],
   "source": []
  },
  {
   "cell_type": "code",
   "execution_count": null,
   "id": "4c9a2e9d",
   "metadata": {},
   "outputs": [],
   "source": []
  },
  {
   "cell_type": "code",
   "execution_count": null,
   "id": "900c020f",
   "metadata": {},
   "outputs": [],
   "source": []
  },
  {
   "cell_type": "code",
   "execution_count": null,
   "id": "24b11552",
   "metadata": {},
   "outputs": [],
   "source": []
  },
  {
   "cell_type": "code",
   "execution_count": null,
   "id": "e13e29e8",
   "metadata": {},
   "outputs": [],
   "source": []
  },
  {
   "cell_type": "code",
   "execution_count": null,
   "id": "c4dcc919",
   "metadata": {},
   "outputs": [],
   "source": []
  },
  {
   "cell_type": "code",
   "execution_count": null,
   "id": "6bc62a17",
   "metadata": {},
   "outputs": [],
   "source": []
  }
 ],
 "metadata": {
  "kernelspec": {
   "display_name": "Python 3",
   "language": "python",
   "name": "python3"
  },
  "language_info": {
   "codemirror_mode": {
    "name": "ipython",
    "version": 3
   },
   "file_extension": ".py",
   "mimetype": "text/x-python",
   "name": "python",
   "nbconvert_exporter": "python",
   "pygments_lexer": "ipython3",
   "version": "3.8.8"
  }
 },
 "nbformat": 4,
 "nbformat_minor": 5
}
