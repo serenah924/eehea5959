{
 "cells": [
  {
   "cell_type": "code",
   "execution_count": null,
   "id": "d768230e",
   "metadata": {},
   "outputs": [],
   "source": [
    "#reduce 모든합"
   ]
  },
  {
   "cell_type": "code",
   "execution_count": null,
   "id": "36af52f5",
   "metadata": {},
   "outputs": [],
   "source": [
    "# 파라미터는 넌티폴드 파라미터보다 앞에 작성\n",
    "아규먼트는 함수사용, 파라미너틑 함수정의"
   ]
  },
  {
   "cell_type": "code",
   "execution_count": null,
   "id": "4a17beae",
   "metadata": {},
   "outputs": [],
   "source": [
    "'''생성자는 메서드이름이 무조건 '클래스명'입니다. \n",
    "어차피 정해져있기 때문에, 정의할 때에는 __init__ 이라는 특이한 생성자 이름을\n",
    "씁니다. 어느 클래스든 __init__이라는 이름으로 생성자를 정의하기 때문에, \n",
    "코드 작성도 쉽고 가독성도 좋습니다.\n",
    "'''"
   ]
  },
  {
   "cell_type": "code",
   "execution_count": null,
   "id": "7a932fab",
   "metadata": {},
   "outputs": [],
   "source": [
    "# camelHalo 불가능\n",
    "# Camel_halo, Camelhalo 가능\n",
    "\n",
    "'''\n",
    "soup.select()3. 스네이크 케이스 뒤에 괄호가 붙어 있으므로 함수.\n",
    "math.pi4. 스네이크 케이스 뒤에 괄호가 없으므로 변수.\n",
    "math.e5. 스네이크 케이스 뒤에 괄호가 없으므로 변수.\n",
    "class Animal:6. 캐멀 케이스이므로 클래스.\n",
    "BeautifulSoup() 7. 캐멀 케이스이므로 일단 클래스. \n",
    "그런데 뒤에 괄호가 있습니다. 클래스 생성자라고 부르는 특이한 형태의 함수.\n",
    "일단 BeautifulSoup이라는 식별자는 클래스라는 것을 알 수 있습니다.'''"
   ]
  },
  {
   "cell_type": "code",
   "execution_count": null,
   "id": "4ccd4738",
   "metadata": {},
   "outputs": [],
   "source": [
    "#pickle module\n",
    "'''\n",
    "파일 저장: 피클링할 경우 (파이썬 객체 → 파일) pickle.dump(object, file)\n",
    "파일 불러: 언피클링할 경우 (파일 → 파이썬 객체) pickle.load(file)\n",
    "\n",
    "'''\n",
    "with open ('data.pkl','wb') as file: pickle.dump(obj, file) #저장하고 불러와서 저장하기\n",
    "with open ('data.pkl','rb') as file: pickle.dump(obj, file) #불러와서 저장하기"
   ]
  },
  {
   "cell_type": "code",
   "execution_count": null,
   "id": "87981e3e",
   "metadata": {},
   "outputs": [],
   "source": [
    "import pickle\n",
    "\n",
    "my_dict = {'name':'harry', 'age':21, 'friends':['Ron', 'Hermione']}\n",
    "\n",
    "# 파일로 저장\n",
    "with open('my_dict.pkl', 'wb') as f:\n",
    "    pickle.dump(my_dict, f)\n",
    "    \n",
    "# 파일 불러오기\n",
    "with open('my_dict.pkl', 'rb') as f:\n",
    "    loaded_dict = pickle.load(f)\n",
    "    \n",
    "print(loaded_dict)\n",
    "#>> {'name': 'harry', 'age': 21, 'friends': ['Ron', 'Hermione']}"
   ]
  },
  {
   "cell_type": "code",
   "execution_count": null,
   "id": "3f04d695",
   "metadata": {},
   "outputs": [],
   "source": [
    "#pickle.dump(my_dict, open('my_dict2.pkl', 'wb'))\n",
    "pickle.load(open('my_dict2.pkl', 'rb'))\n",
    "출처: https://benn.tistory.com/43 [밴의 데이터 과학:티스토리]"
   ]
  },
  {
   "cell_type": "code",
   "execution_count": null,
   "id": "b068d9b6",
   "metadata": {},
   "outputs": [],
   "source": [
    "data = ['a','b',[1,2]]\n",
    "type(data) "
   ]
  },
  {
   "cell_type": "code",
   "execution_count": 1,
   "id": "0f9542f0",
   "metadata": {},
   "outputs": [
    {
     "data": {
      "text/plain": [
       "tuple"
      ]
     },
     "execution_count": 1,
     "metadata": {},
     "output_type": "execute_result"
    }
   ],
   "source": [
    "data1= 1,2,3\n",
    "type(data1) #tuple"
   ]
  },
  {
   "cell_type": "code",
   "execution_count": 3,
   "id": "47c954f7",
   "metadata": {},
   "outputs": [
    {
     "name": "stdout",
     "output_type": "stream",
     "text": [
      "0\n",
      "1\n",
      "5\n"
     ]
    }
   ],
   "source": [
    "result = 0 \n",
    "a=[0,1,2]\n",
    "b=[1,1,2]\n",
    "for i in range(len(a)):\n",
    "    result += (a[i] *b[i]) \n",
    "    print(result)"
   ]
  },
  {
   "cell_type": "code",
   "execution_count": 4,
   "id": "ea7ae32d",
   "metadata": {},
   "outputs": [
    {
     "data": {
      "text/plain": [
       "[0, 1, 2, 3]"
      ]
     },
     "execution_count": 4,
     "metadata": {},
     "output_type": "execute_result"
    }
   ],
   "source": [
    "list(range(4))"
   ]
  },
  {
   "cell_type": "code",
   "execution_count": 5,
   "id": "ec240205",
   "metadata": {},
   "outputs": [
    {
     "data": {
      "text/plain": [
       "[0, 1, 2, 3]"
      ]
     },
     "execution_count": 5,
     "metadata": {},
     "output_type": "execute_result"
    }
   ],
   "source": [
    "[i-1 for i in range(1,5)]"
   ]
  },
  {
   "cell_type": "code",
   "execution_count": 6,
   "id": "38c493c7",
   "metadata": {},
   "outputs": [
    {
     "name": "stdout",
     "output_type": "stream",
     "text": [
      "0\t\n",
      "0\t1\t\n",
      "0\t1\t2\t\n",
      "0\t1\t2\t3\t\n",
      "0\t1\t2\t3\t4\t\n",
      "0\t1\t2\t3\t4\t5\t\n"
     ]
    }
   ],
   "source": [
    "for i in range(6): \n",
    "    for j in range( i+1):\n",
    "        print(j, end='\\t')\n",
    "    print()"
   ]
  },
  {
   "cell_type": "code",
   "execution_count": 7,
   "id": "6b884a96",
   "metadata": {},
   "outputs": [
    {
     "name": "stdout",
     "output_type": "stream",
     "text": [
      "['bravo']\n",
      "['bravo', 'alpha']\n"
     ]
    }
   ],
   "source": [
    "data = ['bravo','alpha','good']\n",
    "\n",
    "result=[] \n",
    "for i in range(len(data)):\n",
    "    if len(data[i]) == 5:\n",
    "        result.append(data[i])\n",
    "        print(result)"
   ]
  },
  {
   "cell_type": "code",
   "execution_count": 8,
   "id": "607b458e",
   "metadata": {},
   "outputs": [],
   "source": [
    "def reduce_func2(func,ls):\n",
    "    result = ls[0]\n",
    "    del ls[0]\n",
    "    for data in ls :\n",
    "        result = func(result, data)\n",
    "        return result\n",
    "    print()"
   ]
  },
  {
   "cell_type": "code",
   "execution_count": 9,
   "id": "03669ee0",
   "metadata": {},
   "outputs": [
    {
     "name": "stdout",
     "output_type": "stream",
     "text": [
      "666666\n",
      "55555\n",
      "4444\n",
      "333\n",
      "22\n",
      "1\n"
     ]
    }
   ],
   "source": [
    "for i in range(6,0,-1):\n",
    "    for  j in range(i):\n",
    "        print(i, end='')\n",
    "    print()"
   ]
  },
  {
   "cell_type": "code",
   "execution_count": 10,
   "id": "05dc2933",
   "metadata": {},
   "outputs": [
    {
     "name": "stdout",
     "output_type": "stream",
     "text": [
      "012345\n",
      "01234\n",
      "0123\n",
      "012\n",
      "01\n"
     ]
    }
   ],
   "source": [
    "for i in range(6,1,-1):\n",
    "    for  j in range(i):\n",
    "        print(j, end='')\n",
    "    print()"
   ]
  },
  {
   "cell_type": "code",
   "execution_count": 11,
   "id": "fb6d3a26",
   "metadata": {},
   "outputs": [
    {
     "name": "stdout",
     "output_type": "stream",
     "text": [
      "2\n",
      "1\n",
      "0\n",
      "-1\n",
      "-2\n"
     ]
    }
   ],
   "source": [
    "number=5\n",
    "for line in range(number):\n",
    "    space= number// 2 - line\n",
    "    print(space)"
   ]
  },
  {
   "cell_type": "code",
   "execution_count": 12,
   "id": "9002da42",
   "metadata": {},
   "outputs": [
    {
     "name": "stdout",
     "output_type": "stream",
     "text": [
      "9\n"
     ]
    }
   ],
   "source": [
    "star = number - space*2 \n",
    "print(star)"
   ]
  },
  {
   "cell_type": "code",
   "execution_count": 20,
   "id": "3d83761a",
   "metadata": {},
   "outputs": [
    {
     "name": "stdout",
     "output_type": "stream",
     "text": [
      "2 1\n",
      "  *\n",
      "1 3\n",
      " ***\n",
      "0 5\n",
      "*****\n",
      "1 5\n",
      " *****\n",
      "2 5\n",
      "  *****\n"
     ]
    }
   ],
   "source": [
    "number=5\n",
    "for line in range(number):\n",
    "    space= number// 2 - line\n",
    "    if space < 0:\n",
    "        space *= -1\n",
    "\n",
    "    else :\n",
    "        star = number- space*2 \n",
    "    print(space, star)\n",
    "    print(\" \" *space + \"*\"* star)\n",
    "        "
   ]
  },
  {
   "cell_type": "code",
   "execution_count": null,
   "id": "a7d6c4e5",
   "metadata": {},
   "outputs": [],
   "source": []
  },
  {
   "cell_type": "code",
   "execution_count": 21,
   "id": "c87a111c",
   "metadata": {},
   "outputs": [
    {
     "ename": "SyntaxError",
     "evalue": "invalid syntax (<ipython-input-21-9e5c09808765>, line 1)",
     "output_type": "error",
     "traceback": [
      "\u001b[1;36m  File \u001b[1;32m\"<ipython-input-21-9e5c09808765>\"\u001b[1;36m, line \u001b[1;32m1\u001b[0m\n\u001b[1;33m    j for j in range(5)\u001b[0m\n\u001b[1;37m      ^\u001b[0m\n\u001b[1;31mSyntaxError\u001b[0m\u001b[1;31m:\u001b[0m invalid syntax\n"
     ]
    }
   ],
   "source": [
    "j for j in range(5)"
   ]
  },
  {
   "cell_type": "code",
   "execution_count": 23,
   "id": "7cb73a88",
   "metadata": {},
   "outputs": [
    {
     "name": "stdout",
     "output_type": "stream",
     "text": [
      "잔고가'+data+'남았습니다.'\n"
     ]
    }
   ],
   "source": [
    "data= 100\n",
    "print(\"잔고가'+data+'남았습니다.'\")"
   ]
  },
  {
   "cell_type": "code",
   "execution_count": null,
   "id": "dfcea5a2",
   "metadata": {},
   "outputs": [],
   "source": []
  },
  {
   "cell_type": "code",
   "execution_count": null,
   "id": "e411fc61",
   "metadata": {},
   "outputs": [],
   "source": []
  },
  {
   "cell_type": "code",
   "execution_count": null,
   "id": "49f35734",
   "metadata": {},
   "outputs": [],
   "source": []
  },
  {
   "cell_type": "code",
   "execution_count": null,
   "id": "7ae80886",
   "metadata": {},
   "outputs": [],
   "source": []
  },
  {
   "cell_type": "code",
   "execution_count": null,
   "id": "e698ffdc",
   "metadata": {},
   "outputs": [],
   "source": []
  },
  {
   "cell_type": "code",
   "execution_count": null,
   "id": "35995519",
   "metadata": {},
   "outputs": [],
   "source": []
  },
  {
   "cell_type": "code",
   "execution_count": null,
   "id": "71e8b6b7",
   "metadata": {},
   "outputs": [],
   "source": []
  },
  {
   "cell_type": "code",
   "execution_count": null,
   "id": "e7d6fc49",
   "metadata": {},
   "outputs": [],
   "source": []
  }
 ],
 "metadata": {
  "kernelspec": {
   "display_name": "Python 3",
   "language": "python",
   "name": "python3"
  },
  "language_info": {
   "codemirror_mode": {
    "name": "ipython",
    "version": 3
   },
   "file_extension": ".py",
   "mimetype": "text/x-python",
   "name": "python",
   "nbconvert_exporter": "python",
   "pygments_lexer": "ipython3",
   "version": "3.8.8"
  }
 },
 "nbformat": 4,
 "nbformat_minor": 5
}
