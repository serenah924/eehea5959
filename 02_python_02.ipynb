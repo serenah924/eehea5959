{
 "cells": [
  {
   "cell_type": "markdown",
   "id": "25c649f1-975c-4ac4-a079-3f0302d9d123",
   "metadata": {},
   "source": [
    "## CH 05. 조건문"
   ]
  },
  {
   "cell_type": "markdown",
   "id": "646d514a-cf87-45aa-82f8-e5683c3e8089",
   "metadata": {},
   "source": [
    "### 05-01. if, elif, else 명령어 이해"
   ]
  },
  {
   "cell_type": "markdown",
   "id": "970670a0-d70e-42be-8b17-26b46773d1aa",
   "metadata": {},
   "source": [
    "- 특정 조건에 따라서 다른 코드를 실행하는 문법\n",
    "- if, elif, else"
   ]
  },
  {
   "cell_type": "markdown",
   "id": "3017992b-8566-461c-998c-cec83179db1b",
   "metadata": {},
   "source": [
    "- 조건 1 : 지갑에 돈이 10000원 이상이면 택시를 탄다.\n",
    "- 조건 2 : 지갑에 돈이 2000원 이상이면 버스를 탄다.\n",
    "- 조건 3 : 지갑에 돈이 2000원 미만이면 걸어간다."
   ]
  },
  {
   "cell_type": "code",
   "execution_count": 1,
   "id": "e9b0f3a1-d813-457f-a4f0-23b8e557e320",
   "metadata": {
    "tags": []
   },
   "outputs": [
    {
     "name": "stdout",
     "output_type": "stream",
     "text": [
      "걸어간다.\n",
      "코드종료\n"
     ]
    }
   ],
   "source": [
    "money = 1000\n",
    "if money >= 10000:\n",
    "    print('택시를 탄다.')\n",
    "elif money >= 2000:\n",
    "    print('버스를 탄다.')\n",
    "else:\n",
    "    print('걸어간다.')\n",
    "print('코드종료')"
   ]
  },
  {
   "cell_type": "markdown",
   "id": "df80dacb-62b5-450d-8810-23faf6950081",
   "metadata": {},
   "source": [
    "### 05-02. 조건문을 이용한 ATM 기계 구현 문제"
   ]
  },
  {
   "cell_type": "markdown",
   "id": "2e01db35-a0c7-4b8d-8932-f9476d90fb2b",
   "metadata": {
    "tags": []
   },
   "source": [
    "- ATM 기기 코드 작성\n",
    "    - 조건 1 : 예금잔고가 인출금액보다 많으면 인출금액 인출\n",
    "    - 조건 2 : 인출금액이 5000원이하이면 인출\n",
    "    - 조건 3 : 인출이 되지 않으면 부족잔고를 출력\n",
    "        - 예금잔고에서 인출금액 차감"
   ]
  },
  {
   "cell_type": "code",
   "execution_count": 2,
   "id": "b2dcd582-6c36-42d5-8911-2e55e4701fd6",
   "metadata": {
    "tags": []
   },
   "outputs": [
    {
     "name": "stdout",
     "output_type": "stream",
     "text": [
      "부족잔고 6000\n",
      "예금잔고 10000\n"
     ]
    }
   ],
   "source": [
    "balance = 10000\n",
    "withdraw = 16000\n",
    "if balance >= withdraw:\n",
    "    print('인출금액', withdraw)\n",
    "    balance -= withdraw\n",
    "else:\n",
    "    print('부족잔고', withdraw - balance)\n",
    "print('예금잔고', balance)"
   ]
  },
  {
   "cell_type": "markdown",
   "id": "6241e11f-cbcd-420a-bea8-a9815c7d7ce4",
   "metadata": {},
   "source": [
    "- 조건 1 : 예금잔고가 인출금액보다 작으면 인출 불가\n",
    "- 조건 2 : 인출금액이 5000원 이상이면 인출 불가\n",
    "- 조건 3 : 위의 조건을 만족하지 않으면 인출 가능"
   ]
  },
  {
   "cell_type": "code",
   "execution_count": 3,
   "id": "98459fe2-5859-4707-960e-54c3e32ad7a7",
   "metadata": {
    "tags": []
   },
   "outputs": [
    {
     "name": "stdout",
     "output_type": "stream",
     "text": [
      "인출금액 4000\n",
      "예금잔고 6000\n"
     ]
    }
   ],
   "source": [
    "balance, withdraw = 10000, 4000\n",
    "if balance < withdraw:\n",
    "    print('인출불가')\n",
    "elif withdraw > 5000:\n",
    "    print('인출불가')\n",
    "else:\n",
    "    print('인출금액', withdraw)\n",
    "    balance -= withdraw\n",
    "print('예금잔고', balance)"
   ]
  },
  {
   "cell_type": "markdown",
   "id": "4eba9dc7-61e3-44d6-bd28-b6bcc532a2c4",
   "metadata": {},
   "source": [
    "### 05-03. 삼항연산자"
   ]
  },
  {
   "cell_type": "markdown",
   "id": "2ded8bb4-5d25-4a27-936d-741f6d907568",
   "metadata": {},
   "source": [
    "- 삼항연산자 : 간단한 조건문을 한줄의 코드로 작성하는 문법\n",
    "- `<True> if <condition> else <False>`"
   ]
  },
  {
   "cell_type": "code",
   "execution_count": 4,
   "id": "cb4e3fc3-4226-438b-8cc7-9394f921e284",
   "metadata": {
    "tags": []
   },
   "outputs": [
    {
     "name": "stdout",
     "output_type": "stream",
     "text": [
      "짝수\n"
     ]
    }
   ],
   "source": [
    "data = 10\n",
    "if data % 2 == 0:\n",
    "    print('짝수')\n",
    "else:\n",
    "    print('홀수')"
   ]
  },
  {
   "cell_type": "code",
   "execution_count": 5,
   "id": "6c89ead3-f131-4dc4-a084-8a1564588283",
   "metadata": {
    "tags": []
   },
   "outputs": [
    {
     "data": {
      "text/plain": [
       "'짝수'"
      ]
     },
     "execution_count": 5,
     "metadata": {},
     "output_type": "execute_result"
    }
   ],
   "source": [
    "data = 10\n",
    "'짝수' if data % 2 == 0 else '홀수'"
   ]
  },
  {
   "cell_type": "markdown",
   "id": "dc79effe-5f22-4315-9f9e-16a52840a4a4",
   "metadata": {},
   "source": [
    "### 05-04. 삼항연산자를 이용한 ATM 기계 구현 문제"
   ]
  },
  {
   "cell_type": "markdown",
   "id": "c3a488c7-57d7-4b97-a7ea-b5c7cb12ef75",
   "metadata": {},
   "source": [
    "- 아래의 코드를 삼항연산자를 이용하여 코드를 작성하세요."
   ]
  },
  {
   "cell_type": "code",
   "execution_count": 6,
   "id": "a0228695-5f71-4251-bda7-7b83a0f4d4a0",
   "metadata": {
    "tags": []
   },
   "outputs": [
    {
     "name": "stdout",
     "output_type": "stream",
     "text": [
      "인출불가\n"
     ]
    }
   ],
   "source": [
    "balance, withdraw = 10000, 14000\n",
    "if balance >= withdraw:\n",
    "    print('인출가능')\n",
    "else:\n",
    "    print('인출불가')"
   ]
  },
  {
   "cell_type": "code",
   "execution_count": 7,
   "id": "561e67d6-efeb-4409-a5c9-0a9dd4be7334",
   "metadata": {
    "tags": []
   },
   "outputs": [],
   "source": [
    "# CODE"
   ]
  },
  {
   "cell_type": "markdown",
   "id": "d4529bad-dd89-4812-86fb-54242bbcf400",
   "metadata": {},
   "source": [
    "## CH 06. 반복문"
   ]
  },
  {
   "cell_type": "markdown",
   "id": "1f22c53b-209e-42f1-bdd9-4a751c23e330",
   "metadata": {},
   "source": [
    "### 06-01. 반복문 개요와 반복문을 사용하는 이유"
   ]
  },
  {
   "cell_type": "markdown",
   "id": "e346aba0-81a3-4c98-b131-de78e2525793",
   "metadata": {},
   "source": [
    "- 특정 코드를 반복적으로 실행할때 사용하는 문법\n",
    "- 코드의 유지보수, 효율성이 좋아짐\n",
    "- while, for, break, continue, range()"
   ]
  },
  {
   "cell_type": "code",
   "execution_count": 8,
   "id": "38bb5a42-01b1-4c3e-8de0-1b7ac231f65b",
   "metadata": {
    "tags": []
   },
   "outputs": [
    {
     "name": "stdout",
     "output_type": "stream",
     "text": [
      "python\n",
      "python\n",
      "python\n"
     ]
    }
   ],
   "source": [
    "# python 문자열 3번 출력\n",
    "print('python')\n",
    "print('python')\n",
    "print('python')"
   ]
  },
  {
   "cell_type": "code",
   "execution_count": 9,
   "id": "b3586b3e-8469-4200-b787-204c61697426",
   "metadata": {
    "tags": []
   },
   "outputs": [],
   "source": [
    "# 반복문으로 반복되는 코드를 줄일수 있음"
   ]
  },
  {
   "cell_type": "markdown",
   "id": "8be4f8c0-0c81-4bf8-97f5-086216007ce1",
   "metadata": {},
   "source": [
    "### 06-02. while 명령어를 이용한 반복문"
   ]
  },
  {
   "cell_type": "markdown",
   "id": "b0fba254-bcc5-49d8-aab8-d97b0de3f092",
   "metadata": {},
   "source": [
    "- while : `while <condition>`\n",
    "    - condition이 False가 될때까지 코드 반복\n",
    "    - 무한루프에 빠질수 있음 : 런타임 > 실행중단\n",
    "    - condition이 논리값이 아니면 bool 데이터타입으로 형변환해서 판단"
   ]
  },
  {
   "cell_type": "code",
   "execution_count": 10,
   "id": "99cb021e-eba6-423f-8bcd-39b458ad304f",
   "metadata": {
    "tags": []
   },
   "outputs": [
    {
     "name": "stdout",
     "output_type": "stream",
     "text": [
      "python\n",
      "python\n",
      "python\n"
     ]
    }
   ],
   "source": [
    "count = 3\n",
    "while count > 0:\n",
    "    print('python')\n",
    "    count -= 1"
   ]
  },
  {
   "cell_type": "markdown",
   "id": "7982f6f7-34e8-42eb-8b8c-5bd7b85d5cbb",
   "metadata": {
    "tags": []
   },
   "source": [
    "### 06-03. for 명령어를 이용한 반복문"
   ]
  },
  {
   "cell_type": "markdown",
   "id": "73e15793-0991-43bf-82e8-521b4ebc49ce",
   "metadata": {},
   "source": [
    "- for variables in collection:\n",
    "- collection 갯수 만큼 코드를 반복적으로 실행"
   ]
  },
  {
   "cell_type": "code",
   "execution_count": 11,
   "id": "c9aac7b8-fd8f-4a42-9aff-ea208d255928",
   "metadata": {
    "tags": []
   },
   "outputs": [
    {
     "name": "stdout",
     "output_type": "stream",
     "text": [
      "python 0\n",
      "python 1\n",
      "python 2\n"
     ]
    }
   ],
   "source": [
    "for number in [0, 1, 2]:\n",
    "    print('python', number)"
   ]
  },
  {
   "cell_type": "markdown",
   "id": "ea03de95-797d-494d-98f3-f8d64b5e6d5f",
   "metadata": {},
   "source": [
    "- range() : list 데이터를 만들어주는 함수\n",
    "- range(end) : range(3) : [0, 1, 2]\n",
    "- range(start, end) : range(5, 8) : [5, 6, 7]\n",
    "- range(start, end, stride) : range(5, 10, 2) : [5, 7, 9]"
   ]
  },
  {
   "cell_type": "code",
   "execution_count": 12,
   "id": "462ffeb7-a853-43fa-9bef-d4ca227174d1",
   "metadata": {
    "tags": []
   },
   "outputs": [
    {
     "name": "stdout",
     "output_type": "stream",
     "text": [
      "[0, 1, 2]\n",
      "[5, 6, 7]\n",
      "[5, 7, 9]\n"
     ]
    }
   ],
   "source": [
    "print(list(range(3)))\n",
    "print(list(range(5,8)))\n",
    "print(list(range(5, 10, 2)))"
   ]
  },
  {
   "cell_type": "code",
   "execution_count": 13,
   "id": "338de8b5-50e3-48b4-8edf-55bc104d7d3e",
   "metadata": {
    "tags": []
   },
   "outputs": [
    {
     "name": "stdout",
     "output_type": "stream",
     "text": [
      "python 0\n",
      "python 1\n",
      "python 2\n"
     ]
    }
   ],
   "source": [
    "for number in range(3):\n",
    "    print('python', number)"
   ]
  },
  {
   "cell_type": "markdown",
   "id": "68215036-0841-474f-ab37-02fc354b1902",
   "metadata": {},
   "source": [
    "### 06-04. for 명령어를 사용하여 특정 데이터를 필터링하는 문제"
   ]
  },
  {
   "cell_type": "code",
   "execution_count": 14,
   "id": "71dc86cc-74d5-4861-aff5-359a4e9fff50",
   "metadata": {
    "tags": []
   },
   "outputs": [
    {
     "data": {
      "text/plain": [
       "[1, 2, 3, 4]"
      ]
     },
     "execution_count": 14,
     "metadata": {},
     "output_type": "execute_result"
    }
   ],
   "source": [
    "# list.append() : 리스트 변수에 데이터를 추가\n",
    "data = [1, 2, 3]\n",
    "data.append(4)\n",
    "data"
   ]
  },
  {
   "cell_type": "code",
   "execution_count": 15,
   "id": "077c0fa0-f8c7-45f8-82bd-a40f8215569e",
   "metadata": {
    "tags": []
   },
   "outputs": [
    {
     "data": {
      "text/plain": [
       "['사업보고서(2020)', '감사보고서(2020)']"
      ]
     },
     "execution_count": 15,
     "metadata": {},
     "output_type": "execute_result"
    }
   ],
   "source": [
    "# 2020년도 보고서목록 출력\n",
    "# for variable in collection:\n",
    "reports = ['사업보고서(2020)', '감사보고서(2020)', '[기재정정]사업보고서(2021)']\n",
    "reports_2020 = []\n",
    "for report in reports:\n",
    "    if report[-5:-1] == '2020':\n",
    "        reports_2020.append(report)\n",
    "reports_2020"
   ]
  },
  {
   "cell_type": "markdown",
   "id": "fdb59fc6-936c-4034-879d-a6249ecb1349",
   "metadata": {},
   "source": [
    "### 06-05. List Comprehension"
   ]
  },
  {
   "cell_type": "markdown",
   "id": "67f159fa-8d49-4c8a-970d-51de6578cc61",
   "metadata": {
    "tags": []
   },
   "source": [
    "- 간단한 for, if를 사용하여 리스트 데이터를 만들때 사용되는 문법\n",
    "- `[<var> for <var> in <collection> if <condition>]`"
   ]
  },
  {
   "cell_type": "code",
   "execution_count": 16,
   "id": "a941c226",
   "metadata": {
    "tags": []
   },
   "outputs": [
    {
     "data": {
      "text/plain": [
       "['사업보고서(2020)', '감사보고서(2020)']"
      ]
     },
     "execution_count": 16,
     "metadata": {},
     "output_type": "execute_result"
    }
   ],
   "source": [
    "# 2020년도 보고서 목록 리스트로 출력\n",
    "reports = ['사업보고서(2020)', '감사보고서(2020)', '[기재정정]사업보고서(2021)']\n",
    "reports_2020 = []\n",
    "for report in reports:\n",
    "    if report[-5:-1] == '2020':\n",
    "        reports_2020.append(report)\n",
    "reports_2020"
   ]
  },
  {
   "cell_type": "code",
   "execution_count": 17,
   "id": "fe9c46cb-a1f0-4a16-a95a-eb31105f0608",
   "metadata": {
    "tags": []
   },
   "outputs": [
    {
     "data": {
      "text/plain": [
       "['사업보고서(2020)', '감사보고서(2020)']"
      ]
     },
     "execution_count": 17,
     "metadata": {},
     "output_type": "execute_result"
    }
   ],
   "source": [
    "reports_2020 = [\n",
    "    report \n",
    "    for report in reports \n",
    "    if report[-5:-1] == '2020'\n",
    "]\n",
    "reports_2020"
   ]
  },
  {
   "cell_type": "code",
   "execution_count": 18,
   "id": "2c0bc6b8",
   "metadata": {
    "tags": []
   },
   "outputs": [
    {
     "data": {
      "text/plain": [
       "[20, 40, 10, 60]"
      ]
     },
     "execution_count": 18,
     "metadata": {},
     "output_type": "execute_result"
    }
   ],
   "source": [
    "# 나이를 연령대로 변경\n",
    "age = [23, 45, 16, 67]\n",
    "# ages = []\n",
    "# for data in age:\n",
    "#     ages.append(data // 10 * 10)\n",
    "ages = [data // 10 * 10 for data in age]\n",
    "ages"
   ]
  },
  {
   "cell_type": "markdown",
   "id": "85a95cb0-459d-4620-b764-a00c74dec9c3",
   "metadata": {},
   "source": [
    "### 06-06. for 명령어와 함께 사용하는 함수들\n",
    "- enumerate : 리스트 데이터에 순서값인 index를 붙여줌\n",
    "- zip : 여러개의 리스트에 같은 index 데이터를 묶어줌"
   ]
  },
  {
   "cell_type": "code",
   "execution_count": 19,
   "id": "955b183a-2b56-4d34-aa0b-7235d3401b9d",
   "metadata": {
    "tags": []
   },
   "outputs": [
    {
     "name": "stdout",
     "output_type": "stream",
     "text": [
      "0 사업보고서(2020)\n",
      "1 감사보고서(2020)\n",
      "2 [기재정정]사업보고서(2021)\n"
     ]
    }
   ],
   "source": [
    "# enumerate\n",
    "idx = 0\n",
    "reports = ['사업보고서(2020)', '감사보고서(2020)', '[기재정정]사업보고서(2021)']\n",
    "for report in reports:\n",
    "    print(idx, report)\n",
    "    idx += 1"
   ]
  },
  {
   "cell_type": "code",
   "execution_count": 20,
   "id": "7775c2aa",
   "metadata": {
    "tags": []
   },
   "outputs": [
    {
     "name": "stdout",
     "output_type": "stream",
     "text": [
      "0 사업보고서(2020)\n",
      "1 감사보고서(2020)\n",
      "2 [기재정정]사업보고서(2021)\n"
     ]
    }
   ],
   "source": [
    "list(enumerate(reports))\n",
    "for idx, report in enumerate(reports):\n",
    "    print(idx, report)"
   ]
  },
  {
   "cell_type": "code",
   "execution_count": 21,
   "id": "75ef0fd0-900b-4637-9d92-d52b04238d50",
   "metadata": {
    "tags": []
   },
   "outputs": [
    {
     "data": {
      "text/plain": [
       "[(1, 'jhon', 23), (23, 'peter', 45), (56, 'anchel', 34)]"
      ]
     },
     "execution_count": 21,
     "metadata": {},
     "output_type": "execute_result"
    }
   ],
   "source": [
    "# zip() : 같은 인덱스를 갖는 데이터끼리 묶어서 리스트로 만듦\n",
    "user_id = [1, 23, 56]\n",
    "user_name = ['jhon', 'peter', 'anchel']\n",
    "user_age = [23, 45, 34]\n",
    "list(zip(user_id, user_name, user_age))"
   ]
  },
  {
   "cell_type": "code",
   "execution_count": 22,
   "id": "40785f00",
   "metadata": {
    "tags": []
   },
   "outputs": [
    {
     "name": "stdout",
     "output_type": "stream",
     "text": [
      "1 jhon 23\n",
      "23 peter 45\n",
      "56 anchel 34\n"
     ]
    }
   ],
   "source": [
    "for ui, un, ua in zip(user_id, user_name, user_age):\n",
    "    print(ui, un, ua)"
   ]
  },
  {
   "cell_type": "markdown",
   "id": "7d80fc39-ed5e-4c55-a46a-cc9e065203d0",
   "metadata": {},
   "source": [
    "### 06-07. break, continue 명령어 사용법"
   ]
  },
  {
   "cell_type": "markdown",
   "id": "f780fd28-ced1-41b3-89b3-ee5f73e164af",
   "metadata": {},
   "source": [
    "- break : 코드의 반복 중단\n",
    "- continue : 바로 for, while 명령어가 있는 코드 라인으로 올라가서 코드 실행"
   ]
  },
  {
   "cell_type": "code",
   "execution_count": 23,
   "id": "89075d25-0fae-4536-b6e9-ede199057307",
   "metadata": {
    "tags": []
   },
   "outputs": [
    {
     "name": "stdout",
     "output_type": "stream",
     "text": [
      "0\n",
      "1\n",
      "3\n",
      "4\n",
      "5\n",
      "6\n"
     ]
    }
   ],
   "source": [
    "for number in range(10):\n",
    "    if number == 2:\n",
    "        continue\n",
    "    print(number)\n",
    "    if number == 6:\n",
    "        break"
   ]
  },
  {
   "cell_type": "markdown",
   "id": "efed90ea-edb0-4f4d-89b3-8c2fe3163be3",
   "metadata": {},
   "source": [
    "### 08. 조건문과 반복문을 활용한 로또번호 출력 문제"
   ]
  },
  {
   "cell_type": "markdown",
   "id": "da4677c1-1374-4948-992f-77543ccd0b14",
   "metadata": {},
   "source": [
    "- 로또번호 리스트 출력\n",
    "- 조건 1 : 1 ~ 45까지 랜덤한 6개의 숫자\n",
    "- 조건 2 : 중복되는 숫자 X"
   ]
  },
  {
   "cell_type": "code",
   "execution_count": 24,
   "id": "c9e6a5d3",
   "metadata": {
    "tags": []
   },
   "outputs": [],
   "source": [
    "import random"
   ]
  },
  {
   "cell_type": "code",
   "execution_count": 25,
   "id": "1cb4854d-9467-444f-822c-c43a6e4ee965",
   "metadata": {
    "tags": []
   },
   "outputs": [],
   "source": [
    "# CODE"
   ]
  },
  {
   "cell_type": "markdown",
   "id": "999e8a75-190e-4538-b4b3-68d2373f4804",
   "metadata": {},
   "source": [
    "## CH 07. 함수"
   ]
  },
  {
   "cell_type": "markdown",
   "id": "6104bbbd",
   "metadata": {},
   "source": [
    "### 07-01. 함수 개요와 사용법"
   ]
  },
  {
   "cell_type": "markdown",
   "id": "f2c86e4d-7f41-4bed-bdee-448d4015e979",
   "metadata": {},
   "source": [
    "- 중복코드를 묶어서 코드 작성 실행 문법 > 코드 유지보수 좋아짐\n",
    "- def, argument-parameter, return, docstring ,scope, lambda\n",
    "- 사용법 : 함수선언(코드작성) > 함수호출(코드실행)"
   ]
  },
  {
   "cell_type": "code",
   "execution_count": 26,
   "id": "4cba42b9",
   "metadata": {
    "tags": []
   },
   "outputs": [],
   "source": [
    "import random"
   ]
  },
  {
   "cell_type": "code",
   "execution_count": 27,
   "id": "6c0d6519",
   "metadata": {
    "tags": []
   },
   "outputs": [
    {
     "name": "stdout",
     "output_type": "stream",
     "text": [
      "[34, 3, 4, 36, 6, 18]\n",
      "python\n",
      "[32, 3, 7, 42, 18, 24]\n"
     ]
    }
   ],
   "source": [
    "# 로또번호출력\n",
    "lotto = []\n",
    "while True:\n",
    "    lotto.append(random.randint(1, 45))\n",
    "    lotto = list(set(lotto))\n",
    "    if len(lotto) >= 6:\n",
    "        break\n",
    "print(lotto)\n",
    "\n",
    "# 파이썬출력\n",
    "print('python')\n",
    "\n",
    "# 로또번호출력\n",
    "lotto = []\n",
    "while True:\n",
    "    lotto.append(random.randint(1, 45))\n",
    "    lotto = list(set(lotto))\n",
    "    if len(lotto) >= 6:\n",
    "        break\n",
    "print(lotto)"
   ]
  },
  {
   "cell_type": "code",
   "execution_count": 28,
   "id": "05c7da51",
   "metadata": {
    "tags": []
   },
   "outputs": [],
   "source": [
    "# 함수선언 : 코드작성\n",
    "def show_lotto():\n",
    "    lotto = []\n",
    "    while True:\n",
    "        lotto.append(random.randint(1, 45))\n",
    "        lotto = list(set(lotto))\n",
    "        if len(lotto) >= 6:\n",
    "            break\n",
    "    print(lotto)"
   ]
  },
  {
   "cell_type": "code",
   "execution_count": 29,
   "id": "5c2e3500",
   "metadata": {
    "tags": []
   },
   "outputs": [
    {
     "name": "stdout",
     "output_type": "stream",
     "text": [
      "[3, 5, 9, 10, 21, 23]\n"
     ]
    }
   ],
   "source": [
    "# 함수호출 : 코드실행\n",
    "show_lotto()"
   ]
  },
  {
   "cell_type": "code",
   "execution_count": 30,
   "id": "ac35bb43",
   "metadata": {
    "tags": []
   },
   "outputs": [
    {
     "name": "stdout",
     "output_type": "stream",
     "text": [
      "[32, 1, 11, 13, 19, 31]\n",
      "python\n",
      "[1, 33, 9, 12, 17, 20]\n"
     ]
    }
   ],
   "source": [
    "def show_lotto():\n",
    "    lotto = []\n",
    "    while True:\n",
    "        lotto.append(random.randint(1, 45))\n",
    "        lotto = list(set(lotto))\n",
    "        if len(lotto) >= 6:\n",
    "            break\n",
    "    print(lotto)\n",
    "# 로또번호출력\n",
    "show_lotto()\n",
    "# 파이썬출력\n",
    "print('python')\n",
    "# 로또번호출력\n",
    "show_lotto()"
   ]
  },
  {
   "cell_type": "markdown",
   "id": "c63a0c26",
   "metadata": {},
   "source": [
    "### 07-02. 데이터를 전달하는 argument와 parameter 사용법"
   ]
  },
  {
   "cell_type": "code",
   "execution_count": 31,
   "id": "1c698c14",
   "metadata": {
    "tags": []
   },
   "outputs": [
    {
     "name": "stdout",
     "output_type": "stream",
     "text": [
      "[33, 2, 39, 10, 12, 19, 27]\n",
      "[36, 10, 11, 20, 27, 29]\n"
     ]
    }
   ],
   "source": [
    "# parameter-argument\n",
    "# 함수호출에서 데이터를 함수선언으로 전달할때 사용\n",
    "def show_lotto(count): # count : parameter\n",
    "    lotto = []\n",
    "    while True:\n",
    "        lotto.append(random.randint(1, 45))\n",
    "        lotto = list(set(lotto))\n",
    "        if len(lotto) >= count:\n",
    "            break\n",
    "    print(lotto)\n",
    "    \n",
    "# 로또번호출력 : 7개\n",
    "show_lotto(7) # 7 : argument\n",
    "\n",
    "# 로또번호출력 : 6개\n",
    "show_lotto(6)"
   ]
  },
  {
   "cell_type": "code",
   "execution_count": 32,
   "id": "0e5d7a2d",
   "metadata": {
    "tags": []
   },
   "outputs": [],
   "source": [
    "# n1 : parameter, n2=20, n3=30 : default parameter\n",
    "def plus(n1, n2=20, n3=30): \n",
    "    print(n1 + n2 + n3)"
   ]
  },
  {
   "cell_type": "code",
   "execution_count": 33,
   "id": "ea8348f4",
   "metadata": {
    "tags": []
   },
   "outputs": [
    {
     "name": "stdout",
     "output_type": "stream",
     "text": [
      "71\n"
     ]
    }
   ],
   "source": [
    "plus(1, n3=50) # 1 : argument, n3=50 : keyword argument"
   ]
  },
  {
   "cell_type": "markdown",
   "id": "bc8b8c56",
   "metadata": {},
   "source": [
    "### 07-03. 데이터를 되돌려주는 return 사용법"
   ]
  },
  {
   "cell_type": "markdown",
   "id": "823c6a5b-7e66-4594-8c96-b03132a12869",
   "metadata": {},
   "source": [
    "- return\n",
    "    - 함수를 실행후 결과를 변수에 저장하거나 결과를 출력\n",
    "    - 함수에서 코드 실행을 중단"
   ]
  },
  {
   "cell_type": "code",
   "execution_count": 34,
   "id": "b91db925",
   "metadata": {
    "tags": []
   },
   "outputs": [],
   "source": [
    "def plus1(n1, n2):\n",
    "    print('plus1', n1 + n2)\n",
    "\n",
    "def plus2(n1, n2):\n",
    "    print('plus2', n1 + n2)\n",
    "    return n1 + n2"
   ]
  },
  {
   "cell_type": "code",
   "execution_count": 35,
   "id": "648ecf84",
   "metadata": {
    "tags": []
   },
   "outputs": [
    {
     "name": "stdout",
     "output_type": "stream",
     "text": [
      "plus1 3\n",
      "plus2 5\n",
      "result None 5\n"
     ]
    }
   ],
   "source": [
    "re1 = plus1(1, 2)\n",
    "re2 = plus2(2, 3)\n",
    "print('result', re1, re2)"
   ]
  },
  {
   "cell_type": "code",
   "execution_count": 36,
   "id": "985f196e",
   "metadata": {
    "tags": []
   },
   "outputs": [
    {
     "name": "stdout",
     "output_type": "stream",
     "text": [
      "python PYTHON\n"
     ]
    }
   ],
   "source": [
    "# return 있는 함수\n",
    "data = 'python'\n",
    "result = data.upper()\n",
    "print(data, result)"
   ]
  },
  {
   "cell_type": "code",
   "execution_count": 37,
   "id": "6ea501f9",
   "metadata": {
    "tags": []
   },
   "outputs": [
    {
     "name": "stdout",
     "output_type": "stream",
     "text": [
      "[1, 2, 3] None\n"
     ]
    }
   ],
   "source": [
    "# return 없는 함수\n",
    "data = [1, 3, 2]\n",
    "result = data.sort()\n",
    "print(data, result)"
   ]
  },
  {
   "cell_type": "code",
   "execution_count": 38,
   "id": "755990b5",
   "metadata": {
    "tags": []
   },
   "outputs": [],
   "source": [
    "# 코드 실행을 중단하는 기능의 return\n",
    "def echo():\n",
    "    print('jupyter')\n",
    "    return\n",
    "    print('python')"
   ]
  },
  {
   "cell_type": "code",
   "execution_count": 39,
   "id": "8bd06d3c",
   "metadata": {
    "tags": []
   },
   "outputs": [
    {
     "name": "stdout",
     "output_type": "stream",
     "text": [
      "jupyter\n"
     ]
    }
   ],
   "source": [
    "echo()"
   ]
  },
  {
   "cell_type": "code",
   "execution_count": 40,
   "id": "7c7623b4",
   "metadata": {
    "tags": []
   },
   "outputs": [],
   "source": [
    "def grade(point):\n",
    "    if point >= 90:\n",
    "        rgrade = 'A'\n",
    "    elif point >= 80:\n",
    "        rgrade = 'B'\n",
    "    else:\n",
    "        rgrade = 'C'\n",
    "    return rgrade"
   ]
  },
  {
   "cell_type": "code",
   "execution_count": 41,
   "id": "17033e11",
   "metadata": {
    "tags": []
   },
   "outputs": [],
   "source": [
    "def grade(point):\n",
    "    if point >= 90:\n",
    "        return 'A'\n",
    "    if point >= 80:\n",
    "        return 'B'\n",
    "    return 'C'"
   ]
  },
  {
   "cell_type": "code",
   "execution_count": 42,
   "id": "4fdc636d",
   "metadata": {
    "tags": []
   },
   "outputs": [
    {
     "data": {
      "text/plain": [
       "'A'"
      ]
     },
     "execution_count": 42,
     "metadata": {},
     "output_type": "execute_result"
    }
   ],
   "source": [
    "grade(96)"
   ]
  },
  {
   "cell_type": "markdown",
   "id": "6b6a2a26",
   "metadata": {},
   "source": [
    "### 07-04. 로또번호 출력코드를 함수로 변경하는 문제"
   ]
  },
  {
   "cell_type": "markdown",
   "id": "22651d57-08ec-4e77-8c41-d5a2b5f8f300",
   "metadata": {},
   "source": [
    "- 문제. 숫자의 범위와 번호의 갯수를 설정할수 있는 함수로 아래의 코드를 변경"
   ]
  },
  {
   "cell_type": "code",
   "execution_count": 43,
   "id": "676117d7",
   "metadata": {
    "tags": []
   },
   "outputs": [
    {
     "name": "stdout",
     "output_type": "stream",
     "text": [
      "[2, 3, 15, 25, 38, 42]\n"
     ]
    }
   ],
   "source": [
    "import random\n",
    "\n",
    "lotto = []\n",
    "while True:\n",
    "    lotto.append(random.randint(1, 45))\n",
    "    lotto = list(set(lotto))\n",
    "    if len(lotto) >= 6:\n",
    "        break\n",
    "lotto.sort()\n",
    "print(lotto)"
   ]
  },
  {
   "cell_type": "code",
   "execution_count": 44,
   "id": "c4987d32",
   "metadata": {
    "tags": []
   },
   "outputs": [],
   "source": [
    "# CODE"
   ]
  },
  {
   "cell_type": "markdown",
   "id": "9b30a8c9",
   "metadata": {},
   "source": [
    "### 07-05. 함수를 설명하는 docstring 사용법"
   ]
  },
  {
   "cell_type": "markdown",
   "id": "e983c31d-31b9-4300-a8ce-41ca3fc98363",
   "metadata": {},
   "source": [
    "- docstring : 함수 설명글 : help()"
   ]
  },
  {
   "cell_type": "code",
   "execution_count": 45,
   "id": "9ab14a88",
   "metadata": {
    "tags": []
   },
   "outputs": [
    {
     "name": "stdout",
     "output_type": "stream",
     "text": [
      "Help on built-in function print in module builtins:\n",
      "\n",
      "print(*args, sep=' ', end='\\n', file=None, flush=False)\n",
      "    Prints the values to a stream, or to sys.stdout by default.\n",
      "    \n",
      "    sep\n",
      "      string inserted between values, default a space.\n",
      "    end\n",
      "      string appended after the last value, default a newline.\n",
      "    file\n",
      "      a file-like object (stream); defaults to the current sys.stdout.\n",
      "    flush\n",
      "      whether to forcibly flush the stream.\n",
      "\n"
     ]
    }
   ],
   "source": [
    "help(print)"
   ]
  },
  {
   "cell_type": "markdown",
   "id": "666d5a09-6d3a-4440-b8f6-6295dbe25cb0",
   "metadata": {},
   "source": [
    "- write docstring : 함수선언 코드 바로 아래에 멀티라인 문자열로 작성"
   ]
  },
  {
   "cell_type": "code",
   "execution_count": 46,
   "id": "a097bb1e",
   "metadata": {
    "tags": []
   },
   "outputs": [],
   "source": [
    "def plus(n1, n2):\n",
    "    '''\n",
    "    This is plus function.\n",
    "\n",
    "    params\n",
    "    ------\n",
    "    n1 : int, float : first number\n",
    "    n2 : int, float : second number\n",
    "    '''\n",
    "    print(n1 + n2)"
   ]
  },
  {
   "cell_type": "code",
   "execution_count": 47,
   "id": "6c36ce15",
   "metadata": {
    "tags": []
   },
   "outputs": [
    {
     "name": "stdout",
     "output_type": "stream",
     "text": [
      "Help on function plus in module __main__:\n",
      "\n",
      "plus(n1, n2)\n",
      "    This is plus function.\n",
      "    \n",
      "    params\n",
      "    ------\n",
      "    n1 : int, float : first number\n",
      "    n2 : int, float : second number\n",
      "\n"
     ]
    }
   ],
   "source": [
    "help(plus)"
   ]
  },
  {
   "cell_type": "markdown",
   "id": "4cf7bca5",
   "metadata": {},
   "source": [
    "### 07-06. *, **를 사용하는 argument와 parameter 사용법"
   ]
  },
  {
   "cell_type": "markdown",
   "id": "3f966e99-1da4-4bff-93b4-eb6c922b1085",
   "metadata": {},
   "source": [
    "- `*`, `**` : paramter, argument\n",
    "- parameter : 여러개의 아규먼트를 하나의 파라미터(tuple,dict)로 받는 방법\n",
    "- argument : 컬렉션 데이터(list,tuple,dict)를 여러개의 아규먼트로 함수 호출"
   ]
  },
  {
   "cell_type": "code",
   "execution_count": 48,
   "id": "8474d787",
   "metadata": {
    "tags": []
   },
   "outputs": [
    {
     "name": "stdout",
     "output_type": "stream",
     "text": [
      "<class 'tuple'> (1, 2, 3, 4, 5)\n",
      "<class 'dict'> {'n1': 10, 'n2': 20}\n"
     ]
    },
    {
     "data": {
      "text/plain": [
       "45"
      ]
     },
     "execution_count": 48,
     "metadata": {},
     "output_type": "execute_result"
    }
   ],
   "source": [
    "# 아규먼트 갯수의 상관없이 함수실행\n",
    "# parameter : 여러개의 아규먼트를 하나의 파라미터(tuple,dict)로 받는 방법\n",
    "def plus(*args, **kwargs):\n",
    "    print(type(args), args)\n",
    "    print(type(kwargs), kwargs)\n",
    "    return sum(args) + sum(kwargs.values())\n",
    "\n",
    "plus(1, 2, 3, 4, 5, n1=10, n2=20)"
   ]
  },
  {
   "cell_type": "code",
   "execution_count": 49,
   "id": "99bd0724",
   "metadata": {
    "tags": []
   },
   "outputs": [],
   "source": [
    "# *, ** argument에서 사용하는 문법\n",
    "# argument : 컬렉션 데이터(list,tuple,dict)를 여러개의 아규먼트로 함수 호출\n",
    "def echo(*args, **kwargs):\n",
    "    print(args)\n",
    "    print(kwargs)"
   ]
  },
  {
   "cell_type": "code",
   "execution_count": 50,
   "id": "b1276a56",
   "metadata": {
    "tags": []
   },
   "outputs": [
    {
     "name": "stdout",
     "output_type": "stream",
     "text": [
      "([1, 2, 3],)\n",
      "{}\n",
      "(1, 2, 3)\n",
      "{}\n"
     ]
    }
   ],
   "source": [
    "data1 = [1, 2, 3]\n",
    "echo(data1) # echo([1, 2, 3]) : argument 갯수 : 1개, 데이터타입 : 리스트\n",
    "echo(*data1) # echo(1, 2, 3) : argument 갯수 : 3개, 데이터타입 : 정수"
   ]
  },
  {
   "cell_type": "code",
   "execution_count": 51,
   "id": "768e4eb2",
   "metadata": {
    "tags": []
   },
   "outputs": [
    {
     "name": "stdout",
     "output_type": "stream",
     "text": [
      "({'n1': 10, 'n2': 20},)\n",
      "{}\n",
      "()\n",
      "{'n1': 10, 'n2': 20}\n"
     ]
    }
   ],
   "source": [
    "data2 = {'n1': 10, 'n2': 20}\n",
    "echo(data2) # echo({'n1': 10, 'n2': 20})\n",
    "echo(**data2) # echo(n1=10, n2=20)"
   ]
  },
  {
   "cell_type": "code",
   "execution_count": 52,
   "id": "85fbdfe7",
   "metadata": {
    "tags": []
   },
   "outputs": [],
   "source": [
    "def connect(host, user, pw):\n",
    "    print('connent :', host, user, pw)"
   ]
  },
  {
   "cell_type": "code",
   "execution_count": 53,
   "id": "2869fff7",
   "metadata": {
    "tags": []
   },
   "outputs": [
    {
     "name": "stdout",
     "output_type": "stream",
     "text": [
      "connent : 1.2.3.6 root py\n"
     ]
    }
   ],
   "source": [
    "data = {'host': '1.2.3.6', 'user': 'root', 'pw': 'py'}\n",
    "# connect(host='1.2.3.5', user='root', pw='py')\n",
    "# connect(host=data['host'], user=data['user'], pw=data['pw'])\n",
    "connect(**data)"
   ]
  },
  {
   "cell_type": "markdown",
   "id": "faeb6cf2",
   "metadata": {},
   "source": [
    "### 07-07. 변수의 선언 영역을 구분하는 scope 사용법"
   ]
  },
  {
   "cell_type": "markdown",
   "id": "1b94e50c-5625-4a2c-899c-537dddd924b6",
   "metadata": {},
   "source": [
    "- scope\n",
    "    - 함수밖 : global : 전역영역 : 전역변수\n",
    "    - 함수안 : local : 지역영역 : 지역변수"
   ]
  },
  {
   "cell_type": "code",
   "execution_count": 54,
   "id": "fcb7255b",
   "metadata": {
    "tags": []
   },
   "outputs": [
    {
     "name": "stdout",
     "output_type": "stream",
     "text": [
      "10\n"
     ]
    }
   ],
   "source": [
    "# 실수하기 쉬운 코드 3\n",
    "data = 10\n",
    "\n",
    "def change():\n",
    "    data = 20\n",
    "\n",
    "change()\n",
    "print(data)"
   ]
  },
  {
   "cell_type": "code",
   "execution_count": 55,
   "id": "ad11ca19",
   "metadata": {
    "tags": []
   },
   "outputs": [
    {
     "name": "stdout",
     "output_type": "stream",
     "text": [
      "20\n"
     ]
    }
   ],
   "source": [
    "# global : 전역변수 > 지역변수로 사용하는 방법\n",
    "data = 10\n",
    "\n",
    "def change():\n",
    "    global data\n",
    "    data = 20\n",
    "\n",
    "change()\n",
    "print(data)"
   ]
  },
  {
   "cell_type": "code",
   "execution_count": 56,
   "id": "d852fbe8",
   "metadata": {
    "tags": []
   },
   "outputs": [
    {
     "name": "stdout",
     "output_type": "stream",
     "text": [
      "20\n"
     ]
    }
   ],
   "source": [
    "# return : 지역변수 > 전역변수로 사용하는 방법\n",
    "data = 10\n",
    "\n",
    "def change():\n",
    "    data = 20\n",
    "    return data\n",
    "\n",
    "data = change()\n",
    "print(data)"
   ]
  },
  {
   "cell_type": "code",
   "execution_count": 57,
   "id": "e615c3f4",
   "metadata": {
    "tags": []
   },
   "outputs": [
    {
     "name": "stdout",
     "output_type": "stream",
     "text": [
      "10\n",
      "10\n"
     ]
    }
   ],
   "source": [
    "# 지역영역에서 선언되지 않은 변수를 사용하려고 하면\n",
    "# 전역영역에서 변수를 확인하여 가져와서 사용\n",
    "data = 10\n",
    "\n",
    "def change():\n",
    "    # global data\n",
    "    print(data)\n",
    "\n",
    "change()\n",
    "print(data)"
   ]
  },
  {
   "cell_type": "markdown",
   "id": "633a0313",
   "metadata": {},
   "source": [
    "### 07-08. 일회성으로 사용되는 lambda 함수 사용법"
   ]
  },
  {
   "cell_type": "markdown",
   "id": "4ff5ee86-a6c8-4883-923c-1e731baa3194",
   "metadata": {},
   "source": [
    "- lambda function : 일회성 함수\n",
    "- 간단한 파라미터와 리턴코드로 이루어진 함수를 대체\n",
    "- lambda params: return_code"
   ]
  },
  {
   "cell_type": "code",
   "execution_count": 58,
   "id": "71b0fab2",
   "metadata": {
    "tags": []
   },
   "outputs": [],
   "source": [
    "# 함수 3개 선언 > 메모리 3칸\n",
    "def plus(n1, n2):\n",
    "    return n1 + n2\n",
    "\n",
    "def minus(n1, n2):\n",
    "    return n1 - n2\n",
    "\n",
    "def calc(func, n1, n2):\n",
    "    return func(n1, n2)"
   ]
  },
  {
   "cell_type": "code",
   "execution_count": 59,
   "id": "e9cd8942",
   "metadata": {
    "tags": []
   },
   "outputs": [
    {
     "data": {
      "text/plain": [
       "(3, 2)"
      ]
     },
     "execution_count": 59,
     "metadata": {},
     "output_type": "execute_result"
    }
   ],
   "source": [
    "calc(plus, 1, 2), calc(minus, 5, 3)"
   ]
  },
  {
   "cell_type": "code",
   "execution_count": 60,
   "id": "101b61e7",
   "metadata": {
    "tags": []
   },
   "outputs": [
    {
     "data": {
      "text/plain": [
       "3"
      ]
     },
     "execution_count": 60,
     "metadata": {},
     "output_type": "execute_result"
    }
   ],
   "source": [
    "plus_lambda = lambda n1, n2: n1 + n2\n",
    "plus_lambda(1, 2)"
   ]
  },
  {
   "cell_type": "code",
   "execution_count": 61,
   "id": "5f19f108",
   "metadata": {
    "tags": []
   },
   "outputs": [],
   "source": [
    "# 함수 1개 선언 > 메모리 1칸\n",
    "def calc(func, n1, n2):\n",
    "    return func(n1, n2)"
   ]
  },
  {
   "cell_type": "code",
   "execution_count": 62,
   "id": "3002e51a",
   "metadata": {
    "tags": []
   },
   "outputs": [
    {
     "data": {
      "text/plain": [
       "(3, 2)"
      ]
     },
     "execution_count": 62,
     "metadata": {},
     "output_type": "execute_result"
    }
   ],
   "source": [
    "calc(lambda n1, n2: n1 + n2, 1, 2), calc(lambda n1, n2: n1 - n2, 5, 3)"
   ]
  },
  {
   "cell_type": "markdown",
   "id": "6fbf532b-3618-472e-a3a8-ee71d3b56a79",
   "metadata": {},
   "source": [
    "### 07-09. 데코레이터 개념\n",
    "- 함수에서 코드를 변경하지 않고 기능을 수정하거나 추가 하는 문법\n",
    "- 서로 다른 함수에서 중복되는 코드를 데코레이터 함수로 만들수 있다."
   ]
  },
  {
   "cell_type": "code",
   "execution_count": 63,
   "id": "0a24de2a-5fa0-45d8-a805-e4c85127d021",
   "metadata": {
    "tags": []
   },
   "outputs": [],
   "source": [
    "# 데코레이터를 사용하면 code1, code3 중복코드를 묶어서 코드 작성 실행\n",
    "\n",
    "# def func1():\n",
    "#    code1\n",
    "#    code2\n",
    "#    code3\n",
    "\n",
    "# def func2():\n",
    "#    code1\n",
    "#    code4\n",
    "#    code3"
   ]
  },
  {
   "cell_type": "code",
   "execution_count": 64,
   "id": "636c95be-b63a-4718-8295-4774f063be36",
   "metadata": {
    "tags": []
   },
   "outputs": [],
   "source": [
    "# def deco(func):\n",
    "#    def wrapper():\n",
    "#        code1\n",
    "#        func() # func2 : code4\n",
    "#        code3\n",
    "#    return wrapper\n",
    "\n",
    "# @deco\n",
    "# def func1():\n",
    "#     code2\n",
    "\n",
    "# @deco\n",
    "# def func2():\n",
    "#     code4\n",
    "\n",
    "# func2 = deco(func2)\n",
    "# func2 # code1, code4, code3"
   ]
  },
  {
   "cell_type": "code",
   "execution_count": 65,
   "id": "a3254d26-554e-4c7f-bbd8-21cdd458dd33",
   "metadata": {
    "tags": []
   },
   "outputs": [],
   "source": [
    "def func1():\n",
    "    print('code1')\n",
    "    print('code2')\n",
    "    print('code3')\n",
    "\n",
    "def func2():\n",
    "    print('code1')\n",
    "    print('code4')\n",
    "    print('code3')"
   ]
  },
  {
   "cell_type": "code",
   "execution_count": 66,
   "id": "30b8a8e3-09c7-4b5e-8b0f-678eeb04865e",
   "metadata": {
    "tags": []
   },
   "outputs": [
    {
     "name": "stdout",
     "output_type": "stream",
     "text": [
      "code1\n",
      "code2\n",
      "code3\n",
      "code1\n",
      "code4\n",
      "code3\n"
     ]
    }
   ],
   "source": [
    "func1()\n",
    "func2()"
   ]
  },
  {
   "cell_type": "code",
   "execution_count": 67,
   "id": "9970ef8e-606e-4602-8cfd-e2e189138915",
   "metadata": {
    "tags": []
   },
   "outputs": [],
   "source": [
    "def deco(func):\n",
    "    def wrapper(*args, **kwargs):\n",
    "        print('code1')\n",
    "        func(*args, **kwargs) # func1 : code2\n",
    "        print('code3')\n",
    "    return wrapper\n",
    "\n",
    "@deco\n",
    "def func1():\n",
    "    print('code2')\n",
    "\n",
    "@deco\n",
    "def func2():    \n",
    "    print('code4')"
   ]
  },
  {
   "cell_type": "code",
   "execution_count": 68,
   "id": "47c2ab0b-cb61-41a5-ae41-0aeb89218e2a",
   "metadata": {
    "tags": []
   },
   "outputs": [
    {
     "name": "stdout",
     "output_type": "stream",
     "text": [
      "code1\n",
      "code2\n",
      "code3\n"
     ]
    }
   ],
   "source": [
    "def func1():\n",
    "    print('code2')\n",
    "    \n",
    "func1 = deco(func1)\n",
    "func1()"
   ]
  },
  {
   "cell_type": "code",
   "execution_count": 69,
   "id": "8d3a06b0-3aba-4581-a99d-e5fc0a5939fa",
   "metadata": {
    "tags": []
   },
   "outputs": [
    {
     "name": "stdout",
     "output_type": "stream",
     "text": [
      "----func1----\n",
      "code1\n",
      "code2\n",
      "code3\n",
      "----func2----\n",
      "code1\n",
      "code4\n",
      "code3\n"
     ]
    }
   ],
   "source": [
    "print('----func1----')\n",
    "func1()\n",
    "print('----func2----')\n",
    "func2()"
   ]
  },
  {
   "cell_type": "markdown",
   "id": "d85f2487-9f64-4ec3-9a31-0c22171b909d",
   "metadata": {},
   "source": [
    "### 07-10. 데코레이터를 이용한 타이머, 패스워드 문제"
   ]
  },
  {
   "cell_type": "markdown",
   "id": "725122e6-38fc-4821-87d0-d573f99cc2eb",
   "metadata": {},
   "source": [
    "- 아래의 코드를 참고하여 함수의 실행시간을 출력하는 데코레이터 함수를 코드로 작성하세요."
   ]
  },
  {
   "cell_type": "code",
   "execution_count": 70,
   "id": "829b1284-71ee-4583-93d1-4d97f21bd1d4",
   "metadata": {
    "tags": []
   },
   "outputs": [
    {
     "name": "stdout",
     "output_type": "stream",
     "text": [
      "2.4080276489257812e-05\n"
     ]
    }
   ],
   "source": [
    "import time\n",
    "\n",
    "start = time.time()\n",
    "end = time.time()\n",
    "print(end - start)"
   ]
  },
  {
   "cell_type": "code",
   "execution_count": 71,
   "id": "cbd55396-eaec-406d-8190-44d88692732d",
   "metadata": {
    "tags": []
   },
   "outputs": [],
   "source": [
    "# CODE"
   ]
  },
  {
   "cell_type": "markdown",
   "id": "1baf92fb-dde9-443b-9e32-5f7b178ccb7f",
   "metadata": {},
   "source": [
    "- 패스워드를 체크하는 데코레이터 함수를 코드로 작성하세요."
   ]
  },
  {
   "cell_type": "code",
   "execution_count": 72,
   "id": "1b4849fd-afb6-4b7c-8741-9e5f732a8669",
   "metadata": {
    "tags": []
   },
   "outputs": [],
   "source": [
    "# CODE"
   ]
  }
 ],
 "metadata": {
  "kernelspec": {
   "display_name": "Python 3 (ipykernel)",
   "language": "python",
   "name": "python3"
  },
  "language_info": {
   "codemirror_mode": {
    "name": "ipython",
    "version": 3
   },
   "file_extension": ".py",
   "mimetype": "text/x-python",
   "name": "python",
   "nbconvert_exporter": "python",
   "pygments_lexer": "ipython3",
   "version": "3.11.3"
  }
 },
 "nbformat": 4,
 "nbformat_minor": 5
}
