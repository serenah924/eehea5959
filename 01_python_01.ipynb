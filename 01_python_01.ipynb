{
 "cells": [
  {
   "cell_type": "markdown",
   "id": "efd45250-c17d-4c9d-9fe3-be862ca04bf6",
   "metadata": {},
   "source": [
    "## CH 00. 파이썬 환경설정"
   ]
  },
  {
   "cell_type": "markdown",
   "id": "5f741339-808b-4c54-b164-451adfaa08b1",
   "metadata": {},
   "source": [
    "### 03-02. Jupyter Lab 실행 및 사용방법"
   ]
  },
  {
   "cell_type": "markdown",
   "id": "1c81905a-8fc6-4b56-9961-5e9d08231ce1",
   "metadata": {},
   "source": [
    "#### Ipython Notebook : ipynb\n",
    "- cell 단위로 코드를 작성해서 실행하는 에디터\n",
    "- mode\n",
    "    - 명령모드(esc) : 셀 수정\n",
    "    - 편집모드(enter) : 셀 내용 수정\n",
    "- style\n",
    "    - Code : 파이썬 문법 실행\n",
    "    - Markdown : 마크다운(코드설명) 문법 실행\n",
    "- shortcut : 단축키\n",
    "    - 코드실행 : shift + enter\n",
    "    - 셀생성  : esc + a, b\n",
    "    - 자동완성 : tab"
   ]
  },
  {
   "cell_type": "markdown",
   "id": "92b898cb-9cd3-4eca-bf96-2239cff66948",
   "metadata": {
    "tags": []
   },
   "source": [
    "#### 주석 : comment\n",
    "- 실행되지 않는 코드(문자열)\n",
    "- 단축키 : ctrl(cmd) + /"
   ]
  },
  {
   "cell_type": "code",
   "execution_count": 1,
   "id": "caf459b3-48da-48ad-bd6d-64f11f1c4f58",
   "metadata": {
    "tags": []
   },
   "outputs": [
    {
     "name": "stdout",
     "output_type": "stream",
     "text": [
      "abc\n"
     ]
    }
   ],
   "source": [
    "# print(10)\n",
    "print('abc')"
   ]
  },
  {
   "cell_type": "markdown",
   "id": "9825a432-4368-42ba-8047-489e616332e5",
   "metadata": {},
   "source": [
    "## CH 01. 파이썬 문법 요약"
   ]
  },
  {
   "cell_type": "markdown",
   "id": "4ea6dd22-d354-4992-83c7-551746a83d37",
   "metadata": {},
   "source": [
    "### 01-01. 프로그래밍언어의 문법 개념 및 목록"
   ]
  },
  {
   "cell_type": "markdown",
   "id": "e237427e-5482-40d0-b8a0-939a85c46bf7",
   "metadata": {},
   "source": [
    "#### 데이터분석 방법\n",
    "- 엑셀 : 100만개 : 사용편리 : 기능사용제한 O : 속도느림\n",
    "- 파이썬 : RAM용량 : 사용불편 : 기능사용제한 X : 속도빠름\n",
    "- 데이터베이스 : SSD(HDD)용량 : 사용불편 : 기능사용제한 조금있음 : 속도빠름"
   ]
  },
  {
   "cell_type": "markdown",
   "id": "57db4364-4ba5-4ed8-9762-cef3b820bc47",
   "metadata": {},
   "source": [
    "#### 파이썬문법\n",
    "- 컴퓨터의 CPU, RAM, SSD를 사용하기 위해서\n",
    "1. 변수선언 : RAM 사용 문법\n",
    "    - 식별자, 변수선언 3가지 방법\n",
    "2. 데이터타입 : RAM 효율적 사용 문법\n",
    "    - int, float, bool, str, list, tuple, dict, set\n",
    "3. 연산자 : CPU 사용 문법\n",
    "    - 산술, 비교, 논리, 할당, 멤버\n",
    "4. 조건문 : 조건에 따라서 코드 실행 문법\n",
    "    - if, elif, else\n",
    "5. 반복문 : 특정 코드를 반복적으로 실행 문법\n",
    "    - while, for, break, continue\n",
    "6. 함수 : 중복 코드를 묶어서 코드 작성 실행\n",
    "    - def, args-params, return, dosctring, global, lambda\n",
    "7. 클래스 : 변수, 함수를 묶어서 코드 작성 실행\n",
    "    - class, self, special method(생성자메서드)\n",
    "8. 모듈 : 변수, 함수, 클래스를 파일로 묶어서 코드 작성 실행\n",
    "    - import, from, as\n",
    "9. 패키지 : 여러개의 모듈을 디렉토리로 묶어서 코드 작성 실행\n",
    "    - import, from, as\n",
    "10. 입출력 : SSD(HDD) 사용 문법\n",
    "    - pickle"
   ]
  },
  {
   "cell_type": "markdown",
   "id": "c16c58b9-faf2-4357-ae1f-ab3ea5897777",
   "metadata": {},
   "source": [
    "## CH 02. 변수선언"
   ]
  },
  {
   "cell_type": "markdown",
   "id": "9364d227-b575-416d-9508-ff31c3ce6cee",
   "metadata": {},
   "source": [
    "### 02-01. 파이썬을 사용하여 컴퓨터 메모리 사용하는 방법"
   ]
  },
  {
   "cell_type": "markdown",
   "id": "ca94083a-a5ff-489d-a323-2bc470f4e1d1",
   "metadata": {},
   "source": [
    "#### 1. 변수선언\n",
    "- 메모리에 저장공간을 만들어 데이터를 저장하는 문법\n",
    "- 식별자 : 저장공간을 구별하는 문자열\n",
    "- 식별자규칙\n",
    "    - 문법 : 틀리면 에러발생 O : 대소문자,숫자,_ : 숫자가장앞에X : 명령어X\n",
    "    - 컨벤션 : 틀려도 에러발생 X : PEP8 : snake_case(O), camelCase(X)"
   ]
  },
  {
   "cell_type": "code",
   "execution_count": 2,
   "id": "e19a8d49-aa31-4c0f-86d9-8a62ba48310e",
   "metadata": {
    "tags": []
   },
   "outputs": [],
   "source": [
    "# 식별자 1개, 데이터 1개\n",
    "data1 = 1\n",
    "\n",
    "# 식별자 n개, 데이터 n개\n",
    "data2, data3 = 2, 3\n",
    "\n",
    "# 식별자 n개, 데이터 1개\n",
    "data4 = data5 = 4"
   ]
  },
  {
   "cell_type": "code",
   "execution_count": 3,
   "id": "738801e1-ab7d-4f0e-8878-6b50b85dbca9",
   "metadata": {
    "tags": []
   },
   "outputs": [
    {
     "name": "stdout",
     "output_type": "stream",
     "text": [
      "Variable   Type    Data/Info\n",
      "----------------------------\n",
      "data1      int     1\n",
      "data2      int     2\n",
      "data3      int     3\n",
      "data4      int     4\n",
      "data5      int     4\n"
     ]
    }
   ],
   "source": [
    "# special command\n",
    "# - ipython 지원\n",
    "\n",
    "# 선언된 변수 출력 : whos\n",
    "%whos"
   ]
  },
  {
   "cell_type": "markdown",
   "id": "c00db01a-711e-414f-8575-cbd8eda32401",
   "metadata": {},
   "source": [
    " \n",
    " "
   ]
  },
  {
   "cell_type": "markdown",
   "id": "1d7142fb-7b8f-431b-b147-611a50a32940",
   "metadata": {},
   "source": [
    " "
   ]
  },
  {
   "cell_type": "code",
   "execution_count": 4,
   "id": "aef22c2e-0f79-4f2f-ac2a-c89f3f043fe8",
   "metadata": {
    "tags": []
   },
   "outputs": [
    {
     "name": "stdout",
     "output_type": "stream",
     "text": [
      "1 2 3 4 4\n"
     ]
    }
   ],
   "source": [
    "# print() : 식별자로 식별자에 저장되어 있는 데이터 출력\n",
    "print(data1, data2, data3, data4, data5)"
   ]
  },
  {
   "cell_type": "code",
   "execution_count": 5,
   "id": "c530b624-8123-4244-86c8-c01070da047d",
   "metadata": {
    "tags": []
   },
   "outputs": [
    {
     "name": "stdout",
     "output_type": "stream",
     "text": [
      "1\n"
     ]
    },
    {
     "data": {
      "text/plain": [
       "3"
      ]
     },
     "execution_count": 5,
     "metadata": {},
     "output_type": "execute_result"
    }
   ],
   "source": [
    "# 코드의 마지막줄에 있는 변수는 print 없이 데이터를 출력\n",
    "# - ipython 기능\n",
    "print(data1)\n",
    "data2\n",
    "data3"
   ]
  },
  {
   "cell_type": "code",
   "execution_count": 7,
   "id": "f132e224-875b-4428-b2fa-2f221533e321",
   "metadata": {
    "tags": []
   },
   "outputs": [
    {
     "name": "stdin",
     "output_type": "stream",
     "text": [
      "Once deleted, variables cannot be recovered. Proceed (y/[n])?  y\n"
     ]
    }
   ],
   "source": [
    "# 선언된 변수 초기화 : reset\n",
    "%reset"
   ]
  },
  {
   "cell_type": "markdown",
   "id": "e4da014f-fb87-4345-a59f-441684b4b208",
   "metadata": {},
   "source": [
    "### 02-02. 다양한 방법으로 변수를 선언하는 문제\n",
    "- 문제. 손흥민(son) 30골, 메시(messi) 30골 데이터를 변수에 저장\n",
    "    - 변수를 저장하는 3가지 방법 사용"
   ]
  },
  {
   "cell_type": "code",
   "execution_count": null,
   "id": "d686c6d9-5dbe-437f-8adc-3b7f5ddef75a",
   "metadata": {},
   "outputs": [],
   "source": [
    "# CODE"
   ]
  },
  {
   "cell_type": "markdown",
   "id": "0d790992-a6c1-477e-a078-4b1f6aa90a40",
   "metadata": {},
   "source": [
    "## CH 03. 데이터타입"
   ]
  },
  {
   "cell_type": "markdown",
   "id": "271bdc29-f195-4da8-b4cc-6856df1f0116",
   "metadata": {},
   "source": [
    "### 03-01. 기본 데이터타입과 컬렉션 데이터타입"
   ]
  },
  {
   "cell_type": "markdown",
   "id": "22f1994f-d630-474d-991e-bb61edaca14b",
   "metadata": {},
   "source": [
    "- 기본 : int, float, bool(True, False), str('',\"\")\n",
    "- 컬렉션 : 식별자 1개, 데이터 n개 : list, tuple, dict, set"
   ]
  },
  {
   "cell_type": "code",
   "execution_count": 8,
   "id": "0ca898d8-99bd-43ab-b855-7fc441f53a4a",
   "metadata": {
    "tags": []
   },
   "outputs": [
    {
     "name": "stdin",
     "output_type": "stream",
     "text": [
      "Once deleted, variables cannot be recovered. Proceed (y/[n])?  y\n"
     ]
    }
   ],
   "source": [
    "%reset"
   ]
  },
  {
   "cell_type": "code",
   "execution_count": 9,
   "id": "0ea1aa53-4db0-4357-bbd6-54ea050ee7f2",
   "metadata": {
    "tags": []
   },
   "outputs": [
    {
     "name": "stdout",
     "output_type": "stream",
     "text": [
      "Interactive namespace is empty.\n"
     ]
    }
   ],
   "source": [
    "%whos"
   ]
  },
  {
   "cell_type": "code",
   "execution_count": 10,
   "id": "b9745eea-744f-4271-8f54-a35cba2d60df",
   "metadata": {
    "tags": []
   },
   "outputs": [],
   "source": [
    "# 기본 데이터타입 변수선언\n",
    "data1, data2, data3, data4 = -2, 1.5, True, 'python'"
   ]
  },
  {
   "cell_type": "code",
   "execution_count": 11,
   "id": "c51f8912-477b-4139-b861-41557183f4e8",
   "metadata": {
    "tags": []
   },
   "outputs": [
    {
     "name": "stdout",
     "output_type": "stream",
     "text": [
      "Variable   Type     Data/Info\n",
      "-----------------------------\n",
      "data1      int      -2\n",
      "data2      float    1.5\n",
      "data3      bool     True\n",
      "data4      str      python\n"
     ]
    }
   ],
   "source": [
    "%whos"
   ]
  },
  {
   "cell_type": "code",
   "execution_count": 12,
   "id": "187fd9f5-62a1-4092-bc6c-ff5db450265b",
   "metadata": {},
   "outputs": [
    {
     "data": {
      "text/plain": [
       "(int, float, bool, str)"
      ]
     },
     "execution_count": 12,
     "metadata": {},
     "output_type": "execute_result"
    }
   ],
   "source": [
    "# type() : 식별자의 데이터타입 출력\n",
    "# 동적타이핑 : 변수선언시 자동으로 데이터타입 설정\n",
    "# 동적타이핑 사용 X : int data1 = 1 : 컴파일러언어\n",
    "type(data1), type(data2), type(data3), type(data4)"
   ]
  },
  {
   "cell_type": "code",
   "execution_count": 13,
   "id": "9ccee0a7-d291-4f11-ae0e-197771bdbf04",
   "metadata": {
    "tags": []
   },
   "outputs": [
    {
     "data": {
      "text/plain": [
       "(-2, '-2', str)"
      ]
     },
     "execution_count": 13,
     "metadata": {},
     "output_type": "execute_result"
    }
   ],
   "source": [
    "# 데이터타입 형변환\n",
    "data1, str(data1), type(str(data1))"
   ]
  },
  {
   "cell_type": "markdown",
   "id": "1b9d3d54-7492-4348-97d0-4602f68df327",
   "metadata": {},
   "source": [
    "### 03-02. 컬렉션 데이터타입의 CREATE"
   ]
  },
  {
   "cell_type": "code",
   "execution_count": 14,
   "id": "3e151394-6486-472f-bfdf-c4321e5e9076",
   "metadata": {},
   "outputs": [],
   "source": [
    "# 컬렉션 데이터타입\n",
    "# 식별자 1개, 데이터 n개\n",
    "# list, tuple, dict, set\n",
    "# CRUD : create, read, update, delete"
   ]
  },
  {
   "cell_type": "code",
   "execution_count": 15,
   "id": "6d9da6d8-e053-4fb8-8f32-a81a46ed0deb",
   "metadata": {
    "tags": []
   },
   "outputs": [
    {
     "data": {
      "text/plain": [
       "(list, [1, 2, 3, 'A', 'B'])"
      ]
     },
     "execution_count": 15,
     "metadata": {},
     "output_type": "execute_result"
    }
   ],
   "source": [
    "# list : [] : 순서가 있고, 수정이 가능\n",
    "data1 = [1, 2, 3, 'A', 'B']\n",
    "type(data1), data1"
   ]
  },
  {
   "cell_type": "code",
   "execution_count": 16,
   "id": "b8a7c3f9-25e7-455f-b36f-9802ac8c71f5",
   "metadata": {
    "tags": []
   },
   "outputs": [
    {
     "data": {
      "text/plain": [
       "(tuple, (1, 2, 3, 'A', 'B'))"
      ]
     },
     "execution_count": 16,
     "metadata": {},
     "output_type": "execute_result"
    }
   ],
   "source": [
    "# tuple : () : 순서가 있고, 수정이 불가능\n",
    "data2 = (1, 2, 3, 'A', 'B')\n",
    "# () 생략 가능\n",
    "data2 = 1, 2, 3, 'A', 'B'\n",
    "type(data2), data2"
   ]
  },
  {
   "cell_type": "code",
   "execution_count": 17,
   "id": "ef9cdfad-0427-49d7-9eee-a1747842a87c",
   "metadata": {
    "tags": []
   },
   "outputs": [
    {
     "data": {
      "text/plain": [
       "(1, 2)"
      ]
     },
     "execution_count": 17,
     "metadata": {},
     "output_type": "execute_result"
    }
   ],
   "source": [
    "# 식별자 n개, 데이터 n개 : tuple은 여러개의 식별자로 데이터를 받을수 있음\n",
    "d1, d2 = 1, 2\n",
    "d1, d2"
   ]
  },
  {
   "cell_type": "code",
   "execution_count": 18,
   "id": "81e33d0d-f1ec-43c6-8d73-b2cab1a6406f",
   "metadata": {
    "tags": []
   },
   "outputs": [
    {
     "data": {
      "text/plain": [
       "(dict, {'one': 1, 2: 'two', 3: [1, 2]})"
      ]
     },
     "execution_count": 18,
     "metadata": {},
     "output_type": "execute_result"
    }
   ],
   "source": [
    "# dict : {key:value} : 순서가 없고, 수정이 가능, 순서대신 key사용\n",
    "data3 = {'one': 1, 2: 'two', 3: [1, 2]}\n",
    "type(data3), data3"
   ]
  },
  {
   "cell_type": "code",
   "execution_count": 19,
   "id": "2f394df1-c666-423f-9297-c252aa0deb6d",
   "metadata": {
    "tags": []
   },
   "outputs": [
    {
     "data": {
      "text/plain": [
       "(set, {1, 2, 3})"
      ]
     },
     "execution_count": 19,
     "metadata": {},
     "output_type": "execute_result"
    }
   ],
   "source": [
    "# set : {}, set() : 집합 데이터타입, 중복 허용 X, 집합연산\n",
    "data4 = set([1, 2, 3, 2])\n",
    "type(data4), data4"
   ]
  },
  {
   "cell_type": "code",
   "execution_count": 20,
   "id": "b107da43-826b-444a-95d0-4fa6e0842087",
   "metadata": {
    "tags": []
   },
   "outputs": [
    {
     "data": {
      "text/plain": [
       "({'보험', '예금', '적금'}, {'보험', '적금', '증권'})"
      ]
     },
     "execution_count": 20,
     "metadata": {},
     "output_type": "execute_result"
    }
   ],
   "source": [
    "# 집합연산 예시\n",
    "user1 = ['예금', '적금', '보험', '예금']\n",
    "user2 = ['적금', '보험', '증권']\n",
    "u1, u2 = set(user1), set(user2)\n",
    "u1, u2"
   ]
  },
  {
   "cell_type": "code",
   "execution_count": 21,
   "id": "0838ccb7-c27e-4032-92cb-5b83b77b232c",
   "metadata": {
    "tags": []
   },
   "outputs": [
    {
     "name": "stdout",
     "output_type": "stream",
     "text": [
      "{'적금', '증권', '예금', '보험'}\n",
      "{'적금', '보험'}\n",
      "{'예금'}\n"
     ]
    }
   ],
   "source": [
    "# 합집합 : |\n",
    "print(u1 | u2)\n",
    "\n",
    "# 교집합 : &\n",
    "print(u1 & u2)\n",
    "\n",
    "# 차집합 : -\n",
    "print(u1 - u2)"
   ]
  },
  {
   "cell_type": "markdown",
   "id": "92046a02-c9e2-40fc-8829-460e903c91d2",
   "metadata": {
    "tags": []
   },
   "source": [
    "### 03-03. 컬렉션 데이터타입의 READ"
   ]
  },
  {
   "cell_type": "markdown",
   "id": "51480c1d-a0ee-4333-aefd-aa6b05a38350",
   "metadata": {
    "tags": []
   },
   "source": [
    "- masking : data[] : [idx], [start:end], [start:end:stride]\n",
    "- start 포함 O, end 포함 X\n",
    "- start 안쓰면 가장 앞, end 안쓰면 가장 뒤\n",
    "- stride 데이터를 건너 뛰어 선택"
   ]
  },
  {
   "cell_type": "code",
   "execution_count": 22,
   "id": "56856944-70fc-4729-9386-1b7bf0cc096f",
   "metadata": {
    "tags": []
   },
   "outputs": [
    {
     "data": {
      "text/plain": [
       "([1, 2, 3, 'A', 'B'], 'A', [3, 'A'], [1, 2], ['A', 'B'], [1, 3, 'B'])"
      ]
     },
     "execution_count": 22,
     "metadata": {},
     "output_type": "execute_result"
    }
   ],
   "source": [
    "data1, data1[3], data1[2:4], data1[:2], data1[3:], data1[::2]"
   ]
  },
  {
   "cell_type": "code",
   "execution_count": 23,
   "id": "ecd2b95a-9cd5-4360-9f88-1419829a39e7",
   "metadata": {
    "tags": []
   },
   "outputs": [
    {
     "data": {
      "text/plain": [
       "([1, 2, 3, 'A', 'B'], 'A', ['A', 'B'], ['B', 'A', 3, 2, 1])"
      ]
     },
     "execution_count": 23,
     "metadata": {},
     "output_type": "execute_result"
    }
   ],
   "source": [
    "# 음수 사용 가능 : 뒤에서 부터 카운트\n",
    "data1, data1[-2], data1[-2:], data1[::-1]"
   ]
  },
  {
   "cell_type": "code",
   "execution_count": 24,
   "id": "c27efaf4-7da0-430c-a346-726d557e0fa9",
   "metadata": {
    "tags": []
   },
   "outputs": [
    {
     "data": {
      "text/plain": [
       "({'one': 1, 2: 'two', 3: [1, 2]}, 1)"
      ]
     },
     "execution_count": 24,
     "metadata": {},
     "output_type": "execute_result"
    }
   ],
   "source": [
    "# dict 데이터타입은 idx 대신 key 사용\n",
    "data3, data3['one']"
   ]
  },
  {
   "cell_type": "code",
   "execution_count": 25,
   "id": "f1fec45b-eeea-41a7-9936-452ba70867ab",
   "metadata": {
    "tags": []
   },
   "outputs": [
    {
     "data": {
      "text/plain": [
       "('python', 'py')"
      ]
     },
     "execution_count": 25,
     "metadata": {},
     "output_type": "execute_result"
    }
   ],
   "source": [
    "# 문자열에서도 사용가능\n",
    "data = 'python'\n",
    "data, data[:2]"
   ]
  },
  {
   "cell_type": "code",
   "execution_count": 26,
   "id": "1a95d810-6759-40b5-a457-03c6d0c5b4b3",
   "metadata": {
    "tags": []
   },
   "outputs": [
    {
     "data": {
      "text/plain": [
       "('2020', '2021')"
      ]
     },
     "execution_count": 26,
     "metadata": {},
     "output_type": "execute_result"
    }
   ],
   "source": [
    "# 문제. 년도 데이터만 출력되도록 start, end 변수 데이터를 수정\n",
    "report1, report2 = '사업보고서(2020)', '[기재정정]사업보고서(2021)'\n",
    "start, end = -5, -1\n",
    "report1[start:end], report2[start:end]"
   ]
  },
  {
   "cell_type": "markdown",
   "id": "d81a0c00-cc1a-4e3d-ae67-90fc3d4d48c6",
   "metadata": {},
   "source": [
    "### 03-04. 컬렉션 데이터타입의 UPDATE, DELETE"
   ]
  },
  {
   "cell_type": "markdown",
   "id": "a4280081-d64c-434f-a02d-06295cc50bd3",
   "metadata": {
    "tags": []
   },
   "source": [
    "- UPDATE\n",
    "    - 데이터선택 = 수정할데이터"
   ]
  },
  {
   "cell_type": "code",
   "execution_count": 27,
   "id": "8bb0ca17-3c70-42da-bb4d-8ae467ee574d",
   "metadata": {
    "tags": []
   },
   "outputs": [
    {
     "name": "stdout",
     "output_type": "stream",
     "text": [
      "[1, 2, 3, 'A', 'B']\n"
     ]
    },
    {
     "data": {
      "text/plain": [
       "[1, 2, 3, 'C', 'B']"
      ]
     },
     "execution_count": 27,
     "metadata": {},
     "output_type": "execute_result"
    }
   ],
   "source": [
    "print(data1)\n",
    "data1[3] = 'C'\n",
    "data1"
   ]
  },
  {
   "cell_type": "code",
   "execution_count": 28,
   "id": "3377600e-89eb-4d90-b957-6edd682f43a8",
   "metadata": {
    "tags": []
   },
   "outputs": [
    {
     "name": "stdout",
     "output_type": "stream",
     "text": [
      "<class 'tuple'> (1, 2, 3, 'A', 'B')\n"
     ]
    }
   ],
   "source": [
    "# tuple은 수정이 안됨\n",
    "print(type(data2), data2)"
   ]
  },
  {
   "cell_type": "code",
   "execution_count": 29,
   "id": "890ab156-8591-4c5b-9e48-3253e9b515f9",
   "metadata": {
    "tags": []
   },
   "outputs": [
    {
     "ename": "TypeError",
     "evalue": "'tuple' object does not support item assignment",
     "output_type": "error",
     "traceback": [
      "\u001b[0;31m---------------------------------------------------------------------------\u001b[0m",
      "\u001b[0;31mTypeError\u001b[0m                                 Traceback (most recent call last)",
      "Cell \u001b[0;32mIn[29], line 1\u001b[0m\n\u001b[0;32m----> 1\u001b[0m data2[\u001b[38;5;241m3\u001b[39m] \u001b[38;5;241m=\u001b[39m \u001b[38;5;124m'\u001b[39m\u001b[38;5;124mC\u001b[39m\u001b[38;5;124m'\u001b[39m\n\u001b[1;32m      2\u001b[0m data2\n",
      "\u001b[0;31mTypeError\u001b[0m: 'tuple' object does not support item assignment"
     ]
    }
   ],
   "source": [
    "data2[3] = 'C'\n",
    "data2"
   ]
  },
  {
   "cell_type": "code",
   "execution_count": 30,
   "id": "313966ea-600b-497d-b46b-993f645dc3d4",
   "metadata": {
    "tags": []
   },
   "outputs": [
    {
     "data": {
      "text/plain": [
       "(list, tuple)"
      ]
     },
     "execution_count": 30,
     "metadata": {},
     "output_type": "execute_result"
    }
   ],
   "source": [
    "# tuple 사용 이유\n",
    "# - 같은 데이터를 저장할때 list 보다 tuple이 저장공간 적게\n",
    "d1, d2 = [1, 2, 3], (1, 2, 3)\n",
    "type(d1), type(d2)"
   ]
  },
  {
   "cell_type": "code",
   "execution_count": 31,
   "id": "c0481ff1-1c87-4bef-999e-32ca42fe2ca3",
   "metadata": {
    "tags": []
   },
   "outputs": [
    {
     "data": {
      "text/plain": [
       "(88, 64)"
      ]
     },
     "execution_count": 31,
     "metadata": {},
     "output_type": "execute_result"
    }
   ],
   "source": [
    "import sys\n",
    "sys.getsizeof(d1), sys.getsizeof(d2)"
   ]
  },
  {
   "cell_type": "markdown",
   "id": "e8faaf2a-3058-4f69-ae7b-76607f70d1f7",
   "metadata": {
    "tags": []
   },
   "source": [
    "- DELETE\n",
    "    - del 데이터선택"
   ]
  },
  {
   "cell_type": "code",
   "execution_count": 32,
   "id": "d22006ed-c8a3-4507-a5e5-68785477741c",
   "metadata": {
    "tags": []
   },
   "outputs": [
    {
     "name": "stdout",
     "output_type": "stream",
     "text": [
      "[1, 2, 3, 'C', 'B'] ['C', 'B']\n"
     ]
    }
   ],
   "source": [
    "print(data1, data1[3:])"
   ]
  },
  {
   "cell_type": "code",
   "execution_count": 33,
   "id": "a9a31b93-cf49-413d-ac69-b3cde29ed7fa",
   "metadata": {
    "tags": []
   },
   "outputs": [
    {
     "data": {
      "text/plain": [
       "[1, 2, 3]"
      ]
     },
     "execution_count": 33,
     "metadata": {},
     "output_type": "execute_result"
    }
   ],
   "source": [
    "del data1[3:]\n",
    "data1"
   ]
  },
  {
   "cell_type": "markdown",
   "id": "7f12f1da-62b5-47d0-82a1-26a8f1894a88",
   "metadata": {},
   "source": [
    "### 03-05. 데이터에 따라 적절한 데이터타입을 사용하는 문제\n",
    "- 문제. 손흥민 30골, 메시 20골, 호날두 10골 컬렉션 데이터타입의 변수 데이터 저장\n",
    "    - list, tuple, dict 데이터타입을 자유롭게 사용"
   ]
  },
  {
   "cell_type": "code",
   "execution_count": 34,
   "id": "90e25fa0-9c65-403f-8f6a-2d4e3fa15651",
   "metadata": {
    "tags": []
   },
   "outputs": [],
   "source": [
    "# CODE"
   ]
  },
  {
   "cell_type": "markdown",
   "id": "df74eae1-1037-408f-b89f-5b2ef21e9566",
   "metadata": {},
   "source": [
    "### 03-06. 실수할만한 코드 : 얕은복사와 깊은복사"
   ]
  },
  {
   "cell_type": "code",
   "execution_count": 35,
   "id": "aebbe2ac-02c9-4fa8-b66e-e3f5006089a9",
   "metadata": {
    "tags": []
   },
   "outputs": [
    {
     "name": "stdout",
     "output_type": "stream",
     "text": [
      "[1, 2, 3] [1, 2, 3] [1, 2, 3]\n",
      "[1, 4, 3] [1, 4, 3] [1, 2, 3]\n"
     ]
    }
   ],
   "source": [
    "d1 = [1, 2, 3]\n",
    "d2 = d1        # 얕은복사 : 주소값 복사\n",
    "d3 = d1.copy() # 깊은복사 : 데이터 복사\n",
    "print(d1, d2, d3) # [1, 2, 3], [1, 2, 3]\n",
    "d1[1] = 4\n",
    "print(d1, d2, d3) # [1, 2, 3], [1, 4, 3]"
   ]
  },
  {
   "cell_type": "code",
   "execution_count": 36,
   "id": "e09aeed1-a203-48c9-bbad-988c631f8ec5",
   "metadata": {},
   "outputs": [
    {
     "data": {
      "text/plain": [
       "(4488865984, 4488865984, 4488861888)"
      ]
     },
     "execution_count": 36,
     "metadata": {},
     "output_type": "execute_result"
    }
   ],
   "source": [
    "# id() : 변수의 주소값 출력\n",
    "id(d1), id(d2), id(d3)"
   ]
  },
  {
   "cell_type": "markdown",
   "id": "28330d76-53e7-4dd3-8324-c2c3ebbf87a7",
   "metadata": {
    "tags": []
   },
   "source": [
    "### 03-07. 다양한 데이터를 선언하고 CRUD(create, read, update, delete)하는 문제\n",
    "- 문제. 아래의 가입 상품을 컬렉션 변수로 선언\n",
    "    - user1은 예금, 증권, 적금 상품가입\n",
    "    - user2는 예금, 보험, 적금 상품가입\n"
   ]
  },
  {
   "cell_type": "code",
   "execution_count": 37,
   "id": "9f7ff9b5-86f8-4afa-bbdc-96a1cd0dc711",
   "metadata": {
    "tags": []
   },
   "outputs": [],
   "source": [
    "# CODE"
   ]
  },
  {
   "cell_type": "markdown",
   "id": "39db2a93-c843-443e-87bd-61ac46df0af7",
   "metadata": {},
   "source": [
    "- user2가 두번째로 가입한 상품을 출력"
   ]
  },
  {
   "cell_type": "code",
   "execution_count": 38,
   "id": "9d0ac90a-8766-4306-b60c-b9e952257be7",
   "metadata": {
    "tags": []
   },
   "outputs": [],
   "source": [
    "# CODE"
   ]
  },
  {
   "cell_type": "markdown",
   "id": "a6c0fc3d-39db-430c-84f0-9a040c33b3b9",
   "metadata": {},
   "source": [
    "- user1이 첫번째로 가입한 상품을 보험으로 변경"
   ]
  },
  {
   "cell_type": "code",
   "execution_count": 39,
   "id": "468db2ad-b4a4-49ab-87ad-157446814925",
   "metadata": {
    "tags": []
   },
   "outputs": [],
   "source": [
    "# CODE"
   ]
  },
  {
   "cell_type": "markdown",
   "id": "e47ff049-4894-4956-b69f-35d01344f79e",
   "metadata": {},
   "source": [
    "- user2가 마지막으로 가입한 상품을 삭제"
   ]
  },
  {
   "cell_type": "code",
   "execution_count": 40,
   "id": "5c4108d8-57b4-4c7b-a773-725beb3cce24",
   "metadata": {
    "tags": []
   },
   "outputs": [],
   "source": [
    "# CODE"
   ]
  },
  {
   "cell_type": "markdown",
   "id": "5d70e095-a187-4f81-abf3-fa07227440f9",
   "metadata": {},
   "source": [
    "## CH 04. 연산자"
   ]
  },
  {
   "cell_type": "markdown",
   "id": "27f75870-cffd-48dd-9b73-1051c0a554f2",
   "metadata": {},
   "source": [
    "### 04-01. 연산자의 종류"
   ]
  },
  {
   "cell_type": "markdown",
   "id": "2abe88e7-76ac-4e85-be36-11bff3fd5c74",
   "metadata": {
    "tags": []
   },
   "source": [
    "- 산술 : 데이터 + 데이터 = 데이터 : +, - < *, /, //, % < **\n",
    "- 비교 : 데이터 + 데이터 = 논리값 : ==, !=, >, <, >=, <=\n",
    "- 논리 : 논리값 + 논리값 = 논리값 : not, and(T and T = T), or(F or F = F)\n",
    "- 할당 : 변수에 데이터를 누적해서 연산\n",
    "- 멤버 : 컬렉션 데이터에서 특정 데이터가 있는지 확인"
   ]
  },
  {
   "cell_type": "markdown",
   "id": "72440f22-d34c-4237-8dde-8ab22429754d",
   "metadata": {},
   "source": [
    "### 04-02. 산술연산자"
   ]
  },
  {
   "cell_type": "code",
   "execution_count": 41,
   "id": "8a720c6a-7a7f-4372-b2be-09950132cba6",
   "metadata": {
    "tags": []
   },
   "outputs": [
    {
     "data": {
      "text/plain": [
       "(3, 2, 8)"
      ]
     },
     "execution_count": 41,
     "metadata": {},
     "output_type": "execute_result"
    }
   ],
   "source": [
    "d1, d2 = 14, 4\n",
    "d1 // d2, d1 % d2, 2 ** 3"
   ]
  },
  {
   "cell_type": "code",
   "execution_count": 42,
   "id": "83081252-e871-438c-b61b-d9835e8330b1",
   "metadata": {
    "tags": []
   },
   "outputs": [
    {
     "data": {
      "text/plain": [
       "30"
      ]
     },
     "execution_count": 42,
     "metadata": {},
     "output_type": "execute_result"
    }
   ],
   "source": [
    "# 나이를 연령대로 출력\n",
    "age = 37\n",
    "ages = age // 10 * 10\n",
    "ages"
   ]
  },
  {
   "cell_type": "markdown",
   "id": "d212be3d-794f-45ec-9ec9-26b30adf9f61",
   "metadata": {},
   "source": [
    "### 04-03. 비교연산자\n",
    "- 비교연산자 : 조건 1개\n",
    "- 데이터 + 데이터 = 논리값 : ==, !=, >, <, >=, <=\n"
   ]
  },
  {
   "cell_type": "code",
   "execution_count": 43,
   "id": "66b53e69-3a1e-4e50-a480-90c1d7f89068",
   "metadata": {
    "tags": []
   },
   "outputs": [
    {
     "name": "stdout",
     "output_type": "stream",
     "text": [
      "14 4\n"
     ]
    },
    {
     "data": {
      "text/plain": [
       "(False, True)"
      ]
     },
     "execution_count": 43,
     "metadata": {},
     "output_type": "execute_result"
    }
   ],
   "source": [
    "d1, d2 = 14, 4\n",
    "print(d1, d2)\n",
    "d1 == d2, d1 != d2"
   ]
  },
  {
   "cell_type": "markdown",
   "id": "d712bec2-f31e-4c57-912f-a7f605f3d6d9",
   "metadata": {
    "tags": []
   },
   "source": [
    "- ATM 기기 코드 작성\n",
    "    - 인출가능 True, 인출불가 False 출력\n",
    "    - 인출 가능 조건 1 : 예금잔고가 인출금액보다 크거나 같은 경우"
   ]
  },
  {
   "cell_type": "code",
   "execution_count": 44,
   "id": "7967afc0-fd73-4ccb-b366-9ee0c7c732af",
   "metadata": {},
   "outputs": [
    {
     "data": {
      "text/plain": [
       "False"
      ]
     },
     "execution_count": 44,
     "metadata": {},
     "output_type": "execute_result"
    }
   ],
   "source": [
    "balance, withdraw = 10000, 12000\n",
    "balance >= withdraw"
   ]
  },
  {
   "cell_type": "markdown",
   "id": "0028fe2f-da4b-4830-9e9f-6533f81ce1f8",
   "metadata": {},
   "source": [
    "### 04-04. 논리연산자"
   ]
  },
  {
   "cell_type": "markdown",
   "id": "9f4300e9-d803-42e2-b863-3857312b6924",
   "metadata": {},
   "source": [
    "- 논리연산자 : 조건 2개 이상\n",
    "- 비교 : 데이터 + 데이터 = 논리값\n",
    "- 논리 : 논리값(비교:조건1) + 논리값(비교:조건2) = 논리값\n",
    "- not : True > False : False > True\n",
    "- and : T and T = T : 두개의 조건 모두 만족해야 True\n",
    "- or : F or F = F : 둘중 하나의 조건을 만족하면 True"
   ]
  },
  {
   "cell_type": "code",
   "execution_count": 45,
   "id": "3e0413e9-e4bc-400f-8e3a-e67287e7c26e",
   "metadata": {
    "tags": []
   },
   "outputs": [
    {
     "name": "stdout",
     "output_type": "stream",
     "text": [
      "True False\n"
     ]
    },
    {
     "data": {
      "text/plain": [
       "(False, True)"
      ]
     },
     "execution_count": 45,
     "metadata": {},
     "output_type": "execute_result"
    }
   ],
   "source": [
    "d1, d2 = 14, 4\n",
    "print((d1 > 10), (d2 > 10))\n",
    "(d1 > 10) and (d2 > 10), (d1 > 10) or (d2 > 10)"
   ]
  },
  {
   "cell_type": "markdown",
   "id": "0d8d00dd-7ca4-4e57-9c84-1a597e471c4c",
   "metadata": {
    "tags": []
   },
   "source": [
    "- ATM 기기 코드 작성\n",
    "    - 인출가능 True, 인출불가 False 출력\n",
    "    - 인출 가능 조건 1 : 예금잔고가 인출금액보다 크거나 같은 경우\n",
    "    - 인출 가능 조건 2 : 인출금액이 5000원 이하인 경우"
   ]
  },
  {
   "cell_type": "code",
   "execution_count": 46,
   "id": "50be6732-5496-4afc-bb50-deab10610d0c",
   "metadata": {
    "tags": []
   },
   "outputs": [
    {
     "data": {
      "text/plain": [
       "False"
      ]
     },
     "execution_count": 46,
     "metadata": {},
     "output_type": "execute_result"
    }
   ],
   "source": [
    "balance, withdraw = 10000, 6000\n",
    "(balance >= withdraw) and (withdraw <= 5000)"
   ]
  },
  {
   "cell_type": "markdown",
   "id": "50d4a2c1-c750-45dd-b21e-e2bfba815085",
   "metadata": {
    "tags": []
   },
   "source": [
    "### 04-05. 산술,비교,논리연산자를 이용한 문제\n",
    "- 윤년구하기\n",
    "    - 년도를 입력받아 윤년이면 True, 아니면 False 출력\n",
    "    - 조건 1 : 4년 단위로 윤년 O : 년도에서 4를 나눈 나머지가 0이면 윤년 : True 출력\n",
    "    - 조건 2 : 100년 단위로 윤년 X\n",
    "    - 조건 3 : 400년 단위로 윤년 O"
   ]
  },
  {
   "cell_type": "code",
   "execution_count": 47,
   "id": "36b518e6-238a-4203-826e-169c51f29cdb",
   "metadata": {
    "tags": []
   },
   "outputs": [
    {
     "data": {
      "text/plain": [
       "True"
      ]
     },
     "execution_count": 47,
     "metadata": {},
     "output_type": "execute_result"
    }
   ],
   "source": [
    "year = 2020\n",
    "(year % 4 == 0) and (year % 100 != 0) or (year % 400 == 0)"
   ]
  },
  {
   "cell_type": "code",
   "execution_count": 48,
   "id": "de0ad451-fa8c-4da1-84b6-f41dd8467ba7",
   "metadata": {
    "tags": []
   },
   "outputs": [
    {
     "name": "stdin",
     "output_type": "stream",
     "text": [
      "insert year : 2020\n"
     ]
    },
    {
     "name": "stdout",
     "output_type": "stream",
     "text": [
      "<class 'int'> 2020\n"
     ]
    },
    {
     "data": {
      "text/plain": [
       "True"
      ]
     },
     "execution_count": 48,
     "metadata": {},
     "output_type": "execute_result"
    }
   ],
   "source": [
    "# input() : 문자열 데이터를 입력받는 함수\n",
    "year = input('insert year :')\n",
    "year = int(year)\n",
    "print(type(year), year)\n",
    "(year % 4 == 0) and (year % 100 != 0) or (year % 400 == 0)"
   ]
  },
  {
   "cell_type": "markdown",
   "id": "1b8d2c12-2413-40c4-b6d9-de24d4b1942f",
   "metadata": {},
   "source": [
    "### 04-06. 할당연산자"
   ]
  },
  {
   "cell_type": "markdown",
   "id": "984b7e58-118b-4790-a6aa-3a7740c17d68",
   "metadata": {
    "tags": []
   },
   "source": [
    "- 변수에 데이터를 누적해서 연산\n",
    "- 코드의 가독성이 더 좋아짐"
   ]
  },
  {
   "cell_type": "code",
   "execution_count": 49,
   "id": "50d0af7e-a640-4c27-9354-3a3cfc05db92",
   "metadata": {},
   "outputs": [
    {
     "data": {
      "text/plain": [
       "13000"
      ]
     },
     "execution_count": 49,
     "metadata": {},
     "output_type": "execute_result"
    }
   ],
   "source": [
    "# ATM 기기에서 10000원의 예금잔고에 3000원을 입금\n",
    "balance = 10000\n",
    "deposit = 3000\n",
    "# balance = balance + deposit\n",
    "balance += deposit\n",
    "balance"
   ]
  },
  {
   "cell_type": "markdown",
   "id": "d39bfbe3-7d88-4f50-9770-520ade7b4c93",
   "metadata": {},
   "source": [
    "### 04-07. 멤버연산자\n",
    "- 컬렉션 데이터에서 특정 데이터가 있는지 확인"
   ]
  },
  {
   "cell_type": "code",
   "execution_count": 50,
   "id": "857a34f3-8ee4-4ec5-a1cd-500d6c485e29",
   "metadata": {
    "tags": []
   },
   "outputs": [
    {
     "name": "stdout",
     "output_type": "stream",
     "text": [
      "False True\n"
     ]
    },
    {
     "data": {
      "text/plain": [
       "True"
      ]
     },
     "execution_count": 50,
     "metadata": {},
     "output_type": "execute_result"
    }
   ],
   "source": [
    "# user가 보험, 적금, 예금 상품 가입\n",
    "user = ['보험', '적금', '예금']\n",
    "\n",
    "# user가 가입한 상품에 증권, 적금 상품이 있는지 확인\n",
    "print('증권' in user, '적금' in user)\n",
    "\n",
    "# user가 종신 상품을 가입하지 않았는지 확인\n",
    "# - 가입이 안되어 있으면 True\n",
    "'종신' not in user"
   ]
  },
  {
   "cell_type": "markdown",
   "id": "6995b3f1-ac44-4531-83b1-a088fd3f7fd7",
   "metadata": {},
   "source": [
    "### 04-08. 할당, 멤버 연산자를 이용한 문제"
   ]
  },
  {
   "cell_type": "markdown",
   "id": "ba43e300-e863-46d8-82cb-f7d13d0c3edc",
   "metadata": {},
   "source": [
    "- user1은 1000원, user2는 2000원을 저축한 예금 데이터를 딕셔너리로 선언"
   ]
  },
  {
   "cell_type": "code",
   "execution_count": 51,
   "id": "0393927c-5949-466c-99b6-9fb657db4afb",
   "metadata": {
    "tags": []
   },
   "outputs": [],
   "source": [
    "# CODE"
   ]
  },
  {
   "cell_type": "markdown",
   "id": "fa26297f-9e04-47e1-85fa-423f674e447e",
   "metadata": {},
   "source": [
    "- user2에 1000원 추가 입금"
   ]
  },
  {
   "cell_type": "code",
   "execution_count": 52,
   "id": "0633a38e-ac43-44a5-a984-2c45f171df28",
   "metadata": {
    "tags": []
   },
   "outputs": [],
   "source": [
    "# CODE"
   ]
  },
  {
   "cell_type": "markdown",
   "id": "b83743fd-6c57-4914-864c-6f8fd49bd21b",
   "metadata": {},
   "source": [
    "- user1은 예금, 적금, user2는 보험, 적금 딕셔너리로 선언"
   ]
  },
  {
   "cell_type": "code",
   "execution_count": 53,
   "id": "d2f5506c-37c8-453f-8253-6b9a30c7ddfa",
   "metadata": {
    "tags": []
   },
   "outputs": [],
   "source": [
    "# CODE"
   ]
  },
  {
   "cell_type": "markdown",
   "id": "3287ecbe-b4af-4ed5-8874-0aef7833503b",
   "metadata": {},
   "source": [
    "- user1이 '예금' 상품을 가입하였는지 True, False로 확인"
   ]
  },
  {
   "cell_type": "code",
   "execution_count": 54,
   "id": "af316e5c-11f2-4829-943f-6e2765213ff6",
   "metadata": {
    "tags": []
   },
   "outputs": [],
   "source": [
    "# CODE"
   ]
  }
 ],
 "metadata": {
  "kernelspec": {
   "display_name": "Python 3 (ipykernel)",
   "language": "python",
   "name": "python3"
  },
  "language_info": {
   "codemirror_mode": {
    "name": "ipython",
    "version": 3
   },
   "file_extension": ".py",
   "mimetype": "text/x-python",
   "name": "python",
   "nbconvert_exporter": "python",
   "pygments_lexer": "ipython3",
   "version": "3.11.3"
  }
 },
 "nbformat": 4,
 "nbformat_minor": 5
}
