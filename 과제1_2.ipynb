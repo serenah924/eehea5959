{
  "metadata": {
    "kernelspec": {
      "name": "python",
      "display_name": "Python (Pyodide)",
      "language": "python"
    },
    "language_info": {
      "codemirror_mode": {
        "name": "python",
        "version": 3
      },
      "file_extension": ".py",
      "mimetype": "text/x-python",
      "name": "python",
      "nbconvert_exporter": "python",
      "pygments_lexer": "ipython3",
      "version": "3.8"
    }
  },
  "nbformat_minor": 4,
  "nbformat": 4,
  "cells": [
    {
      "cell_type": "code",
      "source": "#DATA 선언 방법 3가지 (2-2)\nSON =20\nMESSI =15\nSON, MESSI",
      "metadata": {
        "trusted": true
      },
      "outputs": [
        {
          "execution_count": 18,
          "output_type": "execute_result",
          "data": {
            "text/plain": "(20, 15)"
          },
          "metadata": {}
        }
      ],
      "execution_count": 18
    },
    {
      "cell_type": "code",
      "source": "SON2, MESSI2 = 11, 16\nSON2, MESSI",
      "metadata": {
        "trusted": true
      },
      "outputs": [
        {
          "execution_count": 10,
          "output_type": "execute_result",
          "data": {
            "text/plain": "(11, 16)"
          },
          "metadata": {}
        }
      ],
      "execution_count": 10
    },
    {
      "cell_type": "code",
      "source": "#식별자 2개, 데이터 1개 (식별자들에 대한 데이터가 동일)\nSON3 = MESSI3 = 33\nSON3, MESSI3",
      "metadata": {
        "trusted": true
      },
      "outputs": [
        {
          "execution_count": 11,
          "output_type": "execute_result",
          "data": {
            "text/plain": "(33, 33)"
          },
          "metadata": {}
        }
      ],
      "execution_count": 11
    },
    {
      "cell_type": "code",
      "source": "",
      "metadata": {
        "trusted": true
      },
      "outputs": [],
      "execution_count": null
    },
    {
      "cell_type": "code",
      "source": "#list, tuple, dict",
      "metadata": {
        "trusted": true
      },
      "outputs": [],
      "execution_count": null
    },
    {
      "cell_type": "code",
      "source": "#list (리스트행으로 각각 출력)\nplayers = ['SON', 'MESSI','HONALDO']\nins = [30, 20, 10]\nplayers, ins",
      "metadata": {
        "trusted": true
      },
      "outputs": [
        {
          "execution_count": 16,
          "output_type": "execute_result",
          "data": {
            "text/plain": "(['SON', 'MESSI', 'HONALDO'], [30, 20, 10])"
          },
          "metadata": {}
        }
      ],
      "execution_count": 16
    },
    {
      "cell_type": "code",
      "source": "#dict 더 깔끔함\ngoals = {'SON': 30, 'MESSI':20, 'HONALDO':10}\ngoals",
      "metadata": {
        "trusted": true
      },
      "outputs": [
        {
          "execution_count": 17,
          "output_type": "execute_result",
          "data": {
            "text/plain": "{'SON': 30, 'MESSI': 20, 'HONALDO': 10}"
          },
          "metadata": {}
        }
      ],
      "execution_count": 17
    },
    {
      "cell_type": "code",
      "source": "goals['SON']",
      "metadata": {
        "trusted": true
      },
      "outputs": [],
      "execution_count": null
    },
    {
      "cell_type": "code",
      "source": "#list, tuple\ngoals2 = [('SON', 30), ('MESSI', 20,), ('HONALDO', 10)]\ngoals2",
      "metadata": {
        "trusted": true
      },
      "outputs": [
        {
          "execution_count": 15,
          "output_type": "execute_result",
          "data": {
            "text/plain": "[('SON', 30), ('MESSI', 20), ('HONALDO', 10)]"
          },
          "metadata": {}
        }
      ],
      "execution_count": 15
    },
    {
      "cell_type": "code",
      "source": "",
      "metadata": {
        "trusted": true
      },
      "outputs": [],
      "execution_count": null
    },
    {
      "cell_type": "code",
      "source": "#( ) tuple 사용시 수정/del/이 불가함.\nuser1 = ('depo', 'secu', 'savings')\nuser2 = ('depo', 'insu', 'savings')\nuser1, user2",
      "metadata": {
        "trusted": true
      },
      "outputs": [
        {
          "execution_count": 38,
          "output_type": "execute_result",
          "data": {
            "text/plain": "(('depo', 'secu', 'savings'), ('depo', 'insu', 'savings'))"
          },
          "metadata": {}
        }
      ],
      "execution_count": 38
    },
    {
      "cell_type": "code",
      "source": "#3-7 [ ] #list 사용 vs.  () 사용시 수정/del/이 불가함.\nuser1 = ['depo', 'secu', 'savings']\nuser2 = ['depo', 'insu', 'savings']\nuser1, user2",
      "metadata": {
        "trusted": true
      },
      "outputs": [
        {
          "execution_count": 42,
          "output_type": "execute_result",
          "data": {
            "text/plain": "(['depo', 'secu', 'savings'], ['depo', 'insu', 'savings'])"
          },
          "metadata": {}
        }
      ],
      "execution_count": 42
    },
    {
      "cell_type": "code",
      "source": "#두번째 가입한 상품 #numbering은 0 부터\nuser2[1]",
      "metadata": {
        "trusted": true
      },
      "outputs": [
        {
          "execution_count": 36,
          "output_type": "execute_result",
          "data": {
            "text/plain": "'insu'"
          },
          "metadata": {}
        }
      ],
      "execution_count": 36
    },
    {
      "cell_type": "code",
      "source": "#첫번째 가입한 상품을 보험으로 변경\nuser1[0] = 'insu'\nuser1",
      "metadata": {
        "trusted": true
      },
      "outputs": [
        {
          "execution_count": 48,
          "output_type": "execute_result",
          "data": {
            "text/plain": "['insu', 'secu', 'savings']"
          },
          "metadata": {}
        }
      ],
      "execution_count": 48
    },
    {
      "cell_type": "code",
      "source": "#마지막 상품 지우기 방법 2가지 \nuser2 = ['depo', 'insu', 'savings']\nuser2\ndel user2[len(user2)-1]   # or del user2[-1]\nuser2",
      "metadata": {
        "trusted": true
      },
      "outputs": [
        {
          "execution_count": 52,
          "output_type": "execute_result",
          "data": {
            "text/plain": "['depo', 'insu']"
          },
          "metadata": {}
        }
      ],
      "execution_count": 52
    },
    {
      "cell_type": "code",
      "source": "",
      "metadata": {
        "trusted": true
      },
      "outputs": [],
      "execution_count": null
    },
    {
      "cell_type": "code",
      "source": "#4-8 연산지 문제\n#dict 선언\namt_dep = {'user1':1000, 'user2':2000}\n\n#할당연산자 user2에 예금 1000 추가\namt_dep['user2'] += 1000\namt_dep",
      "metadata": {
        "trusted": true
      },
      "outputs": [
        {
          "execution_count": 57,
          "output_type": "execute_result",
          "data": {
            "text/plain": "{'user1': 1000, 'user2': 3000}"
          },
          "metadata": {}
        }
      ],
      "execution_count": 57
    },
    {
      "cell_type": "code",
      "source": "#user1은 예금, 적금, user2는 보험, 적금 딕셔너리로 선언\n# pof = {'user1': ('dep','sav'), 'user2':('ins','sav')}  #tuple 틀린거\npof = {'user1': ['depo','sav'], 'user2':['ins','sav']}\npof",
      "metadata": {
        "trusted": true,
        "scrolled": true
      },
      "outputs": [
        {
          "execution_count": 62,
          "output_type": "execute_result",
          "data": {
            "text/plain": "{'user1': ['depo', 'sav'], 'user2': ['ins', 'sav']}"
          },
          "metadata": {}
        }
      ],
      "execution_count": 62
    },
    {
      "cell_type": "code",
      "source": "#예금자1의 가입상품 중 예금있는지\n#찾는거 in dict\n'depo' in pof['user1'] ",
      "metadata": {
        "trusted": true,
        "scrolled": true
      },
      "outputs": [
        {
          "execution_count": 64,
          "output_type": "execute_result",
          "data": {
            "text/plain": "True"
          },
          "metadata": {}
        }
      ],
      "execution_count": 64
    },
    {
      "cell_type": "code",
      "source": "",
      "metadata": {
        "trusted": true
      },
      "outputs": [],
      "execution_count": null
    },
    {
      "cell_type": "code",
      "source": "",
      "metadata": {
        "trusted": true
      },
      "outputs": [],
      "execution_count": null
    },
    {
      "cell_type": "code",
      "source": "#5-4 삼항연산자를 이용한 ATM 기계 구현 문제\nacc = {'balance' :10000, 'withdraw':140000}\n'인출가능'  if balance >= withdraw else '인출불가'\n\n\n'''res = '인출가능'  if balance >= withdraw else '인출불가'\nres '''",
      "metadata": {
        "trusted": true
      },
      "outputs": [],
      "execution_count": null
    },
    {
      "cell_type": "code",
      "source": "acc = {'balance' :10000, 'withdraw':140000}\n\nres = '인출가능'  if balance >= withdraw else '인출불가'\nres\n",
      "metadata": {
        "trusted": true
      },
      "outputs": [
        {
          "execution_count": 83,
          "output_type": "execute_result",
          "data": {
            "text/plain": "'인출가능'"
          },
          "metadata": {}
        }
      ],
      "execution_count": 83
    },
    {
      "cell_type": "code",
      "source": "",
      "metadata": {
        "trusted": true
      },
      "outputs": [],
      "execution_count": null
    },
    {
      "cell_type": "code",
      "source": "#랜덤 숫자 출력\nimport random\nrd = random.randint(1,3)\nrd ",
      "metadata": {
        "trusted": true
      },
      "outputs": [
        {
          "execution_count": 99,
          "output_type": "execute_result",
          "data": {
            "text/plain": "1"
          },
          "metadata": {}
        }
      ],
      "execution_count": 99
    },
    {
      "cell_type": "code",
      "source": "#리스트에 데이터 추가 \ndatan = [1,2,3]\ndatan1= datan.append(4)\ndatan1",
      "metadata": {
        "trusted": true
      },
      "outputs": [],
      "execution_count": 101
    },
    {
      "cell_type": "code",
      "source": "",
      "metadata": {
        "trusted": true
      },
      "outputs": [],
      "execution_count": null
    },
    {
      "cell_type": "markdown",
      "source": "## While 문 ; while, for, break, continue, range()\n- condition이 False가 될때까지 코드 반복\r- 단점: \n무한루프에 빠질수 있.. : 런타임 > 실행중되므로, break 걸어둬야 함.단- \r\ncondition이 논리값이 아니면 bool 데이터타입으로 형변환해서 판단\r\n",
      "metadata": {}
    },
    {
      "cell_type": "code",
      "source": "count = 3\nwhile count > 0:\n    print('python')\n    count -= 1",
      "metadata": {
        "trusted": true
      },
      "outputs": [],
      "execution_count": null
    },
    {
      "cell_type": "code",
      "source": "",
      "metadata": {
        "trusted": true
      },
      "outputs": [],
      "execution_count": null
    },
    {
      "cell_type": "markdown",
      "source": "### 06-03. for 명령어를 이용한 반복문\n- for variables in collection:\n- collection 갯수 만큼 코드를 반복적으로 실행",
      "metadata": {
        "jp-MarkdownHeadingCollapsed": true
      }
    },
    {
      "cell_type": "code",
      "source": "for number in [0, 1, 2]:\n    print('python', number)",
      "metadata": {
        "trusted": true
      },
      "outputs": [],
      "execution_count": null
    },
    {
      "cell_type": "markdown",
      "source": "- range() : list 데이터를 만들어주는 함수\n- range(end) : range(3) : [0, 1, 2]\n- range(start, end) : range(5, 8) : [5, 6, 7]\n- range(start, end, stride) : range(5, 10, 2) : [5, 7, 9]",
      "metadata": {}
    },
    {
      "cell_type": "markdown",
      "source": "### 06-05. List Comprehension\n- 간단한 for, if를 사용하여 리스트 데이터를 만들때 사용되는 문법\n- `[<var> for <var> in <collection> if <condition>]`",
      "metadata": {}
    },
    {
      "cell_type": "code",
      "source": "reports = ['사업보고서(2020)', '감사보고서(2020)', '[기재정정]사업보고서(2021)']",
      "metadata": {
        "trusted": true
      },
      "outputs": [],
      "execution_count": null
    },
    {
      "cell_type": "code",
      "source": "#방법1\nreports_2020 = [\n    report \n    for report in reports \n    if report[-5:-1] == '2020'\n]\nreports_2020",
      "metadata": {
        "trusted": true
      },
      "outputs": [],
      "execution_count": null
    },
    {
      "cell_type": "code",
      "source": "#방법2\nreports_2020 = []\nfor report in reports:\n    if report[-5:-1] == '2020':\n        reports_2020.append(report)\nreports_2020",
      "metadata": {
        "trusted": true
      },
      "outputs": [],
      "execution_count": null
    },
    {
      "cell_type": "markdown",
      "source": "### 06-06. for 명령어와 함께 사용하는 함수들\nenumerate : 리스트 데이터에 순서값인 index를 붙여줌\nzip : 여러개의 리스트에 같은 index 데이터를 묶어줌\nsort() : 순서대로 나열 ",
      "metadata": {}
    },
    {
      "cell_type": "code",
      "source": "# enumerate\nidx = 0\nreports = ['사업보고서(2020)', '감사보고서(2020)', '[기재정정]사업보고서(2021)']\nfor report in reports:\n    print(idx, report)\n    idx += 1\n\nlist(enumerate(reports))\nfor idx, report in enumerate(reports):\n    print(idx, report)",
      "metadata": {
        "trusted": true
      },
      "outputs": [
        {
          "name": "stdout",
          "text": "0 사업보고서(2020)\n1 감사보고서(2020)\n2 [기재정정]사업보고서(2021)\n0 사업보고서(2020)\n1 감사보고서(2020)\n2 [기재정정]사업보고서(2021)\n",
          "output_type": "stream"
        }
      ],
      "execution_count": 120
    },
    {
      "cell_type": "code",
      "source": "# zip() : 같은 인덱스를 갖는 데이터끼리 묶어서 리스트로 만듦\nuser_id = [1, 23, 56]\nuser_name = ['jhon', 'peter', 'anchel']\nuser_age = [23, 45, 34]\nlist(zip(user_id, user_name, user_age))",
      "metadata": {
        "trusted": true
      },
      "outputs": [
        {
          "execution_count": 118,
          "output_type": "execute_result",
          "data": {
            "text/plain": "[(1, 'jhon', 23), (23, 'peter', 45), (56, 'anchel', 34)]"
          },
          "metadata": {}
        }
      ],
      "execution_count": 118
    },
    {
      "cell_type": "code",
      "source": "for ui, un, ua in zip(user_id, user_name, user_age):\n    print(ui, un, ua)",
      "metadata": {
        "trusted": true
      },
      "outputs": [
        {
          "name": "stdout",
          "text": "1 jhon 23\n23 peter 45\n56 anchel 34\n",
          "output_type": "stream"
        }
      ],
      "execution_count": 119
    },
    {
      "cell_type": "code",
      "source": "",
      "metadata": {
        "trusted": true
      },
      "outputs": [],
      "execution_count": null
    },
    {
      "cell_type": "markdown",
      "source": "### 06-07. break, continue 명령어 사용법\n- break : 코드의 반복 중단\n- continue : 바로 for, while 명령어가 있는 코드 라인으로 올라가서 코드 실행",
      "metadata": {}
    },
    {
      "cell_type": "code",
      "source": "for number in range(10):\n    if number == 2:\n        continue\n    print(number)\n    if number == 6:\n        break",
      "metadata": {
        "trusted": true
      },
      "outputs": [
        {
          "name": "stdout",
          "text": "0\n1\n3\n4\n5\n6\n",
          "output_type": "stream"
        }
      ],
      "execution_count": 116
    },
    {
      "cell_type": "code",
      "source": "def lottery1( count) :\n    lotto = []\n    while True : \n        lotto.append(random.randint(1,45))\n        lotto = list(set(lotto))\n        if len(lotto) >= count:\n            break\n    return lotto",
      "metadata": {
        "trusted": true
      },
      "outputs": [],
      "execution_count": 109
    },
    {
      "cell_type": "code",
      "source": "lottery1( 6)",
      "metadata": {
        "trusted": true
      },
      "outputs": [
        {
          "execution_count": 110,
          "output_type": "execute_result",
          "data": {
            "text/plain": "[1, 33, 9, 18, 24, 29]"
          },
          "metadata": {}
        }
      ],
      "execution_count": 110
    },
    {
      "cell_type": "code",
      "source": "def lottery(start, end, count) :\n    lotto = []\n    while True : \n        lotto.append(random.randint(start, end))\n        lotto = list(set(lotto))\n        if len(lotto) >= count:\n            break\n    return lotto",
      "metadata": {
        "trusted": true
      },
      "outputs": [],
      "execution_count": 113
    },
    {
      "cell_type": "code",
      "source": "lottery(1,99,6)",
      "metadata": {
        "trusted": true
      },
      "outputs": [
        {
          "execution_count": 114,
          "output_type": "execute_result",
          "data": {
            "text/plain": "[99, 75, 51, 54, 86, 61]"
          },
          "metadata": {}
        }
      ],
      "execution_count": 114
    },
    {
      "cell_type": "code",
      "source": "",
      "metadata": {
        "trusted": true
      },
      "outputs": [],
      "execution_count": null
    },
    {
      "cell_type": "code",
      "source": "#함수 호출 및 함수선언\n# n1 : parameter, n2=20, n3=30 : default parameter\ndef plus(n1, n2=20, n3=30): \n    print(n1 + n2 + n3)\n\nplus(11, n3=50) # 1 : argument, n3=50 : keyword argument",
      "metadata": {
        "trusted": true
      },
      "outputs": [
        {
          "name": "stdout",
          "text": "81\n",
          "output_type": "stream"
        }
      ],
      "execution_count": 122
    },
    {
      "cell_type": "code",
      "source": "# Return\n- 함수실행 후 변수에 저장 또는 결과 출력\n- 함수에서 코드 실행 중단",
      "metadata": {
        "trusted": true
      },
      "outputs": [],
      "execution_count": null
    },
    {
      "cell_type": "code",
      "source": "def plus1(n1, n2):\n    print('plus1', n1 + n2)\n\ndef plus2(n1, n2):\n    print('plus2', n1 + n2)\n    return n1 + n2\nre1 = plus1(1, 2)\nre2 = plus2(2, 3)\nprint('result', re1, re2)\n\n'''왜 None 이지 3아니고?'''",
      "metadata": {
        "trusted": true
      },
      "outputs": [
        {
          "name": "stdout",
          "text": "plus1 3\nplus2 5\nresult None 5\n",
          "output_type": "stream"
        }
      ],
      "execution_count": 124
    },
    {
      "cell_type": "code",
      "source": "",
      "metadata": {
        "trusted": true
      },
      "outputs": [
        {
          "execution_count": 126,
          "output_type": "execute_result",
          "data": {
            "text/plain": "'PYTHON'"
          },
          "metadata": {}
        }
      ],
      "execution_count": 126
    },
    {
      "cell_type": "code",
      "source": "##대문자 만들기\ndata = 'python'\ndef Upper(data):\n    result = data.upper()\n    print(result)\n\nCap = Upper('python')",
      "metadata": {
        "trusted": true
      },
      "outputs": [
        {
          "name": "stdout",
          "text": "PYTHON\n",
          "output_type": "stream"
        }
      ],
      "execution_count": 132
    },
    {
      "cell_type": "code",
      "source": "def Lower (data):\n    result = data.lower()\n    print(result)\n",
      "metadata": {
        "trusted": true
      },
      "outputs": [],
      "execution_count": 135
    },
    {
      "cell_type": "code",
      "source": "Lower(Cap)",
      "metadata": {
        "trusted": true
      },
      "outputs": [],
      "execution_count": null
    },
    {
      "cell_type": "code",
      "source": "Lower = Lower('PYTHON')",
      "metadata": {
        "trusted": true
      },
      "outputs": [
        {
          "name": "stdout",
          "text": "python\n",
          "output_type": "stream"
        }
      ],
      "execution_count": 137
    },
    {
      "cell_type": "code",
      "source": "# 코드 실행을 중단하는 기능의 return\ndef echo():\n    print('staaart')\n    return\n    print('now')\n\necho()",
      "metadata": {
        "trusted": true
      },
      "outputs": [
        {
          "name": "stdout",
          "text": "staaart\n",
          "output_type": "stream"
        }
      ],
      "execution_count": 140
    },
    {
      "cell_type": "code",
      "source": "",
      "metadata": {
        "trusted": true
      },
      "outputs": [],
      "execution_count": null
    },
    {
      "cell_type": "code",
      "source": "#7-4  로또번호 출력코드를 함수로 변경하는 문제",
      "metadata": {
        "trusted": true
      },
      "outputs": [],
      "execution_count": null
    },
    {
      "cell_type": "code",
      "source": "def lottery(start, end, count) :\n    lotto = []\n    while True : \n        lotto.append(random.randint(start, end))\n        lotto = list(set(lotto))\n        if len(lotto) >= count:\n                break\n    lotto.sort()\n    return lotto\n\nlottery (1, 99, 7)",
      "metadata": {
        "trusted": true
      },
      "outputs": [
        {
          "execution_count": 151,
          "output_type": "execute_result",
          "data": {
            "text/plain": "[28, 33, 41, 47, 54, 74, 97]"
          },
          "metadata": {}
        }
      ],
      "execution_count": 151
    },
    {
      "cell_type": "code",
      "source": "###아래 출력코드를 함수로 변경\n'''import random\n\nlotto = []\nwhile True:\n    lotto.append(random.randint(1, 45))\n    lotto = list(set(lotto))\n    if len(lotto) >= 6:\n        break\nlotto.sort()\nprint(lotto)'''\n\ndef lottery(start, end, count) :\n    lotto = []\n    while True : \n        lotto.append(random.randint(start, end))\n        lotto = list(set(lotto))\n        if len(lotto) >= count:\n                break\n    lotto.sort()\n    return lotto\n\n\n''' #주의 return 빠지면 생성이 안됨!!!!!\ndef lottery(start, end, count) :\n    lotto = []\n    while True : \n        lotto.append(random.randint(start, end))\n        lotto = list(set(lotto))\n        if len(lotto) >= count:\n                break\n    lotto.sort()\n    \n'''",
      "metadata": {
        "trusted": true
      },
      "outputs": [
        {
          "execution_count": 163,
          "output_type": "execute_result",
          "data": {
            "text/plain": "' #주의 return 빠지면 생성이 안됨!!!!!\\ndef lottery(start, end, count) :\\n    lotto = []\\n    while True : \\n        lotto.append(random.randint(start, end))\\n        lotto = list(set(lotto))\\n        if len(lotto) >= count:\\n                break\\n    lotto.sort()\\n    \\n'"
          },
          "metadata": {}
        }
      ],
      "execution_count": 163
    },
    {
      "cell_type": "code",
      "source": "#지정가능\n'''lottery_print함수에서 lottery_print(count=6)으로만 함수설정하고, \nlottery_print(count=4)하면 결과값 안나옴. '''\n\ndef lottery_print(start=1, end=45, count=6) :\n    lotto = []\n    while True : \n        lotto.append(random.randint(start, end))\n        lotto = list(set(lotto))\n        if len(lotto) >= count:\n            break\n    lotto.sort()\n    return lotto\n\nres184 = lottery_print(count=4)\nres184\n",
      "metadata": {
        "trusted": true
      },
      "outputs": [
        {
          "execution_count": 161,
          "output_type": "execute_result",
          "data": {
            "text/plain": "[11, 17, 32, 39]"
          },
          "metadata": {}
        }
      ],
      "execution_count": 161
    },
    {
      "cell_type": "markdown",
      "source": "# 7-6  *, **를 사용하는 argument와 parameter 사용법\n- parameter : 여러개의 아규먼트를 하나의 파라미터(tuple,dict)로 받는 방법\n- argument : 컬렉션 데이터(list,tuple,dict)를 여러개의 아규먼트로 함수 호출",
      "metadata": {}
    },
    {
      "cell_type": "code",
      "source": "#아규먼트 갯수와 무관하게, & tuple/dict의 종류를 모두 하나의 값으로 받음.\ndef plus(*args, **kwargs):\n    print(type(args), args)\n    print(type(kwargs), kwargs)\n    return sum(args) + sum(kwargs.values())\n\nplus(1, 2, 3, 4, 5, n1=10, n2=20)",
      "metadata": {
        "trusted": true
      },
      "outputs": [],
      "execution_count": null
    },
    {
      "cell_type": "code",
      "source": "# *, ** argument에서 사용하는 문법\n# argument : 컬렉션 데이터(list,tuple,dict)를 여러개의 아규먼트로 함수 호출\ndef echo(*args, **kwargs):\n    print(args)\n    print(kwargs)",
      "metadata": {
        "trusted": true
      },
      "outputs": [],
      "execution_count": null
    },
    {
      "cell_type": "code",
      "source": "data1 = [1, 2, 3]\necho(data1) # echo([1, 2, 3]) : argument 갯수 : 1개, 데이터타입 : 리스트\necho(*data1) # echo(1, 2, 3) : a  rgument 갯수 : 3개, 데이터타입 : 정수",
      "metadata": {
        "trusted": true
      },
      "outputs": [],
      "execution_count": null
    },
    {
      "cell_type": "code",
      "source": "data2 = {'n1': 10, 'n2': 20}\necho(data2) # echo({'n1': 10, 'n2': 20})\necho(**data2) # echo(n1=10, n2=20)",
      "metadata": {
        "trusted": true
      },
      "outputs": [],
      "execution_count": null
    },
    {
      "cell_type": "code",
      "source": "def connect(host, user, pw):\n    print('connent :', host, user, pw)",
      "metadata": {
        "trusted": true
      },
      "outputs": [],
      "execution_count": null
    },
    {
      "cell_type": "code",
      "source": "data = {'host': '1.2.3.6', 'user': 'root', 'pw': 'py'}\n# connect(host='1.2.3.5', user='root', pw='py')\n# connect(host=data['host'], user=data['user'], pw=data['pw'])\nconnect(**data)",
      "metadata": {
        "trusted": true
      },
      "outputs": [],
      "execution_count": null
    },
    {
      "cell_type": "code",
      "source": "",
      "metadata": {
        "trusted": true
      },
      "outputs": [],
      "execution_count": null
    },
    {
      "cell_type": "markdown",
      "source": "### 07-08. 일회성으로 사용되는 lambda 함수 사용법\n- lambda function : 일회성 함수\n- 간단한 파라미터와 리턴코드로 이루어진 함수를 대체\n- lambda params: return_code",
      "metadata": {}
    },
    {
      "cell_type": "code",
      "source": "# 함수 3개 선언 > 메모리 3칸\ndef plus(n1, n2):\n    return n1 + n2\n\ndef minus(n1, n2):\n    return n1 - n2\n\ndef calc(func, n1, n2):\n    return func(n1, n2)\n\ncalc(plus, 1, 2), calc(minus, 5, 3)",
      "metadata": {
        "trusted": true
      },
      "outputs": [
        {
          "execution_count": 165,
          "output_type": "execute_result",
          "data": {
            "text/plain": "(3, 2)"
          },
          "metadata": {}
        }
      ],
      "execution_count": 165
    },
    {
      "cell_type": "code",
      "source": "plus_lambda = lambda n1, n2: n1 + n2\nplus_lambda(1, 2)",
      "metadata": {
        "trusted": true
      },
      "outputs": [
        {
          "execution_count": 166,
          "output_type": "execute_result",
          "data": {
            "text/plain": "3"
          },
          "metadata": {}
        }
      ],
      "execution_count": 166
    },
    {
      "cell_type": "code",
      "source": "# 함수 1개 선언 > 메모리 1칸\ndef calc(func, n1, n2):\n    return func(n1, n2)\n\ncalc(lambda n1, n2: n1 + n2, 1, 2), calc(lambda n1, n2: n1 - n2, 5, 3)",
      "metadata": {
        "trusted": true
      },
      "outputs": [
        {
          "execution_count": 167,
          "output_type": "execute_result",
          "data": {
            "text/plain": "(3, 2)"
          },
          "metadata": {}
        }
      ],
      "execution_count": 167
    },
    {
      "cell_type": "code",
      "source": "",
      "metadata": {
        "trusted": true
      },
      "outputs": [],
      "execution_count": null
    },
    {
      "cell_type": "markdown",
      "source": "## 07-09. 데코레이터 개념\n- 함수에서 코드를 변경하지 않고 기능을 수정하거나 추가 하는 문법\n- 서로 다른 함수에서 중복되는 코드를 데코레이터 함수로 만들수 있다.",
      "metadata": {}
    },
    {
      "cell_type": "code",
      "source": "# def deco(func):\n#    def wrapper():\n#        code1\n#        func() # func1 : code2\n#        code3\n#    return wrapper\n\n# @deco #fund1()한수가 위의 wrapper에 적용됨.\n# def func1():\n#     code2\n# func1 # code1, code2, code3\n\n\n# @deco\n# def func2():\n#     code4\n\n# func2 = deco(func2) #deco함수 부를건데, code1, func() #func2이 해당하여 code4, code 3이 출력됨.\n# func2 # code1, code4, code3",
      "metadata": {
        "trusted": true
      },
      "outputs": [],
      "execution_count": null
    },
    {
      "cell_type": "code",
      "source": "def func1():\n    code1\n    code2\n    code3\n\ndef func2():\n    code1\n    code4\n    code3",
      "metadata": {
        "trusted": true
      },
      "outputs": [],
      "execution_count": 203
    },
    {
      "cell_type": "code",
      "source": "#ex. \ndef func1():\n    print('code1')\n    print('code2')\n\ndef func2():\n    print('code4')\n    print('code3')\n\nfunc1()\nfunc2()",
      "metadata": {
        "trusted": true
      },
      "outputs": [
        {
          "name": "stdout",
          "text": "code1\ncode2\ncode4\ncode3\n",
          "output_type": "stream"
        }
      ],
      "execution_count": 204
    },
    {
      "cell_type": "code",
      "source": "#code1 -> code5로 바꾸고 싶은데 바뀔 데이터가 너무 많을때 deco로 손쉽게 변환가능\n",
      "metadata": {
        "trusted": true
      },
      "outputs": [],
      "execution_count": null
    },
    {
      "cell_type": "code",
      "source": "def func1():\n    print('code2')\n    \nfunc11 = deco(func1)\nfunc11()",
      "metadata": {
        "trusted": true
      },
      "outputs": [
        {
          "name": "stdout",
          "text": "code1\ncode2\ncode3\n",
          "output_type": "stream"
        }
      ],
      "execution_count": 176
    },
    {
      "cell_type": "code",
      "source": "def deco(func):\n    def namam(*args, **kwargs):\n        print('code1')\n        func(*args, **kwargs) # func1 : code2\n        print('code3')\n    return namam\n\n@deco\ndef func1():\n    print('code2')\n\n@deco\ndef func2():    \n    print('code4')",
      "metadata": {
        "trusted": true
      },
      "outputs": [],
      "execution_count": null
    },
    {
      "cell_type": "code",
      "source": "'''어떤 논리 인지 다시 파악하기\n'''\nprint('----func1----')\nfunc1()   #code1, code2 에 code3 추가됨\nprint('----func2----')\nfunc2()   #code4, code4 에 code1 추가됨",
      "metadata": {
        "trusted": true,
        "scrolled": true
      },
      "outputs": [
        {
          "name": "stdout",
          "text": "----func1----\ncode1\ncode2\ncode3\n----func2----\ncode1\ncode4\ncode3\n",
          "output_type": "stream"
        }
      ],
      "execution_count": 206
    },
    {
      "cell_type": "code",
      "source": "def deco(func):\n    def namam(*args, **kwargs):\n        print('code5')\n        func(*args, **kwargs)    # func1 : code2이 실행된다.\n        print('code3')\n    return namam\n\n@deco\ndef func1():\n    print('code2')\n\n#func1=deco(func1) 같은 효과\n#func1()\n\n@deco\ndef func2():    \n    print('code4')\n",
      "metadata": {
        "trusted": true
      },
      "outputs": [],
      "execution_count": 208
    },
    {
      "cell_type": "code",
      "source": "'''어떤 논리 인지 다시 파악하기\n'''\nprint('----func5----')\nfunc1()   #code5, code2 에 code3 추가됨\nprint('----func2----')\nfunc2()   #code5, code4, code4",
      "metadata": {
        "trusted": true
      },
      "outputs": [
        {
          "name": "stdout",
          "text": "----func1----\ncode5\ncode2\ncode3\n----func2----\ncode5\ncode4\ncode3\n",
          "output_type": "stream"
        }
      ],
      "execution_count": 209
    },
    {
      "cell_type": "markdown",
      "source": "### 7-10 데코레이터를 이용한 타이머, 패스워드 문제",
      "metadata": {}
    },
    {
      "cell_type": "code",
      "source": "def ech():\n    start =time.time()\n    print('carrot juice')\n    end = time.time() #글자 써지는 데 걸리는 시간  \n    print('running time: ', end-start)\n    \ndef plus(n1, n2):\n    start =time.time()\n    print(n1 + n2)\n    end = time.time() #글자 써지는 데 걸리는 시간  \n    print('running time: ', end-start)\n    ",
      "metadata": {
        "trusted": true
      },
      "outputs": [],
      "execution_count": null
    },
    {
      "cell_type": "code",
      "source": "#위에 중복되는 함수선언 통합하기\ndef timer (func):\n    def naemam(*args, **kwargs):  ##지역함수\n        start = time.time()\n        func(*args, **kwargs) ##여기에 어떤게 들어갈 지 변수 지정되도록\n        end = time.time()\n        print('running time:', end - start )\n    return naemam\n\n@timer  #위 식으로 통합하고 데코레이션 기능으로 합침\ndef ech ():\n    print('carrot juice')\n\n@timer \ndef plus(n1, n2):\n    print(n1 + n2)",
      "metadata": {
        "trusted": true
      },
      "outputs": [],
      "execution_count": null
    },
    {
      "cell_type": "code",
      "source": "ech()\n\nplus(1,2)",
      "metadata": {
        "trusted": true
      },
      "outputs": [],
      "execution_count": null
    },
    {
      "cell_type": "code",
      "source": "",
      "metadata": {
        "trusted": true
      },
      "outputs": [],
      "execution_count": 198
    },
    {
      "cell_type": "code",
      "source": "#- 패스워드를 체크하는 데코레이터 함수를 코드로 작성하세요.",
      "metadata": {
        "trusted": true
      },
      "outputs": [],
      "execution_count": 194
    },
    {
      "cell_type": "code",
      "source": "import time",
      "metadata": {
        "trusted": true
      },
      "outputs": [],
      "execution_count": null
    },
    {
      "cell_type": "code",
      "source": "def check_pw (func):\n    def mypw(*args, **kwargs):\n        pw = input('insert password:')\n        if pw == '9329':\n            func(*args, **kwargs)\n        else:\n            print('wrong password')\n    return mypw",
      "metadata": {
        "trusted": true
      },
      "outputs": [],
      "execution_count": null
    },
    {
      "cell_type": "code",
      "source": "@check_pw\n@timer\n\ndef ech():\n    print('======')",
      "metadata": {
        "trusted": true
      },
      "outputs": [],
      "execution_count": null
    },
    {
      "cell_type": "code",
      "source": "",
      "metadata": {
        "trusted": true
      },
      "outputs": [],
      "execution_count": null
    },
    {
      "cell_type": "code",
      "source": "",
      "metadata": {
        "trusted": true
      },
      "outputs": [],
      "execution_count": null
    },
    {
      "cell_type": "code",
      "source": "",
      "metadata": {
        "trusted": true
      },
      "outputs": [],
      "execution_count": null
    },
    {
      "cell_type": "code",
      "source": "",
      "metadata": {
        "trusted": true
      },
      "outputs": [],
      "execution_count": null
    },
    {
      "cell_type": "code",
      "source": "",
      "metadata": {
        "trusted": true
      },
      "outputs": [],
      "execution_count": null
    }
  ]
}