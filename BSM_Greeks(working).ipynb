{
 "cells": [
  {
   "cell_type": "markdown",
   "id": "73f5c567",
   "metadata": {},
   "source": [
    "## SET UP"
   ]
  },
  {
   "cell_type": "code",
   "execution_count": null,
   "id": "a4e4a54e",
   "metadata": {},
   "outputs": [],
   "source": [
    "## cmd -> cd C:\\Users\\infomax\\anaconda3\\Scripts  "
   ]
  },
  {
   "cell_type": "code",
   "execution_count": 1,
   "id": "1edccc12",
   "metadata": {
    "scrolled": true
   },
   "outputs": [],
   "source": [
    "pip install --upgrade pip3\n",
    "pip install calcbsimpvol\n",
    "\n",
    "from calcbsimpvol import calcbsimpvol\n",
    "#시스템 설정 가서 path에 anaconda3>lib 추가해준 후, reboot 하고 나서 import 실행."
   ]
  },
  {
   "cell_type": "markdown",
   "id": "9b449ac2",
   "metadata": {
    "collapsed": true
   },
   "source": [
    "pip install --upgrade scipy\n",
    "pip install --upgrade pandas\n",
    "pip install pandas_datareader\n",
    "pip install --upgrade numpy"
   ]
  },
  {
   "cell_type": "code",
   "execution_count": 4,
   "id": "6c8ebc66",
   "metadata": {
    "scrolled": true
   },
   "outputs": [],
   "source": [
    "import numpy as np \n",
    "from math import log, e\n",
    "from scipy.stats import norm"
   ]
  },
  {
   "cell_type": "code",
   "execution_count": 33,
   "id": "10e32543",
   "metadata": {},
   "outputs": [],
   "source": [
    "class BSM:\n",
    "    def __init__ (self, args):\n",
    "        self.mkt_prc = float(args[0])\n",
    "        self.Type = int(args[1])\n",
    "        self.S = float(args[2])\n",
    "        self.K = float(args[3])\n",
    "        self.r = float(args[4])\n",
    "        self.q = float(args[5])\n",
    "        self.T = float(args[6])/365.0\n",
    "\n",
    "        self.sigma = self.imp_vol()\n",
    "        self.sigmaT = self.sigma * self.T **0.5\n",
    "\n",
    "        self.d1 = (log(self.S / self.K)+(self.r - self.q + 0.5*(self.sigma**2))*self.T) / self.sigmaT\n",
    "        self.d2 = self.d1 - self.sigmaT    \n",
    "\n",
    "\n",
    "    def imp_vol(self): \n",
    "        cp = np.asarray(self.Type)\n",
    "        P = np.asarray([self.mkt_prc])\n",
    "        K = np.asarray([self.K])\n",
    "        S = np.asarray([self.S])\n",
    "        tau = np.asarray([self.T])\n",
    "        r = np.asarray(self.r)\n",
    "        q = np.asarray(self.q)\n",
    "\n",
    "        imvol = calcbsimpvol(dict(cp=cp, P=P, S=S, K=K, tau=tau, r=r, q=q))\n",
    "        imvol = np.ndarray.item(imvol)\n",
    "        return imvol\n",
    "\n",
    "\n",
    "    def delta(self) :\n",
    "        dfq = e**(-self.q * self.T)\n",
    "        if self.Type == 1:      #Option Type is arranged.\n",
    "            return dfq * norm.cdf(self.d1)\n",
    "        else:\n",
    "            return dfq * (norm.cdf(self.d1) -1)\n",
    "\n",
    "\n",
    "    def gamma(self):\n",
    "        return e** (-self.q * self.T) * norm.pdf(self.d1) * (self.S*self.sigmaT)\n",
    "\n",
    "\n",
    "    def vega(self):\n",
    "        return 0.01 * self.S * e **(-self.q * self.T) * norm.pdf(self.d1) * self.T **0.5\n",
    "\n",
    "\n",
    "    def theta(self):\n",
    "        df = e ** -(self.r * self.T)\n",
    "        dfq = e ** (-self.q * self.T)\n",
    "        tmptheta = (1.0 / 365.0) * (-0.5 * self.S * dfq * norm.pdf(self.d1) * self.sigma / (self.T **0.5) * self.Type * (self.q * self.S * dfq * norm.cdf(self.Type * self.d1) - self.r *self.K * df * norm.cdf(self.Type *self.d2)))\n",
    "        return tmptheta\n",
    "\n",
    "\n",
    "    def rho(self):\n",
    "        df = e** -(self.r *self.T)\n",
    "        return self.Type * self.K * self.T *df *0.01 *norm.cdf(self.Type * self.d2)\n",
    "\n",
    "### 클래스 호출과 동시에 실행시키는 init.\n",
    "### 클래스 내의 모든 함수의 첫번째 인자(argument)가 self임.\n",
    "### 변수앞에 self.를 붙이면, 클래스와 함수에서 사용가능한 변수가 된다. \n",
    "### - instant variable.\n",
    "### 이렇게 하면 그릭스 계산시 인자를 따로 받을 필요가 없음. \n"
   ]
  },
  {
   "cell_type": "code",
   "execution_count": 34,
   "id": "5590b69b",
   "metadata": {},
   "outputs": [],
   "source": [
    "mkt_prc = 0.31\n",
    "op_Type = 1   #1은 뭐고, 1이 아닌건 뭐고? 누가 정했나?\n",
    "S = 268.55\n",
    "K = 275.0\n",
    "q= 0.0\n",
    "r = 0.01\n",
    "T = 9\n",
    "\n",
    "args = [mkt_prc, op_Type, S, K, r, q, T]\n",
    "BSM = BSM(args)"
   ]
  },
  {
   "cell_type": "code",
   "execution_count": 36,
   "id": "286593f0",
   "metadata": {},
   "outputs": [],
   "source": [
    "imp_vol = BSM.imp_vol()\n",
    "delta = BSM.delta()\n",
    "gamma = BSM.gamma()\n",
    "vega = BSM.vega()\n",
    "theta = BSM.theta()\n",
    "rho = BSM.rho()"
   ]
  },
  {
   "cell_type": "code",
   "execution_count": 38,
   "id": "85dda1a7",
   "metadata": {},
   "outputs": [
    {
     "name": "stdout",
     "output_type": "stream",
     "text": [
      "Imp_Vol =  0.126\n",
      "Delta =  0.1196\n",
      "Gamma =  1.0609\n",
      "Vega =  0.0842\n",
      "Theta =  0.0188\n",
      "Rho =  0.0078\n"
     ]
    }
   ],
   "source": [
    "print('Imp_Vol = ', round(imp_vol, 4))\n",
    "print('Delta = ', round(delta, 4))\n",
    "print('Gamma = ', round(gamma, 4))\n",
    "print('Vega = ', round(vega, 4))\n",
    "print('Theta = ', round(theta, 4))\n",
    "print('Rho = ', round(rho, 4))"
   ]
  },
  {
   "cell_type": "code",
   "execution_count": 9,
   "id": "73d9321e",
   "metadata": {
    "collapsed": true
   },
   "outputs": [
    {
     "name": "stdout",
     "output_type": "stream",
     "text": [
      "Requirement already satisfied: calcbsimpvol in c:\\users\\infomax\\anaconda3\\lib\\site-packages (1.14.0)\n",
      "Requirement already satisfied: numpy in c:\\users\\infomax\\anaconda3\\lib\\site-packages (from calcbsimpvol) (1.24.4)\n",
      "Requirement already satisfied: scipy in c:\\users\\infomax\\anaconda3\\lib\\site-packages (from calcbsimpvol) (1.4.1)\n",
      "Requirement already satisfied: matplotlib in c:\\users\\infomax\\anaconda3\\lib\\site-packages (from calcbsimpvol) (3.3.4)\n",
      "Note: you may need to restart the kernel to use updated packages.Requirement already satisfied: cycler>=0.10 in c:\\users\\infomax\\anaconda3\\lib\\site-packages (from matplotlib->calcbsimpvol) (0.10.0)\n",
      "Requirement already satisfied: kiwisolver>=1.0.1 in c:\\users\\infomax\\anaconda3\\lib\\site-packages (from matplotlib->calcbsimpvol) (1.3.1)\n",
      "Requirement already satisfied: pillow>=6.2.0 in c:\\users\\infomax\\anaconda3\\lib\\site-packages (from matplotlib->calcbsimpvol) (8.2.0)\n",
      "Requirement already satisfied: pyparsing!=2.0.4,!=2.1.2,!=2.1.6,>=2.0.3 in c:\\users\\infomax\\anaconda3\\lib\\site-packages (from matplotlib->calcbsimpvol) (2.4.7)\n",
      "Requirement already satisfied: python-dateutil>=2.1 in c:\\users\\infomax\\anaconda3\\lib\\site-packages (from matplotlib->calcbsimpvol) (2.8.1)\n",
      "Requirement already satisfied: six in c:\\users\\infomax\\anaconda3\\lib\\site-packages (from cycler>=0.10->matplotlib->calcbsimpvol) (1.15.0)\n",
      "\n"
     ]
    },
    {
     "name": "stderr",
     "output_type": "stream",
     "text": [
      "DEPRECATION: pyodbc 4.0.0-unsupported has a non-standard version number. pip 24.0 will enforce this behaviour change. A possible replacement is to upgrade to a newer version of pyodbc or contact the author to suggest that they release a version with a conforming version number. Discussion can be found at https://github.com/pypa/pip/issues/12063\n",
      "\n",
      "[notice] A new release of pip is available: 23.3.1 -> 23.3.2\n",
      "[notice] To update, run: python.exe -m pip install --upgrade pip\n"
     ]
    }
   ],
   "source": []
  }
 ],
 "metadata": {
  "kernelspec": {
   "display_name": "Python 3",
   "language": "python",
   "name": "python3"
  },
  "language_info": {
   "codemirror_mode": {
    "name": "ipython",
    "version": 3
   },
   "file_extension": ".py",
   "mimetype": "text/x-python",
   "name": "python",
   "nbconvert_exporter": "python",
   "pygments_lexer": "ipython3",
   "version": "3.8.8"
  }
 },
 "nbformat": 4,
 "nbformat_minor": 5
}
