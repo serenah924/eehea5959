{
 "cells": [
  {
   "cell_type": "code",
   "execution_count": 10,
   "id": "3496a39e",
   "metadata": {},
   "outputs": [],
   "source": [
    "# 실행시간 출력\n",
    "#위에 중복되는 함수선언 통합하기\n",
    "def timer (func):\n",
    "    def naemam(*args, **kwargs):  ##지역함수\n",
    "        start = time.time()\n",
    "        func(*args, **kwargs) ##여기에 어떤게 들어갈 지 변수 지정되도록\n",
    "        end = time.time()\n",
    "        print('running time:', end - start )\n",
    "    return naemam\n",
    "\n",
    "@timer\n",
    "\n",
    "def ech():\n",
    "    print('======')"
   ]
  },
  {
   "cell_type": "code",
   "execution_count": 11,
   "id": "8102ddcc",
   "metadata": {},
   "outputs": [],
   "source": [
    "def check_pw (func):\n",
    "    def mypw(*args, **kwargs):\n",
    "        pw = input('insert password:')\n",
    "        if pw == '9329':\n",
    "            func(*args, **kwargs)\n",
    "        else:\n",
    "            print('wrong password')\n",
    "    return mypw"
   ]
  },
  {
   "cell_type": "code",
   "execution_count": 12,
   "id": "880f59bf",
   "metadata": {},
   "outputs": [
    {
     "name": "stdout",
     "output_type": "stream",
     "text": [
      "insert password:9329\n",
      "======\n",
      "running time: 0.0\n"
     ]
    }
   ],
   "source": [
    "@check_pw\n",
    "@timer\n",
    "\n",
    "def ech():\n",
    "    print('======')\n",
    "    \n",
    "    \n",
    "ech()"
   ]
  },
  {
   "cell_type": "code",
   "execution_count": 13,
   "id": "a266a3b4",
   "metadata": {},
   "outputs": [
    {
     "name": "stdout",
     "output_type": "stream",
     "text": [
      "insert password:0029\n",
      "wrong password\n"
     ]
    }
   ],
   "source": [
    "@check_pw\n",
    "@timer\n",
    "\n",
    "def ech():\n",
    "    print('======')\n",
    "    \n",
    "    \n",
    "ech()"
   ]
  },
  {
   "cell_type": "code",
   "execution_count": null,
   "id": "d8c3edfc",
   "metadata": {},
   "outputs": [],
   "source": []
  },
  {
   "cell_type": "code",
   "execution_count": 18,
   "id": "f12dd7c9",
   "metadata": {},
   "outputs": [],
   "source": [
    "class Craft:\n",
    "\n",
    "    health, ap = 40, 5\n",
    "    def attack (self, target):  #self :주어  #c2 목적어\n",
    "        target.health -= self.ap "
   ]
  },
  {
   "cell_type": "code",
   "execution_count": 19,
   "id": "c2a2111b",
   "metadata": {},
   "outputs": [
    {
     "data": {
      "text/plain": [
       "(40, 40, 5, 5)"
      ]
     },
     "execution_count": 19,
     "metadata": {},
     "output_type": "execute_result"
    }
   ],
   "source": [
    "c1 = Craft ()\n",
    "c2 = Craft()\n",
    "c1.health, c2.health, c1.ap, c2.ap\n"
   ]
  },
  {
   "cell_type": "code",
   "execution_count": 21,
   "id": "dacf613e",
   "metadata": {
    "scrolled": true
   },
   "outputs": [
    {
     "data": {
      "text/plain": [
       "(40, 31, 9, 5)"
      ]
     },
     "execution_count": 21,
     "metadata": {},
     "output_type": "execute_result"
    }
   ],
   "source": [
    "c1.ap = 9\n",
    "c1.attack(c2)  #c1이 c2를 공격함.\n",
    "c1.health, c2.health, c1.ap, c2.ap"
   ]
  },
  {
   "cell_type": "code",
   "execution_count": null,
   "id": "9384d476",
   "metadata": {},
   "outputs": [],
   "source": []
  },
  {
   "cell_type": "code",
   "execution_count": 27,
   "id": "40f9a3e8",
   "metadata": {},
   "outputs": [],
   "source": [
    "class Marine:\n",
    "    def __init__(self, health = 40, ap=5):\n",
    "        self.health = health\n",
    "        self.ap = ap\n",
    "    def attack(self, target):\n",
    "        target.health -= self.ap\n",
    "        if target.health <= 0:\n",
    "            target.health =0\n",
    "            "
   ]
  },
  {
   "cell_type": "code",
   "execution_count": 37,
   "id": "1da88d97",
   "metadata": {},
   "outputs": [],
   "source": [
    "class Medic : \n",
    "    def __init__(self, health =60, hp = 6):\n",
    "        self.max_health = self.health = health\n",
    "        self.hp = hp\n",
    "    def heal(self, target):\n",
    "        if target.health == 0 :\n",
    "            return \n",
    "        target.health += self.hp\n",
    "        if target.health > taget.max_health:\n",
    "            target.health = target.max_health\n"
   ]
  },
  {
   "cell_type": "code",
   "execution_count": 38,
   "id": "cedcd174",
   "metadata": {},
   "outputs": [
    {
     "data": {
      "text/plain": [
       "(40, 5, 70, 6)"
      ]
     },
     "execution_count": 38,
     "metadata": {},
     "output_type": "execute_result"
    }
   ],
   "source": [
    "m1 = Marine()\n",
    "m2 = Marine(70,6)\n",
    "m1.health, m1.ap, m2.health, m2.ap"
   ]
  },
  {
   "cell_type": "code",
   "execution_count": 40,
   "id": "fee1f1db",
   "metadata": {},
   "outputs": [
    {
     "data": {
      "text/plain": [
       "(28, 5, 70, 6)"
      ]
     },
     "execution_count": 40,
     "metadata": {},
     "output_type": "execute_result"
    }
   ],
   "source": [
    "m2.attack(m1)\n",
    "m1.health, m1.ap, m2.health, m2.ap"
   ]
  },
  {
   "cell_type": "code",
   "execution_count": 43,
   "id": "18b8f9c4",
   "metadata": {},
   "outputs": [
    {
     "ename": "AttributeError",
     "evalue": "'Medic' object has no attribute 'hp'",
     "output_type": "error",
     "traceback": [
      "\u001b[1;31m---------------------------------------------------------------------------\u001b[0m",
      "\u001b[1;31mAttributeError\u001b[0m                            Traceback (most recent call last)",
      "\u001b[1;32m<ipython-input-43-06aa4145508c>\u001b[0m in \u001b[0;36m<module>\u001b[1;34m\u001b[0m\n\u001b[0;32m      1\u001b[0m \u001b[0mmedic\u001b[0m \u001b[1;33m=\u001b[0m \u001b[0mMedic\u001b[0m\u001b[1;33m(\u001b[0m\u001b[1;33m)\u001b[0m\u001b[1;33m\u001b[0m\u001b[1;33m\u001b[0m\u001b[0m\n\u001b[1;32m----> 2\u001b[1;33m \u001b[0mmedic\u001b[0m\u001b[1;33m.\u001b[0m\u001b[0mhealth\u001b[0m\u001b[1;33m,\u001b[0m \u001b[0mmedic\u001b[0m\u001b[1;33m.\u001b[0m\u001b[0mhp\u001b[0m\u001b[1;33m\u001b[0m\u001b[1;33m\u001b[0m\u001b[0m\n\u001b[0m\u001b[0;32m      3\u001b[0m \u001b[1;31m#안되는데?\u001b[0m\u001b[1;33m\u001b[0m\u001b[1;33m\u001b[0m\u001b[1;33m\u001b[0m\u001b[0m\n",
      "\u001b[1;31mAttributeError\u001b[0m: 'Medic' object has no attribute 'hp'"
     ]
    }
   ],
   "source": [
    "medic = Medic()\n",
    "medic.health, medic.hp\n",
    "#안되는데?"
   ]
  },
  {
   "cell_type": "code",
   "execution_count": null,
   "id": "82f20c0f",
   "metadata": {},
   "outputs": [],
   "source": [
    "medic.heal(m1)\n",
    "m1.health, m1.ap, m2.health, m2.ap"
   ]
  },
  {
   "cell_type": "code",
   "execution_count": null,
   "id": "c3f02fd6",
   "metadata": {},
   "outputs": [],
   "source": []
  }
 ],
 "metadata": {
  "kernelspec": {
   "display_name": "Python 3",
   "language": "python",
   "name": "python3"
  },
  "language_info": {
   "codemirror_mode": {
    "name": "ipython",
    "version": 3
   },
   "file_extension": ".py",
   "mimetype": "text/x-python",
   "name": "python",
   "nbconvert_exporter": "python",
   "pygments_lexer": "ipython3",
   "version": "3.8.8"
  }
 },
 "nbformat": 4,
 "nbformat_minor": 5
}
